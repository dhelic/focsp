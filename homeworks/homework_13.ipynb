{
 "cells": [
  {
   "cell_type": "code",
   "execution_count": 9,
   "id": "c711bfd2-fe15-4426-bcb4-ed26c8280e6d",
   "metadata": {
    "pycharm": {
     "is_executing": false
    }
   },
   "outputs": [],
   "source": [
    "import scipy.stats as stats\n",
    "import numpy as np"
   ]
  },
  {
   "cell_type": "markdown",
   "id": "3fb54dbe-a536-48d7-b9a7-1e2de327914f",
   "metadata": {
    "pycharm": {
     "name": "#%% md\n"
    }
   },
   "source": [
    "## Multiple testing and correction\n",
    "\n",
    "**Example.** Suppose we have a list of cities with the car driver velocities on weekdays and weekends. \n",
    "Test if the driving behavior in each city is different on weekdays as compared to weekends.\n",
    "We take $H_0$: no difference in driving behavior and test it against $H_1$: driving behavior is\n",
    "different at weekdays and weekends for a given city. You should use permutation test\n",
    "for the difference in means."
   ]
  },
  {
   "cell_type": "markdown",
   "id": "2c946782-7e55-4ad4-adf8-fe7b7bad52b8",
   "metadata": {},
   "source": [
    "We will generate our own dataset by generating car velocities at weekdays and weekends for \n",
    "a number of cities. We will repeat the experiment two times:\n",
    "1. In the first experiment the driving behavior will be same at weekdays and weekends.\n",
    "2. In the second experiment with probability p=0.05 the velocities at weekdays and weekends will \n",
    "come from different distributions.\n",
    "\n",
    "You should test for $H_0$ vs. $H_1$ for both cases once without correction and once with correction. Use the permutation test and compute the p-value. Make sure that you resample enough times to obtain good approximations for the p-value. Check the slides to learn about the permutation test and the correction.\n",
    "\n",
    "Check how many times your test states that the driving behavior is different for both cases (1) and (2). What can you conclude from your results?"
   ]
  },
  {
   "cell_type": "code",
   "execution_count": 8,
   "id": "89e8ae39-b062-4e0b-bbda-76605c2d8dae",
   "metadata": {
    "collapsed": false,
    "jupyter": {
     "outputs_hidden": false
    },
    "pycharm": {
     "is_executing": false,
     "name": "#%%\n"
    }
   },
   "outputs": [],
   "source": [
    "n_cities = 100\n",
    "n = 100\n",
    "m = 40\n",
    "p = 0.05\n",
    "\n",
    "mu_weekdays = 50\n",
    "mu_weekends = 100\n",
    "sigma = 5\n",
    "\n",
    "count_different = 0\n",
    "for i in range(n_cities):\n",
    "    x = stats.norm.rvs(loc=mu_weekdays, scale=sigma, size=n)\n",
    "    \n",
    "    # experiment 1: same behavior\n",
    "    y1 = stats.norm.rvs(loc=mu_weekdays, scale=sigma, size=m)\n",
    "    \n",
    "    # experiment 2: different behavior in 5% of the cases\n",
    "    if np.random.rand() <= p:\n",
    "        y2 = stats.norm.rvs(loc=mu_weekends, scale=sigma, size=m)\n",
    "        count_different += 1\n",
    "    else:\n",
    "        y2 = stats.norm.rvs(loc=mu_weekdays, scale=sigma, size=m)\n",
    "\n",
    "    # your code goes here\n",
    "    # perform the permutation test and compare x with y1 and then x with y2\n",
    "    # hint: write a function called permutation_test and invoke it from this loop"
   ]
  }
 ],
 "metadata": {
  "kernelspec": {
   "display_name": "Python 3 (ipykernel)",
   "language": "python",
   "name": "python3"
  },
  "language_info": {
   "codemirror_mode": {
    "name": "ipython",
    "version": 3
   },
   "file_extension": ".py",
   "mimetype": "text/x-python",
   "name": "python",
   "nbconvert_exporter": "python",
   "pygments_lexer": "ipython3",
   "version": "3.10.4"
  }
 },
 "nbformat": 4,
 "nbformat_minor": 5
}
