{
 "cells": [
  {
   "cell_type": "markdown",
   "id": "5c5f1411-b9e9-47fd-a70c-21ff039eecc0",
   "metadata": {},
   "source": [
    "### Exercise 1"
   ]
  },
  {
   "cell_type": "markdown",
   "id": "6063146a-8b1b-4ddc-bde7-ed444fec8389",
   "metadata": {},
   "source": [
    "#### Sum\n",
    "Calculate the sum of a list or a tuple and print the resulting sum. Solve this problem:\n",
    "\n",
    "* without using `sum()` for lists or tuples\n",
    "* with using `sum()` -> there are for a lot of simple tasks already built in functions in python look here: https://docs.python.org/3.9/library/functions.html\n",
    "\n",
    "**Example:**  \n",
    "```\n",
    "[1,2,3] -> 6\n",
    "(6, 90, 10, 15, 114, 25, 18, 91, 51) -> 420\n",
    "[63, 100, 48, 79, 4, 85, 26, 84, 16, 73, 58, 78, 87, 198, 321, 17] -> 1337\n",
    "```"
   ]
  },
  {
   "cell_type": "code",
   "execution_count": null,
   "id": "f689bfd4-405b-4fad-88da-9433ca53dc00",
   "metadata": {},
   "outputs": [],
   "source": [
    "# Your code goes here"
   ]
  },
  {
   "cell_type": "markdown",
   "id": "1ee3370b-30c6-41c6-8e7b-31e2cb938cb3",
   "metadata": {},
   "source": [
    "### Exercise 2"
   ]
  },
  {
   "cell_type": "markdown",
   "id": "312989a2-feec-45eb-9d6c-07bedc3c18b4",
   "metadata": {},
   "source": [
    "Compute `nested_sum` that works on a list of lists of integers and adds up the elements from all of the nested lists. Test your code by initializing at least three integer lists."
   ]
  },
  {
   "cell_type": "code",
   "execution_count": null,
   "id": "56fb3962-aec3-42fa-8480-41fdfd9e49e6",
   "metadata": {},
   "outputs": [],
   "source": [
    "# Your code goes here"
   ]
  },
  {
   "cell_type": "markdown",
   "id": "902904c1-2e32-491c-a44d-ceca39d82a71",
   "metadata": {},
   "source": [
    "### Exercise 3\n",
    "\n",
    "Implement the exhaustive enumeration algorithm for finding the cube root of a number x entered by the user. Use the error tolerance of $10^{-2}$ and a step size appropriate for that error tolerance. Output the solution and the number of steps that the algorithm needed to find the solution."
   ]
  },
  {
   "cell_type": "code",
   "execution_count": 1,
   "id": "80bdf919-45d8-40cf-be5e-149dc7459638",
   "metadata": {},
   "outputs": [],
   "source": [
    "# Your code goes here"
   ]
  }
 ],
 "metadata": {
  "kernelspec": {
   "display_name": "Python 3 (ipykernel)",
   "language": "python",
   "name": "python3"
  },
  "language_info": {
   "codemirror_mode": {
    "name": "ipython",
    "version": 3
   },
   "file_extension": ".py",
   "mimetype": "text/x-python",
   "name": "python",
   "nbconvert_exporter": "python",
   "pygments_lexer": "ipython3",
   "version": "3.10.4"
  }
 },
 "nbformat": 4,
 "nbformat_minor": 5
}
