{
 "cells": [
  {
   "cell_type": "markdown",
   "id": "60fa61e5-cd24-457f-b5d0-e554d9408ef3",
   "metadata": {},
   "source": [
    "### Exercise 1\n",
    "\n",
    "Create a list of student dictionaries defined below. Write a function, which nicely prints all the students including all of their data. The functions takes the student list as a parameter. Do not forget to test your code."
   ]
  },
  {
   "cell_type": "code",
   "execution_count": 2,
   "id": "fe34dd30-9a7f-4c48-b486-ac3f899601b7",
   "metadata": {},
   "outputs": [],
   "source": [
    "student1 = {'first': 'Max', 'last': 'Mustermann', 'matnr': 131211, 'grade': 2}\n",
    "student2 = {'first': 'Maria', 'last': 'Musterfrau', 'matnr': 12119, 'grade': 2}\n",
    "student3 = {'first': 'Lukas', 'last': 'Student', 'matnr': 13299, 'grade': 3}\n",
    "student4 = {'first': 'Lisa', 'last': 'Studentin', 'matnr': 131211, 'grade': 4}"
   ]
  },
  {
   "cell_type": "code",
   "execution_count": 10,
   "id": "9eb753cc-8720-485f-bab4-c035e097d09e",
   "metadata": {},
   "outputs": [],
   "source": [
    "# your code goes here"
   ]
  },
  {
   "cell_type": "markdown",
   "id": "58e6784d-2fa3-4b33-a697-f977d85c91c1",
   "metadata": {},
   "source": [
    "### Exercise 2\n",
    "\n",
    "Write a function, which computes the average student grade from the list of students. The list contains student dictionaries as in the previous exercise."
   ]
  },
  {
   "cell_type": "code",
   "execution_count": 9,
   "id": "4d5ffff1-de31-421a-b4b6-5b521aecd661",
   "metadata": {},
   "outputs": [],
   "source": [
    "# your code goes here"
   ]
  },
  {
   "cell_type": "markdown",
   "id": "df0496bb-37fe-4dc5-ae2e-62a8c170b9e9",
   "metadata": {},
   "source": [
    "### Exercise 3\n",
    "\n",
    "Compute the sum of first `n` natural numbers with a recursion."
   ]
  },
  {
   "cell_type": "code",
   "execution_count": 8,
   "id": "525d12de-e6fe-4257-a1dd-3c7345586386",
   "metadata": {},
   "outputs": [],
   "source": [
    "# your code goes here"
   ]
  },
  {
   "cell_type": "markdown",
   "id": "2e5168ad-8511-4df0-afc8-611656cf79cc",
   "metadata": {},
   "source": [
    "### Exercise 4\n",
    "\n",
    "Use the drawing code from below and produce the following pattern:\n",
    "\n",
    "![Order](square_order2.png)\n"
   ]
  },
  {
   "cell_type": "code",
   "execution_count": 1,
   "id": "775397ef-6edb-4f51-af6e-2da2a54ea230",
   "metadata": {},
   "outputs": [],
   "source": [
    "import matplotlib.pyplot as plt\n",
    "\n",
    "\n",
    "def setup():\n",
    "    plt.axis('off')\n",
    "    plt.gca().set_aspect('equal')\n",
    "\n",
    "\n",
    "def draw_square(x, y, a):\n",
    "    x1, y1 = [x, x], [y, y]\n",
    "    x2, y2 = [x + a, x + a], [y, y]\n",
    "    x3, y3 = [x + a, x + a], [y + a, y + a]\n",
    "    x4, y4 = [x, x], [y + a, y + a]\n",
    "    x = [x1, x2, x3, x4]\n",
    "    y = [y1, y2, y3, y4]\n",
    "    plt.fill(x, y, color='lightgrey', edgecolor='purple')\n",
    "    \n",
    "\n",
    "# your code goes here"
   ]
  }
 ],
 "metadata": {
  "kernelspec": {
   "display_name": "Python 3 (ipykernel)",
   "language": "python",
   "name": "python3"
  },
  "language_info": {
   "codemirror_mode": {
    "name": "ipython",
    "version": 3
   },
   "file_extension": ".py",
   "mimetype": "text/x-python",
   "name": "python",
   "nbconvert_exporter": "python",
   "pygments_lexer": "ipython3",
   "version": "3.10.4"
  }
 },
 "nbformat": 4,
 "nbformat_minor": 5
}
