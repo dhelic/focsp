{
 "cells": [
  {
   "cell_type": "code",
   "execution_count": 1,
   "id": "0d0ea80a-da93-4dc3-bd1f-6aaa4b31b40d",
   "metadata": {},
   "outputs": [
    {
     "name": "stdout",
     "output_type": "stream",
     "text": [
      "(-0.3475668941560758, 0.5289556464205057)\n",
      "(-0.2938043442753138, 0.4751930965397438)\n",
      "(-0.23905160308558632, 0.4491412165328954)\n"
     ]
    }
   ],
   "source": [
    "import scipy.stats as st\n",
    "import numpy as np\n",
    "import math\n",
    "\n",
    "\n",
    "class ConfidenceIntervals():\n",
    "    \n",
    "    def __init__(self, data, mean):\n",
    "        self.data = data\n",
    "        self.mean = mean\n",
    "        \n",
    "    def ci(self, alpha):\n",
    "        return self.mean - 2 * np.std(self.data, ddof=1), self.mean + 2 * np.std(self.data, ddof=1)\n",
    "    \n",
    "\n",
    "class ZScoreCI(ConfidenceIntervals):\n",
    "    \n",
    "    def __init__(self, data, mean, sigma):\n",
    "        ConfidenceIntervals.__init__(self, data, mean)\n",
    "        self.sigma = sigma\n",
    "    \n",
    "    def ci(self, alpha):\n",
    "        z_alpha_half = st.norm.ppf(1 - alpha / 2)\n",
    "        se = z_alpha_half * self.sigma / math.sqrt(len(self.data))\n",
    "        return self.mean - se, self.mean + se\n",
    "    \n",
    "\n",
    "class TScoreCI(ConfidenceIntervals):\n",
    "    \n",
    "    def ci(self, alpha):\n",
    "        s_n = np.std(self.data, ddof=1)\n",
    "        t_alpha_half = st.t.ppf(1 - alpha / 2, len(self.data) - 1)\n",
    "        se = t_alpha_half * s_n / math.sqrt(len(self.data))\n",
    "        return self.mean - se, self.mean + se\n",
    "    \n",
    "    \n",
    "class BootstrapCI(ConfidenceIntervals):\n",
    "    \n",
    "    def __init__(self, data, mean, sampler, size):\n",
    "        ConfidenceIntervals.__init__(self, data, mean)\n",
    "        self.sampler = sampler\n",
    "        self.size = size\n",
    "        \n",
    "    def ci(self, alpha):\n",
    "        samples = self.sampler.sample(self.data, self.mean, size=self.size)\n",
    "        delta = np.mean(samples, axis=0) - self.mean\n",
    "        return self.mean - np.quantile(delta, 1 - alpha / 2), self.mean - np.quantile(delta, alpha / 2)\n",
    "\n",
    "    \n",
    "class Sampler:\n",
    "    \n",
    "    def __init__(self, sampling_func):\n",
    "        self.sampling_func = sampling_func\n",
    "    \n",
    "    def sample(self, data, mean, size):\n",
    "        return self.sampling_func(data, (len(data), size))\n",
    "\n",
    "\n",
    "data = st.norm.rvs(size=20)\n",
    "zscore = ZScoreCI(data, np.mean(data), 1)\n",
    "print(zscore.ci(0.05))\n",
    "\n",
    "tscore = TScoreCI(data, np.mean(data))\n",
    "print(tscore.ci(0.05))\n",
    "\n",
    "bootci = BootstrapCI(data, np.mean(data), Sampler(np.random.choice), 1000)\n",
    "print(bootci.ci(0.05))"
   ]
  },
  {
   "cell_type": "code",
   "execution_count": null,
   "id": "27c972f7-019f-4fe2-a664-7692ef0e643c",
   "metadata": {},
   "outputs": [],
   "source": []
  }
 ],
 "metadata": {
  "kernelspec": {
   "display_name": "Python 3 (ipykernel)",
   "language": "python",
   "name": "python3"
  },
  "language_info": {
   "codemirror_mode": {
    "name": "ipython",
    "version": 3
   },
   "file_extension": ".py",
   "mimetype": "text/x-python",
   "name": "python",
   "nbconvert_exporter": "python",
   "pygments_lexer": "ipython3",
   "version": "3.10.4"
  }
 },
 "nbformat": 4,
 "nbformat_minor": 5
}
