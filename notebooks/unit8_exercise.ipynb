{
 "cells": [
  {
   "cell_type": "code",
   "execution_count": 3,
   "id": "75f446b1-b3da-406f-a8bc-9c2fee10fa9e",
   "metadata": {
    "tags": []
   },
   "outputs": [],
   "source": [
    "import pandas as pd"
   ]
  },
  {
   "cell_type": "markdown",
   "id": "83720b5c-5574-4875-9106-bda68267dd69",
   "metadata": {
    "tags": []
   },
   "source": [
    "# Data Science Example: Population and area of USA states"
   ]
  },
  {
   "cell_type": "markdown",
   "id": "83377d3f-82cf-46dc-8163-9df7d535d21a",
   "metadata": {
    "tags": []
   },
   "source": [
    "## 1.) Data loading "
   ]
  },
  {
   "cell_type": "markdown",
   "id": "0ecbd7f6-1b22-4df1-97c2-3de03ffd9713",
   "metadata": {
    "tags": []
   },
   "source": [
    "### Read the CSV file with read_csv"
   ]
  },
  {
   "cell_type": "code",
   "execution_count": 4,
   "id": "136599c5-066a-4780-a431-6872ff614264",
   "metadata": {
    "tags": []
   },
   "outputs": [],
   "source": [
    "df = pd.read_csv('states_full.csv')"
   ]
  },
  {
   "cell_type": "markdown",
   "id": "44af8eca-b582-4f11-8fa7-6627b6b7c864",
   "metadata": {
    "tags": []
   },
   "source": [
    "### Preview the data\n",
    "df.head() => show first n rows (default: n=5)\n",
    "\n",
    "df.tail() => show last n rows (default: n=5)\n",
    "\n",
    "len() => number of rows"
   ]
  },
  {
   "cell_type": "code",
   "execution_count": 5,
   "id": "63dd5bcc-880d-4f48-9925-c8191a38b2fd",
   "metadata": {
    "tags": []
   },
   "outputs": [
    {
     "data": {
      "text/html": [
       "<div>\n",
       "<style scoped>\n",
       "    .dataframe tbody tr th:only-of-type {\n",
       "        vertical-align: middle;\n",
       "    }\n",
       "\n",
       "    .dataframe tbody tr th {\n",
       "        vertical-align: top;\n",
       "    }\n",
       "\n",
       "    .dataframe thead th {\n",
       "        text-align: right;\n",
       "    }\n",
       "</style>\n",
       "<table border=\"1\" class=\"dataframe\">\n",
       "  <thead>\n",
       "    <tr style=\"text-align: right;\">\n",
       "      <th></th>\n",
       "      <th>state</th>\n",
       "      <th>area</th>\n",
       "      <th>population</th>\n",
       "    </tr>\n",
       "  </thead>\n",
       "  <tbody>\n",
       "    <tr>\n",
       "      <th>0</th>\n",
       "      <td>Alabama</td>\n",
       "      <td>135775</td>\n",
       "      <td>4888949.0</td>\n",
       "    </tr>\n",
       "    <tr>\n",
       "      <th>1</th>\n",
       "      <td>Alaska</td>\n",
       "      <td>1700134</td>\n",
       "      <td>738068.0</td>\n",
       "    </tr>\n",
       "    <tr>\n",
       "      <th>2</th>\n",
       "      <td>American Samoa</td>\n",
       "      <td>0</td>\n",
       "      <td>0.0</td>\n",
       "    </tr>\n",
       "    <tr>\n",
       "      <th>3</th>\n",
       "      <td>Arizona</td>\n",
       "      <td>295274</td>\n",
       "      <td>7123898.0</td>\n",
       "    </tr>\n",
       "    <tr>\n",
       "      <th>4</th>\n",
       "      <td>Arkansas</td>\n",
       "      <td>137741</td>\n",
       "      <td>3020327.0</td>\n",
       "    </tr>\n",
       "    <tr>\n",
       "      <th>5</th>\n",
       "      <td>California</td>\n",
       "      <td>423999</td>\n",
       "      <td>39776830.0</td>\n",
       "    </tr>\n",
       "    <tr>\n",
       "      <th>6</th>\n",
       "      <td>Colorado</td>\n",
       "      <td>269618</td>\n",
       "      <td>5684203.0</td>\n",
       "    </tr>\n",
       "    <tr>\n",
       "      <th>7</th>\n",
       "      <td>Connecticut</td>\n",
       "      <td>14359</td>\n",
       "      <td>3588683.0</td>\n",
       "    </tr>\n",
       "    <tr>\n",
       "      <th>8</th>\n",
       "      <td>Delaware</td>\n",
       "      <td>5061</td>\n",
       "      <td>NaN</td>\n",
       "    </tr>\n",
       "    <tr>\n",
       "      <th>9</th>\n",
       "      <td>District of Columbia</td>\n",
       "      <td>0</td>\n",
       "      <td>0.0</td>\n",
       "    </tr>\n",
       "  </tbody>\n",
       "</table>\n",
       "</div>"
      ],
      "text/plain": [
       "                  state     area  population\n",
       "0               Alabama   135775   4888949.0\n",
       "1                Alaska  1700134    738068.0\n",
       "2        American Samoa        0         0.0\n",
       "3               Arizona   295274   7123898.0\n",
       "4              Arkansas   137741   3020327.0\n",
       "5            California   423999  39776830.0\n",
       "6              Colorado   269618   5684203.0\n",
       "7           Connecticut    14359   3588683.0\n",
       "8              Delaware     5061         NaN\n",
       "9  District of Columbia        0         0.0"
      ]
     },
     "execution_count": 5,
     "metadata": {},
     "output_type": "execute_result"
    }
   ],
   "source": [
    "df.head(10) # first 10 rows"
   ]
  },
  {
   "cell_type": "code",
   "execution_count": 6,
   "id": "dc0dd6aa-250f-4769-b873-6a51625427ef",
   "metadata": {
    "tags": []
   },
   "outputs": [
    {
     "data": {
      "text/html": [
       "<div>\n",
       "<style scoped>\n",
       "    .dataframe tbody tr th:only-of-type {\n",
       "        vertical-align: middle;\n",
       "    }\n",
       "\n",
       "    .dataframe tbody tr th {\n",
       "        vertical-align: top;\n",
       "    }\n",
       "\n",
       "    .dataframe thead th {\n",
       "        text-align: right;\n",
       "    }\n",
       "</style>\n",
       "<table border=\"1\" class=\"dataframe\">\n",
       "  <thead>\n",
       "    <tr style=\"text-align: right;\">\n",
       "      <th></th>\n",
       "      <th>state</th>\n",
       "      <th>area</th>\n",
       "      <th>population</th>\n",
       "    </tr>\n",
       "  </thead>\n",
       "  <tbody>\n",
       "    <tr>\n",
       "      <th>49</th>\n",
       "      <td>Virgin Island</td>\n",
       "      <td>0</td>\n",
       "      <td>0.0</td>\n",
       "    </tr>\n",
       "    <tr>\n",
       "      <th>50</th>\n",
       "      <td>Washington</td>\n",
       "      <td>184674</td>\n",
       "      <td>7530552.0</td>\n",
       "    </tr>\n",
       "    <tr>\n",
       "      <th>51</th>\n",
       "      <td>West Virginia</td>\n",
       "      <td>62758</td>\n",
       "      <td>1803077.0</td>\n",
       "    </tr>\n",
       "    <tr>\n",
       "      <th>52</th>\n",
       "      <td>Wisconsin</td>\n",
       "      <td>169652</td>\n",
       "      <td>5818049.0</td>\n",
       "    </tr>\n",
       "    <tr>\n",
       "      <th>53</th>\n",
       "      <td>Wyoming</td>\n",
       "      <td>253348</td>\n",
       "      <td>573720.0</td>\n",
       "    </tr>\n",
       "  </tbody>\n",
       "</table>\n",
       "</div>"
      ],
      "text/plain": [
       "            state    area  population\n",
       "49  Virgin Island       0         0.0\n",
       "50     Washington  184674   7530552.0\n",
       "51  West Virginia   62758   1803077.0\n",
       "52      Wisconsin  169652   5818049.0\n",
       "53        Wyoming  253348    573720.0"
      ]
     },
     "execution_count": 6,
     "metadata": {},
     "output_type": "execute_result"
    }
   ],
   "source": [
    "df.tail() # last 5 rows"
   ]
  },
  {
   "cell_type": "code",
   "execution_count": 7,
   "id": "c934ac46-c389-4b4f-a27d-23d1520c4c45",
   "metadata": {
    "tags": []
   },
   "outputs": [
    {
     "data": {
      "text/plain": [
       "54"
      ]
     },
     "execution_count": 7,
     "metadata": {},
     "output_type": "execute_result"
    }
   ],
   "source": [
    "len(df) # how many rows?"
   ]
  },
  {
   "cell_type": "markdown",
   "id": "402b45ab-1e24-4feb-b2c0-587b5d0370b1",
   "metadata": {
    "tags": []
   },
   "source": [
    "## 2.) Preprocessing \n",
    "\n",
    "**Summary after data preview**\n",
    "- List contains 54 rows for USA states. But there are only 50 states, right?\n",
    "- Apparently, USA territorial regions are also included, but they have 0 values in all columns\n",
    "- There are also NaN values in the population column"
   ]
  },
  {
   "cell_type": "markdown",
   "id": "aefa6051-0343-4e89-9778-73465d450e67",
   "metadata": {
    "tags": []
   },
   "source": [
    "### Replace NaNs\n",
    "We could delete rows with missing values or replace them with some value. This value could be a fixed value, e.g., 5 million or a value computed from other values in that column.\n",
    "\n",
    "In our case, we decide to replace the NaNs with a rounded average population. The mean() computation ignores the NaNs and we will use that to replace the NaNs."
   ]
  },
  {
   "cell_type": "code",
   "execution_count": 8,
   "id": "3f76da0e-36ce-4412-a22e-5e5456bf954f",
   "metadata": {
    "tags": []
   },
   "outputs": [
    {
     "name": "stdout",
     "output_type": "stream",
     "text": [
      "Computed avg_population: 6158110\n"
     ]
    },
    {
     "data": {
      "text/html": [
       "<div>\n",
       "<style scoped>\n",
       "    .dataframe tbody tr th:only-of-type {\n",
       "        vertical-align: middle;\n",
       "    }\n",
       "\n",
       "    .dataframe tbody tr th {\n",
       "        vertical-align: top;\n",
       "    }\n",
       "\n",
       "    .dataframe thead th {\n",
       "        text-align: right;\n",
       "    }\n",
       "</style>\n",
       "<table border=\"1\" class=\"dataframe\">\n",
       "  <thead>\n",
       "    <tr style=\"text-align: right;\">\n",
       "      <th></th>\n",
       "      <th>state</th>\n",
       "      <th>area</th>\n",
       "      <th>population</th>\n",
       "    </tr>\n",
       "  </thead>\n",
       "  <tbody>\n",
       "    <tr>\n",
       "      <th>0</th>\n",
       "      <td>Alabama</td>\n",
       "      <td>135775</td>\n",
       "      <td>4888949.0</td>\n",
       "    </tr>\n",
       "    <tr>\n",
       "      <th>1</th>\n",
       "      <td>Alaska</td>\n",
       "      <td>1700134</td>\n",
       "      <td>738068.0</td>\n",
       "    </tr>\n",
       "    <tr>\n",
       "      <th>2</th>\n",
       "      <td>American Samoa</td>\n",
       "      <td>0</td>\n",
       "      <td>0.0</td>\n",
       "    </tr>\n",
       "    <tr>\n",
       "      <th>3</th>\n",
       "      <td>Arizona</td>\n",
       "      <td>295274</td>\n",
       "      <td>7123898.0</td>\n",
       "    </tr>\n",
       "    <tr>\n",
       "      <th>4</th>\n",
       "      <td>Arkansas</td>\n",
       "      <td>137741</td>\n",
       "      <td>3020327.0</td>\n",
       "    </tr>\n",
       "    <tr>\n",
       "      <th>5</th>\n",
       "      <td>California</td>\n",
       "      <td>423999</td>\n",
       "      <td>39776830.0</td>\n",
       "    </tr>\n",
       "    <tr>\n",
       "      <th>6</th>\n",
       "      <td>Colorado</td>\n",
       "      <td>269618</td>\n",
       "      <td>5684203.0</td>\n",
       "    </tr>\n",
       "    <tr>\n",
       "      <th>7</th>\n",
       "      <td>Connecticut</td>\n",
       "      <td>14359</td>\n",
       "      <td>3588683.0</td>\n",
       "    </tr>\n",
       "    <tr>\n",
       "      <th>8</th>\n",
       "      <td>Delaware</td>\n",
       "      <td>5061</td>\n",
       "      <td>6158110.0</td>\n",
       "    </tr>\n",
       "    <tr>\n",
       "      <th>9</th>\n",
       "      <td>District of Columbia</td>\n",
       "      <td>0</td>\n",
       "      <td>0.0</td>\n",
       "    </tr>\n",
       "  </tbody>\n",
       "</table>\n",
       "</div>"
      ],
      "text/plain": [
       "                  state     area  population\n",
       "0               Alabama   135775   4888949.0\n",
       "1                Alaska  1700134    738068.0\n",
       "2        American Samoa        0         0.0\n",
       "3               Arizona   295274   7123898.0\n",
       "4              Arkansas   137741   3020327.0\n",
       "5            California   423999  39776830.0\n",
       "6              Colorado   269618   5684203.0\n",
       "7           Connecticut    14359   3588683.0\n",
       "8              Delaware     5061   6158110.0\n",
       "9  District of Columbia        0         0.0"
      ]
     },
     "execution_count": 8,
     "metadata": {},
     "output_type": "execute_result"
    }
   ],
   "source": [
    "avg_population = round(df['population'].mean()) # this automatically excludes NaN values. We \n",
    "print(f'Computed avg_population: {avg_population}')\n",
    "\n",
    "# Fill missing values using fillna\n",
    "df['population'] = df['population'].fillna(avg_population)\n",
    "\n",
    "df.head(10) # show first 10 lines in DataFrame"
   ]
  },
  {
   "cell_type": "code",
   "execution_count": 9,
   "id": "8b692319-50b1-44f1-9c1c-93fcb6f71432",
   "metadata": {
    "tags": []
   },
   "outputs": [
    {
     "data": {
      "text/plain": [
       "array([ 4888949.,   738068.,        0.,  7123898.,  3020327., 39776830.,\n",
       "        5684203.,  3588683.,  6158110.,        0., 21312211., 10545138.,\n",
       "        1426393.,  1753860., 12768320.,  6699629.,  3160553.,  2918515.,\n",
       "        4472265.,  4682509.,  1341582.,  6079602.,  6895917.,  9991177.,\n",
       "        5628162.,  2982785.,  6158110.,  1062330.,  1932549.,  3056824.,\n",
       "        1350575.,  9032872.,  2090708., 19862512., 10390149.,   755238.,\n",
       "       11694664.,  3940521.,  4199563., 12823989.,        0.,  1061712.,\n",
       "        5088916.,   877790.,  6782564., 28704330.,  3159345.,   623960.,\n",
       "        8525660.,        0.,  7530552.,  1803077.,  5818049.,   573720.])"
      ]
     },
     "execution_count": 9,
     "metadata": {},
     "output_type": "execute_result"
    }
   ],
   "source": [
    "# Show values as numpy-Array, now we could also access by index \n",
    "df['population'].values"
   ]
  },
  {
   "cell_type": "markdown",
   "id": "8166bacb-39f6-4361-8901-2378e4156c89",
   "metadata": {
    "tags": []
   },
   "source": [
    "### Delete rows with errors\n",
    "In this case: Delete all the rows with area or population = 0\n",
    "=> \"Select only rows with area and population > 0\""
   ]
  },
  {
   "cell_type": "code",
   "execution_count": 12,
   "id": "d8e00aa8-7ab6-42ca-bfee-bbbaae485e5a",
   "metadata": {
    "tags": []
   },
   "outputs": [
    {
     "data": {
      "text/html": [
       "<div>\n",
       "<style scoped>\n",
       "    .dataframe tbody tr th:only-of-type {\n",
       "        vertical-align: middle;\n",
       "    }\n",
       "\n",
       "    .dataframe tbody tr th {\n",
       "        vertical-align: top;\n",
       "    }\n",
       "\n",
       "    .dataframe thead th {\n",
       "        text-align: right;\n",
       "    }\n",
       "</style>\n",
       "<table border=\"1\" class=\"dataframe\">\n",
       "  <thead>\n",
       "    <tr style=\"text-align: right;\">\n",
       "      <th></th>\n",
       "      <th>state</th>\n",
       "      <th>area</th>\n",
       "      <th>population</th>\n",
       "    </tr>\n",
       "  </thead>\n",
       "  <tbody>\n",
       "    <tr>\n",
       "      <th>0</th>\n",
       "      <td>Alabama</td>\n",
       "      <td>135775</td>\n",
       "      <td>4888949.0</td>\n",
       "    </tr>\n",
       "    <tr>\n",
       "      <th>1</th>\n",
       "      <td>Alaska</td>\n",
       "      <td>1700134</td>\n",
       "      <td>738068.0</td>\n",
       "    </tr>\n",
       "    <tr>\n",
       "      <th>3</th>\n",
       "      <td>Arizona</td>\n",
       "      <td>295274</td>\n",
       "      <td>7123898.0</td>\n",
       "    </tr>\n",
       "    <tr>\n",
       "      <th>4</th>\n",
       "      <td>Arkansas</td>\n",
       "      <td>137741</td>\n",
       "      <td>3020327.0</td>\n",
       "    </tr>\n",
       "    <tr>\n",
       "      <th>5</th>\n",
       "      <td>California</td>\n",
       "      <td>423999</td>\n",
       "      <td>39776830.0</td>\n",
       "    </tr>\n",
       "    <tr>\n",
       "      <th>6</th>\n",
       "      <td>Colorado</td>\n",
       "      <td>269618</td>\n",
       "      <td>5684203.0</td>\n",
       "    </tr>\n",
       "    <tr>\n",
       "      <th>7</th>\n",
       "      <td>Connecticut</td>\n",
       "      <td>14359</td>\n",
       "      <td>3588683.0</td>\n",
       "    </tr>\n",
       "    <tr>\n",
       "      <th>8</th>\n",
       "      <td>Delaware</td>\n",
       "      <td>5061</td>\n",
       "      <td>6158110.0</td>\n",
       "    </tr>\n",
       "    <tr>\n",
       "      <th>10</th>\n",
       "      <td>Florida</td>\n",
       "      <td>170313</td>\n",
       "      <td>21312211.0</td>\n",
       "    </tr>\n",
       "    <tr>\n",
       "      <th>11</th>\n",
       "      <td>Georgia</td>\n",
       "      <td>153952</td>\n",
       "      <td>10545138.0</td>\n",
       "    </tr>\n",
       "  </tbody>\n",
       "</table>\n",
       "</div>"
      ],
      "text/plain": [
       "          state     area  population\n",
       "0       Alabama   135775   4888949.0\n",
       "1        Alaska  1700134    738068.0\n",
       "3       Arizona   295274   7123898.0\n",
       "4      Arkansas   137741   3020327.0\n",
       "5    California   423999  39776830.0\n",
       "6      Colorado   269618   5684203.0\n",
       "7   Connecticut    14359   3588683.0\n",
       "8      Delaware     5061   6158110.0\n",
       "10      Florida   170313  21312211.0\n",
       "11      Georgia   153952  10545138.0"
      ]
     },
     "execution_count": 12,
     "metadata": {},
     "output_type": "execute_result"
    }
   ],
   "source": [
    "df = df[(df.area > 0) & (df.population > 0)]\n",
    "df.head(10)"
   ]
  },
  {
   "cell_type": "markdown",
   "id": "d578fe94-d6e5-47f3-8147-62f2d86a0aea",
   "metadata": {
    "tags": []
   },
   "source": [
    "### Prepare additional columns: Population in millions\n",
    "Rounded on 3 decimal places"
   ]
  },
  {
   "cell_type": "code",
   "execution_count": 13,
   "id": "93bd0dbe-3559-4487-85b9-0772ba4488d9",
   "metadata": {
    "tags": []
   },
   "outputs": [
    {
     "data": {
      "text/html": [
       "<div>\n",
       "<style scoped>\n",
       "    .dataframe tbody tr th:only-of-type {\n",
       "        vertical-align: middle;\n",
       "    }\n",
       "\n",
       "    .dataframe tbody tr th {\n",
       "        vertical-align: top;\n",
       "    }\n",
       "\n",
       "    .dataframe thead th {\n",
       "        text-align: right;\n",
       "    }\n",
       "</style>\n",
       "<table border=\"1\" class=\"dataframe\">\n",
       "  <thead>\n",
       "    <tr style=\"text-align: right;\">\n",
       "      <th></th>\n",
       "      <th>state</th>\n",
       "      <th>area</th>\n",
       "      <th>population</th>\n",
       "      <th>population_in_mil</th>\n",
       "    </tr>\n",
       "  </thead>\n",
       "  <tbody>\n",
       "    <tr>\n",
       "      <th>0</th>\n",
       "      <td>Alabama</td>\n",
       "      <td>135775</td>\n",
       "      <td>4888949.0</td>\n",
       "      <td>4.889</td>\n",
       "    </tr>\n",
       "    <tr>\n",
       "      <th>1</th>\n",
       "      <td>Alaska</td>\n",
       "      <td>1700134</td>\n",
       "      <td>738068.0</td>\n",
       "      <td>0.738</td>\n",
       "    </tr>\n",
       "    <tr>\n",
       "      <th>3</th>\n",
       "      <td>Arizona</td>\n",
       "      <td>295274</td>\n",
       "      <td>7123898.0</td>\n",
       "      <td>7.124</td>\n",
       "    </tr>\n",
       "    <tr>\n",
       "      <th>4</th>\n",
       "      <td>Arkansas</td>\n",
       "      <td>137741</td>\n",
       "      <td>3020327.0</td>\n",
       "      <td>3.020</td>\n",
       "    </tr>\n",
       "    <tr>\n",
       "      <th>5</th>\n",
       "      <td>California</td>\n",
       "      <td>423999</td>\n",
       "      <td>39776830.0</td>\n",
       "      <td>39.777</td>\n",
       "    </tr>\n",
       "  </tbody>\n",
       "</table>\n",
       "</div>"
      ],
      "text/plain": [
       "        state     area  population  population_in_mil\n",
       "0     Alabama   135775   4888949.0              4.889\n",
       "1      Alaska  1700134    738068.0              0.738\n",
       "3     Arizona   295274   7123898.0              7.124\n",
       "4    Arkansas   137741   3020327.0              3.020\n",
       "5  California   423999  39776830.0             39.777"
      ]
     },
     "execution_count": 13,
     "metadata": {},
     "output_type": "execute_result"
    }
   ],
   "source": [
    "df['population_in_mil'] = round(df['population'] / 10**6, 3)\n",
    "df.head() # show first 5 lines"
   ]
  },
  {
   "cell_type": "markdown",
   "id": "8052e7ca-bfa6-421e-abbc-82d2dfc44f77",
   "metadata": {},
   "source": [
    "### Store the DataFrame after preprocessing\n",
    "In most cases you want to store the DataFrame after preprocessing. Afterwards you can directly load this dataset and do not have to repeat the preprocessing steps."
   ]
  },
  {
   "cell_type": "code",
   "execution_count": 10,
   "id": "36e85a4f-aa3e-4868-890f-cca382b1969f",
   "metadata": {},
   "outputs": [],
   "source": [
    "df.to_csv('states_full_preprocessed.csv', index=False) # do not store the index in this case"
   ]
  },
  {
   "cell_type": "markdown",
   "id": "a556d0f3-6da2-4372-b533-1f81de259ad8",
   "metadata": {
    "tags": []
   },
   "source": [
    "## 3.) Data Exploration"
   ]
  },
  {
   "cell_type": "markdown",
   "id": "f5021158-6a59-426f-900f-c1e70a1c2efb",
   "metadata": {
    "tags": []
   },
   "source": [
    "### Loading of the preprocessed DataFrames"
   ]
  },
  {
   "cell_type": "code",
   "execution_count": 15,
   "id": "22d06cf1-1040-4fbf-85c2-0901d3823748",
   "metadata": {},
   "outputs": [
    {
     "data": {
      "text/html": [
       "<div>\n",
       "<style scoped>\n",
       "    .dataframe tbody tr th:only-of-type {\n",
       "        vertical-align: middle;\n",
       "    }\n",
       "\n",
       "    .dataframe tbody tr th {\n",
       "        vertical-align: top;\n",
       "    }\n",
       "\n",
       "    .dataframe thead th {\n",
       "        text-align: right;\n",
       "    }\n",
       "</style>\n",
       "<table border=\"1\" class=\"dataframe\">\n",
       "  <thead>\n",
       "    <tr style=\"text-align: right;\">\n",
       "      <th></th>\n",
       "      <th>state</th>\n",
       "      <th>area</th>\n",
       "      <th>population</th>\n",
       "      <th>population_in_mil</th>\n",
       "    </tr>\n",
       "  </thead>\n",
       "  <tbody>\n",
       "    <tr>\n",
       "      <th>0</th>\n",
       "      <td>Alabama</td>\n",
       "      <td>135775</td>\n",
       "      <td>4888949.0</td>\n",
       "      <td>4.889</td>\n",
       "    </tr>\n",
       "    <tr>\n",
       "      <th>1</th>\n",
       "      <td>Alaska</td>\n",
       "      <td>1700134</td>\n",
       "      <td>738068.0</td>\n",
       "      <td>0.738</td>\n",
       "    </tr>\n",
       "    <tr>\n",
       "      <th>2</th>\n",
       "      <td>Arizona</td>\n",
       "      <td>295274</td>\n",
       "      <td>7123898.0</td>\n",
       "      <td>7.124</td>\n",
       "    </tr>\n",
       "    <tr>\n",
       "      <th>3</th>\n",
       "      <td>Arkansas</td>\n",
       "      <td>137741</td>\n",
       "      <td>3020327.0</td>\n",
       "      <td>3.020</td>\n",
       "    </tr>\n",
       "    <tr>\n",
       "      <th>4</th>\n",
       "      <td>California</td>\n",
       "      <td>423999</td>\n",
       "      <td>39776830.0</td>\n",
       "      <td>39.777</td>\n",
       "    </tr>\n",
       "  </tbody>\n",
       "</table>\n",
       "</div>"
      ],
      "text/plain": [
       "        state     area  population  population_in_mil\n",
       "0     Alabama   135775   4888949.0              4.889\n",
       "1      Alaska  1700134    738068.0              0.738\n",
       "2     Arizona   295274   7123898.0              7.124\n",
       "3    Arkansas   137741   3020327.0              3.020\n",
       "4  California   423999  39776830.0             39.777"
      ]
     },
     "execution_count": 15,
     "metadata": {},
     "output_type": "execute_result"
    }
   ],
   "source": [
    "df = pd.read_csv('states_full_preprocessed.csv')\n",
    "df.head() # validate loading by showing first 5 lines"
   ]
  },
  {
   "cell_type": "markdown",
   "id": "54e1b856-103a-49d1-a91b-a635caff02b6",
   "metadata": {
    "tags": []
   },
   "source": [
    "### Get a \"feel\" for the value variation in the population column.\n",
    "Show the minimal and maximal values"
   ]
  },
  {
   "cell_type": "code",
   "execution_count": 16,
   "id": "936a3e7e-22ad-4173-81a4-f325cfb7427f",
   "metadata": {
    "tags": []
   },
   "outputs": [
    {
     "name": "stdout",
     "output_type": "stream",
     "text": [
      "Min. Population: 573720.0\n",
      "Max. Population: 39776830.0\n"
     ]
    }
   ],
   "source": [
    "pop_min = df['population'].min()\n",
    "pop_max = df['population'].max()\n",
    "print(f'Min. Population: {pop_min}')\n",
    "print(f'Max. Population: {pop_max}')"
   ]
  },
  {
   "cell_type": "markdown",
   "id": "b5de19bf-65c2-4315-8409-4e77de504dee",
   "metadata": {
    "tags": []
   },
   "source": [
    "### Plot the area data:\n",
    "We will plot a bar chart."
   ]
  },
  {
   "cell_type": "code",
   "execution_count": 17,
   "id": "a67c4c6b-ea28-4263-a1d4-f487c1474fa2",
   "metadata": {
    "tags": []
   },
   "outputs": [
    {
     "data": {
      "image/png": "[encoded data removed]",
      "text/plain": [
       "<Figure size 432x288 with 1 Axes>"
      ]
     },
     "metadata": {
      "needs_background": "light"
     },
     "output_type": "display_data"
    }
   ],
   "source": [
    "fig_ax = df.plot(x='state', y='area', title='Area per State', kind='bar')"
   ]
  },
  {
   "cell_type": "markdown",
   "id": "6ddf87e2-1157-47df-9d07-13860f7723eb",
   "metadata": {
    "tags": []
   },
   "source": [
    "### Summary of data exploration\n",
    "- The variability in the data is large\n",
    "    - We checked this with min/max values for population, but there are other measures as well (What did you learn in the statistics class?)\n",
    "    - ... and for area with a bar chart."
   ]
  },
  {
   "cell_type": "markdown",
   "id": "5c36a53a-51ba-42c4-8027-b39aa34661c9",
   "metadata": {
    "tags": []
   },
   "source": [
    "## 4.) Prepare the data and perform computations"
   ]
  },
  {
   "cell_type": "markdown",
   "id": "3f0f21d6-c628-4763-ab08-684160a1c849",
   "metadata": {
    "tags": []
   },
   "source": [
    "### What is the population density pro km² for all states?\n",
    "Compute the density and add it as a new column. Print the first few rows to test the computation."
   ]
  },
  {
   "cell_type": "code",
   "execution_count": 1,
   "id": "a8785736-4dc8-4618-b39e-0e858a9bd220",
   "metadata": {
    "tags": []
   },
   "outputs": [],
   "source": [
    "# your code goes here"
   ]
  },
  {
   "cell_type": "markdown",
   "id": "8f09fe79-b3a4-4369-8231-02e31b94ab88",
   "metadata": {
    "tags": []
   },
   "source": [
    "### What is the population density pro mi² for all states?\n",
    "Compute the density and add it as a new column. Print the first few rows to test the computation."
   ]
  },
  {
   "cell_type": "code",
   "execution_count": 2,
   "id": "ff48345f-c63f-4020-bdbe-3e6c4f55d0d1",
   "metadata": {
    "tags": []
   },
   "outputs": [],
   "source": [
    "# your code goes here"
   ]
  },
  {
   "cell_type": "markdown",
   "id": "24eabefe-ed80-408d-a1fa-691920819222",
   "metadata": {
    "tags": []
   },
   "source": [
    "### What is the total population and the total area of the USA?"
   ]
  },
  {
   "cell_type": "code",
   "execution_count": 3,
   "id": "816fc498-8149-4bf0-8beb-5442ab9e3370",
   "metadata": {
    "tags": []
   },
   "outputs": [],
   "source": [
    "# your code goes here"
   ]
  },
  {
   "cell_type": "markdown",
   "id": "75bca6f2-da7c-449d-a53f-f3b7fba4bde3",
   "metadata": {
    "tags": []
   },
   "source": [
    "### What is the percentage of the total population living in California? (Rounded on three decimal places)"
   ]
  },
  {
   "cell_type": "code",
   "execution_count": 4,
   "id": "30af3781-d52c-465b-994a-08193a3ff6e0",
   "metadata": {
    "tags": []
   },
   "outputs": [],
   "source": [
    "# your code goes here"
   ]
  },
  {
   "cell_type": "markdown",
   "id": "e50f4d48-20da-40c9-b2f1-950fc02391aa",
   "metadata": {
    "tags": []
   },
   "source": [
    "#### What states have less population and area than Austria?\n",
    "Print also the number and percentage of the states that fulfill this criteria.\n",
    "\n",
    "Hint: Austria has ~9 million people and area of ~84000 km²."
   ]
  },
  {
   "cell_type": "code",
   "execution_count": 5,
   "id": "cb413bc2-17e6-42ab-9eb7-5570c3214d39",
   "metadata": {
    "tags": []
   },
   "outputs": [],
   "source": [
    "# your code goes here"
   ]
  },
  {
   "cell_type": "markdown",
   "id": "10da304e-2f0d-4876-86d0-7b53bc8c4d71",
   "metadata": {
    "tags": []
   },
   "source": [
    "### What states have \"Kansas\" in name?\n",
    "Query should be case-insensitive."
   ]
  },
  {
   "cell_type": "code",
   "execution_count": 7,
   "id": "300304cd-2b22-400c-b9d8-4169e7238f7e",
   "metadata": {
    "tags": []
   },
   "outputs": [],
   "source": [
    "# your code goes here"
   ]
  },
  {
   "cell_type": "markdown",
   "id": "115f7c27-ded3-40bc-a0c1-def7dadc1f96",
   "metadata": {
    "tags": []
   },
   "source": [
    "### Plot a bar chart of states with density larger than 10"
   ]
  },
  {
   "cell_type": "code",
   "execution_count": 1,
   "id": "3bd49679-f69c-42f8-9d6a-f23ba4e637e2",
   "metadata": {
    "tags": []
   },
   "outputs": [],
   "source": [
    "# your code goes here"
   ]
  }
 ],
 "metadata": {
  "kernelspec": {
   "display_name": "Python 3 (ipykernel)",
   "language": "python",
   "name": "python3"
  },
  "language_info": {
   "codemirror_mode": {
    "name": "ipython",
    "version": 3
   },
   "file_extension": ".py",
   "mimetype": "text/x-python",
   "name": "python",
   "nbconvert_exporter": "python",
   "pygments_lexer": "ipython3",
   "version": "3.10.4"
  }
 },
 "nbformat": 4,
 "nbformat_minor": 5
}
