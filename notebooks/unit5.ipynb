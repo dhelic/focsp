{
 "cells": [
  {
   "cell_type": "markdown",
   "id": "da69df01-c058-4c94-b18e-efd6cdcd6162",
   "metadata": {},
   "source": [
    "# Lists"
   ]
  },
  {
   "cell_type": "code",
   "execution_count": 1,
   "id": "169064b2-0a05-48f1-b59b-a6fc8b3a49c8",
   "metadata": {
    "pycharm": {
     "is_executing": false,
     "name": "#%%\n"
    }
   },
   "outputs": [
    {
     "name": "stdout",
     "output_type": "stream",
     "text": [
      "['VW', 'Audi', 'Ford', 'Dodge']\n"
     ]
    }
   ],
   "source": [
    "cars = ['VW', 'Audi', 'Ford', 'Dodge']\n",
    "print(cars)"
   ]
  },
  {
   "cell_type": "code",
   "execution_count": 2,
   "id": "5a8ebea1-d3ea-4fea-bd1a-f76824297d3c",
   "metadata": {
    "pycharm": {
     "is_executing": false,
     "name": "#%%\n"
    }
   },
   "outputs": [
    {
     "name": "stdout",
     "output_type": "stream",
     "text": [
      "Ford\n"
     ]
    }
   ],
   "source": [
    "favorite_car = cars[2] # What is my favorite Car?\n",
    "print(favorite_car)"
   ]
  },
  {
   "cell_type": "code",
   "execution_count": 3,
   "id": "8f152ce2-bea3-4baa-a59a-12be1bc77776",
   "metadata": {
    "pycharm": {
     "is_executing": false,
     "name": "#%%\n"
    }
   },
   "outputs": [
    {
     "name": "stdout",
     "output_type": "stream",
     "text": [
      "Dodge\n"
     ]
    }
   ],
   "source": [
    "print(cars[-1])"
   ]
  },
  {
   "cell_type": "code",
   "execution_count": 4,
   "id": "2752fed3-3cf7-4b99-b910-9316365f5a6d",
   "metadata": {
    "pycharm": {
     "is_executing": false,
     "name": "#%%\n"
    }
   },
   "outputs": [
    {
     "ename": "IndexError",
     "evalue": "list index out of range",
     "output_type": "error",
     "traceback": [
      "\u001b[1;31m---------------------------------------------------------------------------\u001b[0m",
      "\u001b[1;31mIndexError\u001b[0m                                Traceback (most recent call last)",
      "Input \u001b[1;32mIn [4]\u001b[0m, in \u001b[0;36m<cell line: 1>\u001b[1;34m()\u001b[0m\n\u001b[1;32m----> 1\u001b[0m \u001b[38;5;28mprint\u001b[39m(\u001b[43mcars\u001b[49m\u001b[43m[\u001b[49m\u001b[38;5;241;43m4\u001b[39;49m\u001b[43m]\u001b[49m)\n",
      "\u001b[1;31mIndexError\u001b[0m: list index out of range"
     ]
    }
   ],
   "source": [
    "print(cars[4]) "
   ]
  },
  {
   "cell_type": "code",
   "execution_count": 5,
   "id": "8c0d2892-21ef-4f38-b0eb-ee088ab3d1c7",
   "metadata": {
    "pycharm": {
     "is_executing": false,
     "name": "#%%\n"
    }
   },
   "outputs": [
    {
     "name": "stdout",
     "output_type": "stream",
     "text": [
      "Dodge\n"
     ]
    }
   ],
   "source": [
    "print(cars[3])"
   ]
  },
  {
   "cell_type": "code",
   "execution_count": 6,
   "id": "01ed0dc2-d580-4cf7-8709-50542dfacc76",
   "metadata": {
    "pycharm": {
     "is_executing": false,
     "name": "#%%\n"
    }
   },
   "outputs": [
    {
     "name": "stdout",
     "output_type": "stream",
     "text": [
      "['Skoda', 'Audi', 'Ford', 'Dodge']\n"
     ]
    }
   ],
   "source": [
    "# Replacing and Inserting\n",
    "cars[0] = 'Skoda'\n",
    "print(cars)"
   ]
  },
  {
   "cell_type": "code",
   "execution_count": 7,
   "id": "800212e4-8cfc-4a11-8b73-69731ca6c1cc",
   "metadata": {
    "pycharm": {
     "is_executing": false,
     "name": "#%%\n"
    }
   },
   "outputs": [
    {
     "name": "stdout",
     "output_type": "stream",
     "text": [
      "['Skoda', 'Audi', 'Ford', 'Dodge', 'Tesla']\n"
     ]
    }
   ],
   "source": [
    "cars.append('Tesla')\n",
    "print(cars)"
   ]
  },
  {
   "cell_type": "code",
   "execution_count": 8,
   "id": "b139863f-66ed-4bad-9138-0baba5cc8b31",
   "metadata": {
    "pycharm": {
     "is_executing": false,
     "name": "#%%\n"
    }
   },
   "outputs": [
    {
     "name": "stdout",
     "output_type": "stream",
     "text": [
      "['Skoda', 'Rolls-Royce', 'Audi', 'Ford', 'Dodge', 'Tesla']\n"
     ]
    }
   ],
   "source": [
    "cars.insert(1, 'Rolls-Royce')\n",
    "print(cars)"
   ]
  },
  {
   "cell_type": "code",
   "execution_count": 9,
   "id": "f93e9ce7-e157-4fd8-8b3b-6d4084851643",
   "metadata": {
    "pycharm": {
     "is_executing": false,
     "name": "#%%\n"
    }
   },
   "outputs": [
    {
     "name": "stdout",
     "output_type": "stream",
     "text": [
      "['Skoda', 'Audi', 'Ford', 'Dodge', 'Tesla']\n"
     ]
    }
   ],
   "source": [
    "# Deleting\n",
    "del cars[1]\n",
    "print(cars)"
   ]
  },
  {
   "cell_type": "code",
   "execution_count": 10,
   "id": "4f8a5ea4-e712-475e-ac8e-0e398923ee85",
   "metadata": {
    "pycharm": {
     "is_executing": false,
     "name": "#%%\n"
    }
   },
   "outputs": [
    {
     "name": "stdout",
     "output_type": "stream",
     "text": [
      "Removed Tesla\n",
      "Removed2 Audi\n",
      "['Ford', 'Dodge']\n"
     ]
    }
   ],
   "source": [
    "# Remove cars\n",
    "removed_car1 = cars.pop()\n",
    "print('Removed', removed_car1)\n",
    "removed_car2 = cars.pop(1)\n",
    "print('Removed2', removed_car2)\n",
    "cars.remove('Skoda')\n",
    "print(cars)"
   ]
  },
  {
   "cell_type": "code",
   "execution_count": 11,
   "id": "508d9483-a6de-4019-a8d5-891b3d9324e8",
   "metadata": {
    "pycharm": {
     "is_executing": false,
     "name": "#%%\n"
    }
   },
   "outputs": [
    {
     "name": "stdout",
     "output_type": "stream",
     "text": [
      "First two ['VW', 'Audi']\n",
      "Last two ['Ford', 'Dodge']\n",
      "Every second car ['VW', 'Ford']\n",
      "Reverse ['Dodge', 'Ford', 'Audi', 'VW']\n",
      "See String slicing in Jupyter notebook of last lecture for more examples!\n"
     ]
    }
   ],
   "source": [
    "# Slicing\n",
    "cars = ['VW', 'Audi', 'Ford', 'Dodge']\n",
    "print('First two', cars[:2])\n",
    "print('Last two', cars[2:])\n",
    "print('Every second car', cars[::2])\n",
    "print('Reverse', cars[::-1])\n",
    "print('See String slicing in Jupyter notebook of last lecture for more examples!')"
   ]
  },
  {
   "cell_type": "code",
   "execution_count": 12,
   "id": "c172b0a1-2bad-44b9-a1cf-83a2ab2bf0ca",
   "metadata": {
    "pycharm": {
     "is_executing": false,
     "name": "#%%\n"
    }
   },
   "outputs": [
    {
     "name": "stdout",
     "output_type": "stream",
     "text": [
      "False\n"
     ]
    }
   ],
   "source": [
    "cars = ['VW', 'Audi', 'Ford', 'Dodge']\n",
    "is_skoda_a_car = 'Skoda' in cars\n",
    "print(is_skoda_a_car) # what is the output?"
   ]
  },
  {
   "cell_type": "code",
   "execution_count": 13,
   "id": "ca27c229-f76c-4283-a954-cf1562ca899e",
   "metadata": {
    "pycharm": {
     "is_executing": false,
     "name": "#%%\n"
    }
   },
   "outputs": [
    {
     "name": "stdout",
     "output_type": "stream",
     "text": [
      "False\n"
     ]
    }
   ],
   "source": [
    "print('Audi' not in cars)"
   ]
  },
  {
   "cell_type": "code",
   "execution_count": 14,
   "id": "87da769c-5ec9-47be-bbe2-c05ad9c2ffbb",
   "metadata": {
    "pycharm": {
     "is_executing": false,
     "name": "#%%\n"
    }
   },
   "outputs": [
    {
     "name": "stdout",
     "output_type": "stream",
     "text": [
      "sorted cars ['Audi', 'Dodge', 'Ford', 'VW']\n",
      "original cars ['VW', 'Audi', 'Ford', 'Dodge']\n",
      "original, sorted cars ['Audi', 'Dodge', 'Ford', 'VW']\n"
     ]
    }
   ],
   "source": [
    "# Sort\n",
    "cars = ['VW', 'Audi', 'Ford', 'Dodge']\n",
    "cars_sorted = sorted(cars)\n",
    "print('sorted cars', cars_sorted)\n",
    "print('original cars', cars)\n",
    "cars.sort()\n",
    "print('original, sorted cars', cars)"
   ]
  },
  {
   "cell_type": "code",
   "execution_count": 15,
   "id": "a61f2188-d150-457f-815b-f23caa4758dd",
   "metadata": {
    "pycharm": {
     "is_executing": false,
     "name": "#%%\n"
    }
   },
   "outputs": [
    {
     "name": "stdout",
     "output_type": "stream",
     "text": [
      "reversed cars ['Dodge', 'Ford', 'Audi', 'VW']\n",
      "original cars ['VW', 'Audi', 'Ford', 'Dodge']\n",
      "original, reversed cars ['Dodge', 'Ford', 'Audi', 'VW']\n",
      "Reversed the reversed list, this time by slicing ['VW', 'Audi', 'Ford', 'Dodge']\n"
     ]
    }
   ],
   "source": [
    "# Reverse\n",
    "cars = ['VW', 'Audi', 'Ford', 'Dodge']\n",
    "cars_reversed = list(reversed(cars))\n",
    "print('reversed cars', cars_reversed)\n",
    "print('original cars', cars)\n",
    "cars.reverse()\n",
    "print('original, reversed cars', cars)\n",
    "\n",
    "cars_reversed2 = cars[::-1]\n",
    "print('Reversed the reversed list, this time by slicing', cars_reversed2)"
   ]
  },
  {
   "cell_type": "markdown",
   "id": "bb6f35ad-098e-44c2-9035-fc310f49e6bb",
   "metadata": {},
   "source": [
    "### Tuples (immutable, ordered)"
   ]
  },
  {
   "cell_type": "code",
   "execution_count": 16,
   "id": "d602504b-7711-4a72-b44a-e1820f68d23d",
   "metadata": {},
   "outputs": [
    {
     "name": "stdout",
     "output_type": "stream",
     "text": [
      "(1, 2, 3)\n"
     ]
    }
   ],
   "source": [
    "fixed_numbers = (1, 2, 3)\n",
    "print(fixed_numbers)"
   ]
  },
  {
   "cell_type": "code",
   "execution_count": 17,
   "id": "28664d93-a0b2-4340-b259-69a33aeeadab",
   "metadata": {},
   "outputs": [
    {
     "name": "stdout",
     "output_type": "stream",
     "text": [
      "Indexing is similar to lists: 2\n"
     ]
    }
   ],
   "source": [
    "fixed_numbers = (1, 2, 3)\n",
    "print(f'Indexing is similar to lists: {fixed_numbers[1]}')"
   ]
  },
  {
   "cell_type": "code",
   "execution_count": 18,
   "id": "c303eee4-ddae-46a8-941f-2ad3c13f3546",
   "metadata": {},
   "outputs": [
    {
     "name": "stdout",
     "output_type": "stream",
     "text": [
      "Indexing is similar to lists, another example: (1, 2)\n"
     ]
    }
   ],
   "source": [
    "fixed_numbers = (1, 2, 3)\n",
    "print(f'Indexing is similar to lists, another example: {fixed_numbers[0:2]}')"
   ]
  },
  {
   "cell_type": "code",
   "execution_count": 19,
   "id": "687ee0db-a5d6-4743-be7d-8dd50194d8ad",
   "metadata": {},
   "outputs": [
    {
     "name": "stdout",
     "output_type": "stream",
     "text": [
      "Length == 3\n"
     ]
    }
   ],
   "source": [
    "# Same function with len\n",
    "fixed_numbers = (1, 2, 3)\n",
    "print('Length ==', len(fixed_numbers))"
   ]
  },
  {
   "cell_type": "code",
   "execution_count": 20,
   "id": "5e45cd8d-d142-4861-a519-6578ccae983b",
   "metadata": {},
   "outputs": [
    {
     "ename": "TypeError",
     "evalue": "'tuple' object does not support item assignment",
     "output_type": "error",
     "traceback": [
      "\u001b[1;31m---------------------------------------------------------------------------\u001b[0m",
      "\u001b[1;31mTypeError\u001b[0m                                 Traceback (most recent call last)",
      "Input \u001b[1;32mIn [20]\u001b[0m, in \u001b[0;36m<cell line: 3>\u001b[1;34m()\u001b[0m\n\u001b[0;32m      1\u001b[0m \u001b[38;5;66;03m# BUT: tuples are immutable\u001b[39;00m\n\u001b[0;32m      2\u001b[0m fixed_numbers \u001b[38;5;241m=\u001b[39m (\u001b[38;5;241m1\u001b[39m, \u001b[38;5;241m2\u001b[39m, \u001b[38;5;241m3\u001b[39m)\n\u001b[1;32m----> 3\u001b[0m fixed_numbers[\u001b[38;5;241m0\u001b[39m] \u001b[38;5;241m=\u001b[39m \u001b[38;5;241m13\u001b[39m\n\u001b[0;32m      4\u001b[0m \u001b[38;5;28mprint\u001b[39m(fixed_numbers)\n",
      "\u001b[1;31mTypeError\u001b[0m: 'tuple' object does not support item assignment"
     ]
    }
   ],
   "source": [
    "# BUT: tuples are immutable\n",
    "fixed_numbers = (1, 2, 3)\n",
    "fixed_numbers[0] = 13\n",
    "print(fixed_numbers)"
   ]
  },
  {
   "cell_type": "markdown",
   "id": "d214f47a-3828-422d-9939-12aa764138c8",
   "metadata": {},
   "source": [
    "## Numerical lists with range"
   ]
  },
  {
   "cell_type": "code",
   "execution_count": 21,
   "id": "f77ab179-bd9e-4060-9484-265077bd3848",
   "metadata": {},
   "outputs": [
    {
     "name": "stdout",
     "output_type": "stream",
     "text": [
      "range(0, 10)\n"
     ]
    }
   ],
   "source": [
    "# from ? to ?\n",
    "print(range(10))"
   ]
  },
  {
   "cell_type": "code",
   "execution_count": 22,
   "id": "094db0c3-8d79-456b-b10d-cc5827a4c866",
   "metadata": {},
   "outputs": [
    {
     "name": "stdout",
     "output_type": "stream",
     "text": [
      "[0, 1, 2, 3, 4, 5, 6, 7, 8, 9]\n"
     ]
    }
   ],
   "source": [
    "# Don't forget to cast when using range as a list!\n",
    "print(list(range(10)))"
   ]
  },
  {
   "cell_type": "code",
   "execution_count": 23,
   "id": "c37061c9-7ec6-45c1-a44b-a5582720507d",
   "metadata": {},
   "outputs": [
    {
     "name": "stdout",
     "output_type": "stream",
     "text": [
      "[0, 1, 2, 3, 4, 5, 6, 7, 8, 9]\n",
      "[1, 2, 3, 4]\n",
      "[1, 4, 7]\n"
     ]
    }
   ],
   "source": [
    "list1 = list(range(10))\n",
    "list2 = list(range(1, 5))\n",
    "list3 = list(range(1, 10, 3))\n",
    "print(list1)\n",
    "print(list2)\n",
    "print(list3)"
   ]
  },
  {
   "cell_type": "code",
   "execution_count": 24,
   "id": "e8fe8008-75f1-413d-9d79-df90bd97bc6e",
   "metadata": {},
   "outputs": [
    {
     "name": "stdout",
     "output_type": "stream",
     "text": [
      "Min 1\n",
      "Max 100\n",
      "Sum 5050\n",
      "Average 50.5\n"
     ]
    }
   ],
   "source": [
    "# Statistics\n",
    "num_list = list(range(1, 101))\n",
    "print('Min', min(num_list))\n",
    "print('Max', max(num_list))\n",
    "print('Sum', sum(num_list))\n",
    "\n",
    "print('Average', sum(num_list) / len(num_list))"
   ]
  },
  {
   "cell_type": "markdown",
   "id": "21490dd1-102e-4493-b1f4-c5d94b6e73be",
   "metadata": {},
   "source": [
    "# for-Loops"
   ]
  },
  {
   "cell_type": "markdown",
   "id": "1bbb2fe1-8d6b-4e3c-ac82-8232b3022d3b",
   "metadata": {},
   "source": [
    "## Basics"
   ]
  },
  {
   "cell_type": "code",
   "execution_count": 25,
   "id": "96f8de56-9fbd-464a-a9d9-2b87d04a4388",
   "metadata": {},
   "outputs": [
    {
     "name": "stdout",
     "output_type": "stream",
     "text": [
      "I love maths!\n",
      "I love english!\n",
      "I love computer science!\n",
      "I love geology!\n",
      "I love physics!\n"
     ]
    }
   ],
   "source": [
    "lectures = ['maths', 'english', 'computer science', 'geology', 'physics']\n",
    "\n",
    "for lecture in lectures:\n",
    "    print(f'I love {lecture}!')"
   ]
  },
  {
   "cell_type": "code",
   "execution_count": 27,
   "id": "232f58ac-73e7-4400-81ea-aeade8f752e8",
   "metadata": {},
   "outputs": [
    {
     "name": "stdout",
     "output_type": "stream",
     "text": [
      "I love Maths!\n",
      "I love English!\n",
      "I love Computer Science!\n",
      "I love Geology!\n",
      "I love Physics!\n",
      "These are all the lectures I love.\n"
     ]
    }
   ],
   "source": [
    "lectures = ['maths', 'english', 'computer science', 'geology', 'physics']\n",
    "\n",
    "for lecture in lectures:\n",
    "    capitalized_lecture = lecture.title()\n",
    "    print(f'I love {capitalized_lecture}!')\n",
    "print('These are all the lectures I love.')"
   ]
  },
  {
   "cell_type": "code",
   "execution_count": 28,
   "id": "ae30089a-9766-4b8a-aab0-b6389d05303f",
   "metadata": {},
   "outputs": [
    {
     "name": "stdout",
     "output_type": "stream",
     "text": [
      "I love Maths!\n",
      "These are all the lectures i love.\n",
      "I love English!\n",
      "These are all the lectures i love.\n",
      "I love Computer Science!\n",
      "These are all the lectures i love.\n",
      "I love Geology!\n",
      "These are all the lectures i love.\n",
      "I love Physics!\n",
      "These are all the lectures i love.\n"
     ]
    }
   ],
   "source": [
    "# what is the difference here?\n",
    "lectures = ['maths', 'english', 'computer science', 'geology', 'physics']\n",
    "\n",
    "for lecture in lectures:\n",
    "    capitalized_lecture = lecture.title()\n",
    "    print(f'I love {capitalized_lecture}!')\n",
    "    print('These are all the lectures i love.')"
   ]
  },
  {
   "cell_type": "code",
   "execution_count": 29,
   "id": "0ffc7fc1-53b2-4ee8-8229-0903815c660c",
   "metadata": {},
   "outputs": [
    {
     "ename": "IndentationError",
     "evalue": "expected an indented block after 'for' statement on line 4 (1669110079.py, line 5)",
     "output_type": "error",
     "traceback": [
      "\u001b[1;36m  Input \u001b[1;32mIn [29]\u001b[1;36m\u001b[0m\n\u001b[1;33m    capitalized_lecture = lecture.title()\u001b[0m\n\u001b[1;37m    ^\u001b[0m\n\u001b[1;31mIndentationError\u001b[0m\u001b[1;31m:\u001b[0m expected an indented block after 'for' statement on line 4\n"
     ]
    }
   ],
   "source": [
    "# what is the difference here?\n",
    "lectures = ['maths', 'english', 'computer science', 'geology', 'physics']\n",
    "\n",
    "for lecture in lectures:\n",
    "capitalized_lecture = lecture.title()   \n",
    "print(f'I love {lecture.title()}!')\n",
    "print('These are all the lectures i love.')"
   ]
  },
  {
   "cell_type": "code",
   "execution_count": 30,
   "id": "894c0ad7-b09b-478a-9d74-4757780a1461",
   "metadata": {},
   "outputs": [
    {
     "name": "stdout",
     "output_type": "stream",
     "text": [
      "I love the following lecture:\n",
      "I love the following lecture:\n",
      "I love the following lecture:\n",
      "I love the following lecture:\n",
      "I love the following lecture:\n",
      "physics\n"
     ]
    }
   ],
   "source": [
    "lectures = ['maths', 'english', 'computer science', 'geology', 'physics']\n",
    "\n",
    "for lecture in lectures:\n",
    "    print(f'I love the following lecture:')\n",
    "print(lecture)"
   ]
  },
  {
   "cell_type": "code",
   "execution_count": 31,
   "id": "86cf9b71-c9da-4e4f-80b3-174755909afc",
   "metadata": {},
   "outputs": [
    {
     "name": "stdout",
     "output_type": "stream",
     "text": [
      "I definitely don't like maths.\n",
      "I love english!\n",
      "I love computer science!\n",
      "I love geology!\n",
      "I love physics!\n"
     ]
    }
   ],
   "source": [
    "lectures = ['maths', 'english', 'computer science', 'geology', 'physics']\n",
    "\n",
    "for lecture in lectures:  \n",
    "    if lecture == 'maths':\n",
    "        print(f\"I definitely don't like {lecture}.\")\n",
    "    else:\n",
    "        print(f'I love {lecture}!')"
   ]
  },
  {
   "cell_type": "markdown",
   "id": "5b8cda4d-62a2-451a-833b-c75641171e19",
   "metadata": {},
   "source": [
    "## Counting loop with range"
   ]
  },
  {
   "cell_type": "code",
   "execution_count": 32,
   "id": "e2cca1b6-93a7-4e48-90d2-54f05c2d7e8f",
   "metadata": {},
   "outputs": [
    {
     "name": "stdout",
     "output_type": "stream",
     "text": [
      "Count from one to ten!\n",
      "1\n",
      "2\n",
      "3\n",
      "4\n",
      "5\n",
      "6\n",
      "7\n",
      "8\n",
      "9\n",
      "10\n",
      "Finished!\n"
     ]
    }
   ],
   "source": [
    "print('Count from one to ten!')\n",
    "for number in range(1, 11):\n",
    "    print(number)\n",
    "print('Finished!')"
   ]
  },
  {
   "cell_type": "code",
   "execution_count": 33,
   "id": "8f4c8732-4e30-47f9-9b39-5334f943d429",
   "metadata": {},
   "outputs": [
    {
     "name": "stdout",
     "output_type": "stream",
     "text": [
      "Ten tries for \"something\"\n",
      "This is try number 0.\n",
      "This is try number 1.\n",
      "This is try number 2.\n",
      "This is try number 3.\n",
      "This is try number 4.\n",
      "This is try number 5.\n",
      "This is try number 6.\n",
      "This is try number 7.\n",
      "This is try number 8.\n",
      "This is try number 9.\n",
      "Finished!\n"
     ]
    }
   ],
   "source": [
    "print('Ten tries for \"something\"')\n",
    "for count in range(10):\n",
    "    print(f'This is try number {count}.')\n",
    "print('Finished!')"
   ]
  },
  {
   "cell_type": "code",
   "execution_count": 34,
   "id": "b2939837-8243-4e02-a55b-ea1e821c2ee7",
   "metadata": {},
   "outputs": [
    {
     "name": "stdout",
     "output_type": "stream",
     "text": [
      "I love maths\n",
      "I love english\n",
      "I love computer science\n"
     ]
    }
   ],
   "source": [
    "lectures = ['maths', 'english', 'computer science']\n",
    "\n",
    "for lecture in lectures:\n",
    "    l_name = lecture.title()\n",
    "    print(f'I love {lecture}')"
   ]
  },
  {
   "cell_type": "code",
   "execution_count": 35,
   "id": "df4f2859-9b3e-4f97-b36e-e1c1ad390d8a",
   "metadata": {},
   "outputs": [
    {
     "name": "stdout",
     "output_type": "stream",
     "text": [
      "Lecture 0: I love maths\n",
      "Lecture 1: I love english\n",
      "Lecture 2: I love computer science\n"
     ]
    }
   ],
   "source": [
    "# enumerate: Loop through index and lecture\n",
    "for index, lecture in enumerate(lectures):\n",
    "    print(f'Lecture {index}: I love {lecture}')"
   ]
  },
  {
   "cell_type": "code",
   "execution_count": 36,
   "id": "f11c545d-a640-4e39-ba60-16575559239c",
   "metadata": {},
   "outputs": [
    {
     "name": "stdout",
     "output_type": "stream",
     "text": [
      "Lecture 1: I love maths\n",
      "Lecture 2: I love english\n",
      "Lecture 3: I love computer science\n"
     ]
    }
   ],
   "source": [
    "# enumerate\n",
    "for index, lecture in enumerate(lectures):\n",
    "    # fix 0-index\n",
    "    print(f'Lecture {index + 1}: I love {lecture}')"
   ]
  },
  {
   "cell_type": "code",
   "execution_count": 37,
   "id": "b2c14c74-860a-4482-a645-8d4bc53e7820",
   "metadata": {},
   "outputs": [
    {
     "name": "stdout",
     "output_type": "stream",
     "text": [
      "The next lecture is maths. It is spelled:\n",
      "m\n",
      "a\n",
      "t\n",
      "h\n",
      "s\n",
      "The next lecture is english. It is spelled:\n",
      "e\n",
      "n\n",
      "g\n",
      "l\n",
      "i\n",
      "s\n",
      "h\n",
      "The next lecture is computer science. It is spelled:\n",
      "c\n",
      "o\n",
      "m\n",
      "p\n",
      "u\n",
      "t\n",
      "e\n",
      "r\n",
      " \n",
      "s\n",
      "c\n",
      "i\n",
      "e\n",
      "n\n",
      "c\n",
      "e\n"
     ]
    }
   ],
   "source": [
    "# Iterate through strings as well\n",
    "for lecture in lectures: \n",
    "    print(f'The next lecture is {lecture}. It is spelled:')\n",
    "    for letter in lecture:\n",
    "        print(letter)"
   ]
  },
  {
   "cell_type": "code",
   "execution_count": 38,
   "id": "8444e573-8ced-49d5-8997-26fa0bca4931",
   "metadata": {},
   "outputs": [
    {
     "name": "stdout",
     "output_type": "stream",
     "text": [
      "Lecture Number 0: Maths\n",
      "I will skip this lecture\n",
      "Lecture Number 2: Computer Science\n",
      "I do not know what that is, spell it for me...\n",
      "C\n",
      "o\n",
      "m\n",
      "p\n",
      "u\n",
      "t\n",
      "e\n",
      "r\n",
      " \n",
      "S\n",
      "c\n",
      "i\n",
      "e\n",
      "n\n",
      "c\n",
      "e\n",
      "Lecture Number 3: Geology\n",
      "I have seen enough, i am going home. BREAK the loop\n",
      "End of program\n"
     ]
    }
   ],
   "source": [
    "# Example from Lecture\n",
    "lectures = ['maths', 'english', 'computer SCIENCE', 'geoLogy', 'physics']\n",
    "num_lectures = len(lectures)\n",
    "\n",
    "for index, lecture in enumerate(lectures):\n",
    "    # lecture = lectures[index]\n",
    "    l_title = lecture.title()\n",
    "    \n",
    "    if l_title == 'English':\n",
    "        print('I will skip this lecture')\n",
    "        continue\n",
    "    \n",
    "    print(f'Lecture Number {index}: {l_title}')\n",
    "    \n",
    "    if l_title == 'Computer Science':\n",
    "        print('I do not know what that is, spell it for me...')\n",
    "        for letter in l_title:\n",
    "            print(letter)\n",
    "    elif l_title == 'Geology':\n",
    "        print('I have seen enough, i am going home. BREAK the loop')\n",
    "        break\n",
    "        \n",
    "print('End of program')"
   ]
  },
  {
   "cell_type": "markdown",
   "id": "040b9eb2-bae0-444d-a3fb-6da003955f06",
   "metadata": {},
   "source": [
    "## for-Loops und pass, break and continue"
   ]
  },
  {
   "cell_type": "code",
   "execution_count": 39,
   "id": "45256cc9-5f5f-44e4-96bc-96619b7cb90a",
   "metadata": {},
   "outputs": [
    {
     "name": "stdout",
     "output_type": "stream",
     "text": [
      "Pass is just a syntactic placeholder\n",
      "... it is not doing anything\n"
     ]
    }
   ],
   "source": [
    "print('Pass is just a syntactic placeholder')\n",
    "pass\n",
    "print('... it is not doing anything')"
   ]
  },
  {
   "cell_type": "code",
   "execution_count": 40,
   "id": "b2a110ec-877d-4a84-bacd-7068291ad51d",
   "metadata": {},
   "outputs": [
    {
     "name": "stdout",
     "output_type": "stream",
     "text": [
      "I love maths!\n",
      "I'm gonna stop you right there, I don't believe you.\n"
     ]
    }
   ],
   "source": [
    "# Break stops the loop immediately\n",
    "lectures = ['maths', 'english', 'computer science', 'geology', 'physics']\n",
    "\n",
    "for lecture in lectures:\n",
    "    print(f'I love {lecture}!')\n",
    "    if lecture == 'maths':\n",
    "        print(f\"I'm gonna stop you right there, I don't believe you.\")\n",
    "        break"
   ]
  },
  {
   "cell_type": "code",
   "execution_count": 41,
   "id": "247eac6d-aceb-44bc-a200-0e8bd78939e3",
   "metadata": {},
   "outputs": [
    {
     "name": "stdout",
     "output_type": "stream",
     "text": [
      "I love english!\n",
      "I love computer science!\n",
      "I love geology!\n"
     ]
    }
   ],
   "source": [
    "# Continue \"skips\" the rest of the current iteration and continues with the next element\n",
    "lectures = ['maths', 'english', 'computer science', 'geology', 'physics']\n",
    "\n",
    "for lecture in lectures:\n",
    "    if lecture == 'maths' or lecture == 'physics':\n",
    "        continue # skip right to next item if looking at Maths or Physics\n",
    "    print(f'I love {lecture}!')"
   ]
  },
  {
   "cell_type": "code",
   "execution_count": 42,
   "id": "3e30e7da-b382-42e1-8014-b6d9057e011a",
   "metadata": {},
   "outputs": [
    {
     "name": "stdout",
     "output_type": "stream",
     "text": [
      "Current number is: 0\n",
      "Current number is: 1\n",
      "Current number is: 2\n",
      "Current number is: 3\n",
      "Current number is: 7\n",
      "Finished counting.\n"
     ]
    }
   ],
   "source": [
    "# what is the output here?\n",
    "for number in range(10):\n",
    "    if number == 4 or number == 5 or number == 6:\n",
    "        continue\n",
    "    elif number == 8:\n",
    "        break\n",
    "    else:\n",
    "        print(f'Current number is: {number}')\n",
    "    \n",
    "print('Finished counting.')"
   ]
  },
  {
   "cell_type": "markdown",
   "id": "c6035aaa-30c7-471b-8707-afb4ac441201",
   "metadata": {},
   "source": [
    "# User Input"
   ]
  },
  {
   "cell_type": "code",
   "execution_count": 43,
   "id": "acbf0fe5-cdc0-4408-86b9-32b77c9ed0d9",
   "metadata": {},
   "outputs": [
    {
     "name": "stdin",
     "output_type": "stream",
     "text": [
      "Enter your name:  Denis\n"
     ]
    },
    {
     "name": "stdout",
     "output_type": "stream",
     "text": [
      "Hi Denis, how are you doing?\n"
     ]
    }
   ],
   "source": [
    "name = input('Enter your name: ')\n",
    "print(f'Hi {name}, how are you doing?')"
   ]
  },
  {
   "cell_type": "code",
   "execution_count": 44,
   "id": "ff85046b-3b6d-4078-884a-6a9c8107e31b",
   "metadata": {},
   "outputs": [
    {
     "name": "stdin",
     "output_type": "stream",
     "text": [
      "Enter your first name:  Denis\n",
      "Enter your last name:  Helic\n"
     ]
    },
    {
     "name": "stdout",
     "output_type": "stream",
     "text": [
      "Hello Denis Helic, how are you doing?\n"
     ]
    }
   ],
   "source": [
    "first = input('Enter your first name: ')\n",
    "last = input('Enter your last name: ')\n",
    "print(f'Hello {first} {last}, how are you doing?')"
   ]
  },
  {
   "cell_type": "code",
   "execution_count": 45,
   "id": "e9ac2684-9483-4b3d-8300-12248ada0d5b",
   "metadata": {},
   "outputs": [
    {
     "name": "stdout",
     "output_type": "stream",
     "text": [
      "Let's multiply numbers\n"
     ]
    },
    {
     "name": "stdin",
     "output_type": "stream",
     "text": [
      "Enter number 1:  34\n",
      "Enter number 2:  23\n"
     ]
    },
    {
     "ename": "TypeError",
     "evalue": "can't multiply sequence by non-int of type 'str'",
     "output_type": "error",
     "traceback": [
      "\u001b[1;31m---------------------------------------------------------------------------\u001b[0m",
      "\u001b[1;31mTypeError\u001b[0m                                 Traceback (most recent call last)",
      "Input \u001b[1;32mIn [45]\u001b[0m, in \u001b[0;36m<cell line: 5>\u001b[1;34m()\u001b[0m\n\u001b[0;32m      3\u001b[0m n1 \u001b[38;5;241m=\u001b[39m \u001b[38;5;28minput\u001b[39m(\u001b[38;5;124m'\u001b[39m\u001b[38;5;124mEnter number 1: \u001b[39m\u001b[38;5;124m'\u001b[39m)\n\u001b[0;32m      4\u001b[0m n2 \u001b[38;5;241m=\u001b[39m \u001b[38;5;28minput\u001b[39m(\u001b[38;5;124m'\u001b[39m\u001b[38;5;124mEnter number 2: \u001b[39m\u001b[38;5;124m'\u001b[39m)\n\u001b[1;32m----> 5\u001b[0m result \u001b[38;5;241m=\u001b[39m \u001b[43mn1\u001b[49m\u001b[43m \u001b[49m\u001b[38;5;241;43m*\u001b[39;49m\u001b[43m \u001b[49m\u001b[43mn2\u001b[49m\n\u001b[0;32m      6\u001b[0m \u001b[38;5;28mprint\u001b[39m(\u001b[38;5;124mf\u001b[39m\u001b[38;5;124m'\u001b[39m\u001b[38;5;132;01m{\u001b[39;00mn1\u001b[38;5;132;01m}\u001b[39;00m\u001b[38;5;124m * \u001b[39m\u001b[38;5;132;01m{\u001b[39;00mn2\u001b[38;5;132;01m}\u001b[39;00m\u001b[38;5;124m = \u001b[39m\u001b[38;5;132;01m{\u001b[39;00mresult\u001b[38;5;132;01m}\u001b[39;00m\u001b[38;5;124m'\u001b[39m)\n",
      "\u001b[1;31mTypeError\u001b[0m: can't multiply sequence by non-int of type 'str'"
     ]
    }
   ],
   "source": [
    "# does this work? what's missing\n",
    "print(\"Let's multiply numbers\")\n",
    "n1 = input('Enter number 1: ')\n",
    "n2 = input('Enter number 2: ')\n",
    "result = n1 * n2\n",
    "print(f'{n1} * {n2} = {result}')"
   ]
  },
  {
   "cell_type": "code",
   "execution_count": 46,
   "id": "ac3e4204-f37b-4f24-9dfc-771368f78c96",
   "metadata": {},
   "outputs": [
    {
     "name": "stdout",
     "output_type": "stream",
     "text": [
      "Let's multiply numbers\n"
     ]
    },
    {
     "name": "stdin",
     "output_type": "stream",
     "text": [
      "Enter number 1:  34\n",
      "Enter number 2:  23\n"
     ]
    },
    {
     "name": "stdout",
     "output_type": "stream",
     "text": [
      "34 * 23 = 782\n"
     ]
    }
   ],
   "source": [
    "# does this work now?\n",
    "print(\"Let's multiply numbers\")\n",
    "n1 = int(input('Enter number 1: '))\n",
    "n2 = int(input('Enter number 2: '))\n",
    "result = n1 * n2\n",
    "print(f'{n1} * {n2} = {result}')"
   ]
  },
  {
   "cell_type": "code",
   "execution_count": 47,
   "id": "ccb2320e-80f2-44d9-ab05-2678ef59ff0d",
   "metadata": {},
   "outputs": [
    {
     "name": "stdin",
     "output_type": "stream",
     "text": [
      "Please enter length of square in cm:  23\n"
     ]
    },
    {
     "name": "stdout",
     "output_type": "stream",
     "text": [
      "The perimeter in cm is:  92\n",
      "The area in cm^2 is:  529\n"
     ]
    }
   ],
   "source": [
    "# another example\n",
    "side = int(input(\"Please enter length of square in cm: \"))\n",
    "perimeter = side * 4\n",
    "area = side**2\n",
    "print(\"The perimeter in cm is: \", perimeter)\n",
    "print(\"The area in cm^2 is: \", area)"
   ]
  },
  {
   "cell_type": "code",
   "execution_count": 48,
   "id": "fdaa18e1-574e-4d4c-91f1-eb52b9bb1ed0",
   "metadata": {},
   "outputs": [
    {
     "name": "stdin",
     "output_type": "stream",
     "text": [
      "Please enter radius of circle in cm:  23\n"
     ]
    },
    {
     "name": "stdout",
     "output_type": "stream",
     "text": [
      "The circle's area is about 1661.8535000000002 cm^2\n"
     ]
    }
   ],
   "source": [
    "# ANOTHER example\n",
    "selection = float(input(\"Please enter radius of circle in cm: \"))\n",
    "print(f\"The circle's area is about {3.1415 * selection**2} cm^2\") "
   ]
  },
  {
   "cell_type": "markdown",
   "id": "5a770fae-3dc1-4152-ba92-8bfd802eb2ab",
   "metadata": {
    "pycharm": {
     "name": "#%% md\n"
    }
   },
   "source": [
    "###  for-Loops, range und input"
   ]
  },
  {
   "cell_type": "code",
   "execution_count": 49,
   "id": "2d8d357c-2086-46c9-bf82-64ed144463bb",
   "metadata": {
    "pycharm": {
     "name": "#%%\n"
    }
   },
   "outputs": [
    {
     "name": "stdout",
     "output_type": "stream",
     "text": [
      "Select 3 pizza toppings!\n"
     ]
    },
    {
     "name": "stdin",
     "output_type": "stream",
     "text": [
      "Enter topping:  fösldk\n",
      "Enter topping:  ölfkdsö\n",
      "Enter topping:  fskölldkf\n"
     ]
    },
    {
     "name": "stdout",
     "output_type": "stream",
     "text": [
      "You ordered a pizza with the following toppings: ['fösldk', 'ölfkdsö', 'fskölldkf']\n"
     ]
    }
   ],
   "source": [
    "# Reading input into list via for-counting-loop\n",
    "toppings = []\n",
    "print('Select 3 pizza toppings!')\n",
    "\n",
    "for i in range(3):\n",
    "    topping = input('Enter topping: ')\n",
    "    toppings.append(topping)\n",
    "\n",
    "print(f'You ordered a pizza with the following toppings: {toppings}')"
   ]
  },
  {
   "cell_type": "markdown",
   "id": "7c4106c4-2546-4b22-a699-2e495d96be71",
   "metadata": {
    "pycharm": {
     "name": "#%% md\n"
    }
   },
   "source": [
    "# while-Loops"
   ]
  },
  {
   "cell_type": "code",
   "execution_count": 50,
   "id": "cd1deef2-dbbd-4e83-b691-eec46f71492b",
   "metadata": {
    "pycharm": {
     "is_executing": false,
     "name": "#%%\n"
    }
   },
   "outputs": [
    {
     "name": "stdout",
     "output_type": "stream",
     "text": [
      "Current count: 0\n",
      "Current count: 1\n",
      "Current count: 2\n",
      "Current count: 3\n",
      "Current count: 4\n",
      "Current count: 5\n"
     ]
    }
   ],
   "source": [
    "# what is the first and last number that is printed?\n",
    "count = 0\n",
    "while count <= 5:\n",
    "    print(f\"Current count: {count}\")\n",
    "    count += 1 # the same as: count = count + 1"
   ]
  },
  {
   "cell_type": "code",
   "execution_count": 51,
   "id": "07bedc14-6288-4481-8650-72aab1ccbab1",
   "metadata": {
    "pycharm": {
     "is_executing": false,
     "name": "#%%\n"
    }
   },
   "outputs": [
    {
     "name": "stdout",
     "output_type": "stream",
     "text": [
      "Current count: 1\n",
      "Current count: 2\n",
      "Current count: 3\n",
      "Current count: 4\n",
      "Current count: 5\n",
      "Current count: 6\n"
     ]
    }
   ],
   "source": [
    "# what is the first and last number that is printed?\n",
    "count = 0\n",
    "while count <= 5:\n",
    "    count += 1 # the same as: count = count + 1\n",
    "    print(f\"Current count: {count}\")"
   ]
  },
  {
   "cell_type": "code",
   "execution_count": 52,
   "id": "d65abebe-4b22-4b4b-bc5f-8d536476decc",
   "metadata": {
    "pycharm": {
     "is_executing": false,
     "name": "#%%\n"
    }
   },
   "outputs": [
    {
     "name": "stdout",
     "output_type": "stream",
     "text": [
      "Current count: 0\n",
      "Current count: 1\n",
      "Current count: 2\n",
      "Current count: 3\n",
      "Current count: 4\n"
     ]
    }
   ],
   "source": [
    "# Comparison to for with range: what is the first and last number that is printed?\n",
    "for count in range(5):\n",
    "    print(f\"Current count: {count}\")"
   ]
  },
  {
   "cell_type": "code",
   "execution_count": null,
   "id": "fc03a55a-d363-46c0-a818-4935f503c455",
   "metadata": {
    "pycharm": {
     "name": "#%%\n"
    }
   },
   "outputs": [],
   "source": [
    "# unintentional endless loop, this could also happen to you!\n",
    "# Warning: runs endlessly!\n",
    "count = 0\n",
    "while count <= 10:\n",
    "    print(f\"Current count: {count}\")"
   ]
  },
  {
   "cell_type": "code",
   "execution_count": null,
   "id": "eb78e3cc-95d0-4778-bb23-2c014cce29f8",
   "metadata": {
    "pycharm": {
     "name": "#%%\n"
    }
   },
   "outputs": [],
   "source": [
    "# endless loop\n",
    "# Warning: runs endlessly!\n",
    "while True:\n",
    "    print('BOOOOOOM')"
   ]
  },
  {
   "cell_type": "code",
   "execution_count": null,
   "id": "ad1869fd-5efe-4ba6-aeb5-af85937dca1c",
   "metadata": {
    "pycharm": {
     "name": "#%%\n"
    }
   },
   "outputs": [],
   "source": [
    "# and here? endless loop? why?\n",
    "while 1 == 1:\n",
    "    print('BOOOOOOM')"
   ]
  },
  {
   "cell_type": "markdown",
   "id": "c610f33a-cd8e-4804-82fa-d219de5c5c75",
   "metadata": {
    "pycharm": {
     "name": "#%% md\n"
    }
   },
   "source": [
    "### Flags, conditions, and while loops"
   ]
  },
  {
   "cell_type": "code",
   "execution_count": 53,
   "id": "5822ffe1-c19c-4dc1-bff4-28b2b20bdf67",
   "metadata": {
    "pycharm": {
     "is_executing": false,
     "name": "#%%\n"
    }
   },
   "outputs": [
    {
     "name": "stdout",
     "output_type": "stream",
     "text": [
      "Current count: 0\n",
      "Current count: 1\n",
      "Current count: 2\n",
      "Current count: 3\n",
      "Current count: 4\n",
      "Current count: 5\n",
      "Current count: 6\n",
      "Current count: 7\n",
      "Current count: 8\n",
      "Current count: 9\n"
     ]
    }
   ],
   "source": [
    "# \"flags\", option one\n",
    "count = 0\n",
    "is_not_ten = True\n",
    "while is_not_ten:\n",
    "    print(f\"Current count: {count}\")\n",
    "    count += 1\n",
    "    is_not_ten = (count != 10)"
   ]
  },
  {
   "cell_type": "code",
   "execution_count": 54,
   "id": "1894f3aa-00d7-48ee-ad9b-5b3819ad396f",
   "metadata": {
    "pycharm": {
     "is_executing": false,
     "name": "#%%\n"
    }
   },
   "outputs": [
    {
     "name": "stdout",
     "output_type": "stream",
     "text": [
      "Current count: 0\n",
      "Current count: 1\n",
      "Current count: 2\n",
      "Current count: 3\n",
      "Current count: 4\n",
      "Current count: 5\n",
      "Current count: 6\n",
      "Current count: 7\n",
      "Current count: 8\n",
      "Current count: 9\n"
     ]
    }
   ],
   "source": [
    "# \"flags\", option two\n",
    "count = 0\n",
    "is_not_ten = True\n",
    "while is_not_ten:\n",
    "    print(f\"Current count: {count}\")\n",
    "    count += 1\n",
    "    \n",
    "    if count == 10:\n",
    "        is_not_ten = False"
   ]
  },
  {
   "cell_type": "code",
   "execution_count": 55,
   "id": "1da94ac6-a629-4863-b473-22bc4c824d90",
   "metadata": {
    "pycharm": {
     "is_executing": false,
     "name": "#%%\n"
    }
   },
   "outputs": [
    {
     "name": "stdout",
     "output_type": "stream",
     "text": [
      "Current count: 0\n",
      "Current count: 1\n",
      "Current count: 2\n",
      "Current count: 3\n",
      "Current count: 4\n",
      "Current count: 5\n",
      "Current count: 6\n",
      "Current count: 7\n",
      "Current count: 8\n",
      "Current count: 9\n"
     ]
    }
   ],
   "source": [
    "# another option:\n",
    "# Endless loop with break\n",
    "count = 0\n",
    "while True:\n",
    "    print(f\"Current count: {count}\")\n",
    "    count += 1\n",
    "    \n",
    "    if count == 10:\n",
    "        break    "
   ]
  },
  {
   "cell_type": "markdown",
   "id": "1741dbef-261e-4847-939e-b6e73e13f4a4",
   "metadata": {
    "pycharm": {
     "is_executing": false,
     "name": "#%% md\n"
    }
   },
   "source": [
    "### Input as Flag"
   ]
  },
  {
   "cell_type": "markdown",
   "id": "1bf63238-0e6a-4b64-8e53-b42281a8e69a",
   "metadata": {},
   "source": [
    "#### Simple input and break"
   ]
  },
  {
   "cell_type": "code",
   "execution_count": 56,
   "id": "8057ea33-7f6f-481d-9cd8-a6d990ab513f",
   "metadata": {
    "pycharm": {
     "is_executing": false,
     "name": "#%%\n"
    }
   },
   "outputs": [
    {
     "name": "stdin",
     "output_type": "stream",
     "text": [
      "Tell me something - I will repeat it back to you (entering \"quit\" ends the program):  quit\n"
     ]
    },
    {
     "name": "stdout",
     "output_type": "stream",
     "text": [
      "quit\n",
      "\n"
     ]
    }
   ],
   "source": [
    "# repeat back to me what i'm saying, stop me if i'm telling you to quit\n",
    "prompt = 'Tell me something - I will repeat it back to you (entering \"quit\" ends the program): '\n",
    "user_input = ''\n",
    "while user_input != 'quit':\n",
    "    user_input = input(prompt) \n",
    "    print(user_input + '\\n') # extra line break for formatting"
   ]
  },
  {
   "cell_type": "code",
   "execution_count": 57,
   "id": "7aec1d0e-54e1-4274-af61-83cb4f185b5f",
   "metadata": {
    "pycharm": {
     "is_executing": false,
     "name": "#%%\n"
    }
   },
   "outputs": [
    {
     "name": "stdin",
     "output_type": "stream",
     "text": [
      "Tell me something - I will repeat it back to you (entering \"quit\" ends the program):  fljdskf\n"
     ]
    },
    {
     "name": "stdout",
     "output_type": "stream",
     "text": [
      "fljdskf\n",
      "\n"
     ]
    },
    {
     "name": "stdin",
     "output_type": "stream",
     "text": [
      "Tell me something - I will repeat it back to you (entering \"quit\" ends the program):  ölskföslkf\n"
     ]
    },
    {
     "name": "stdout",
     "output_type": "stream",
     "text": [
      "ölskföslkf\n",
      "\n"
     ]
    },
    {
     "name": "stdin",
     "output_type": "stream",
     "text": [
      "Tell me something - I will repeat it back to you (entering \"quit\" ends the program):  quit\n"
     ]
    },
    {
     "name": "stdout",
     "output_type": "stream",
     "text": [
      "quit\n",
      "\n"
     ]
    }
   ],
   "source": [
    "# same as above, different code\n",
    "# repeat back to me what i'm saying, stop me if i'm telling you to quit\n",
    "prompt = 'Tell me something - I will repeat it back to you (entering \"quit\" ends the program): '\n",
    "while True:\n",
    "    user_input = input(prompt) \n",
    "    print(user_input + '\\n') # extra line break for formatting\n",
    "    if user_input == 'quit':\n",
    "        break"
   ]
  },
  {
   "cell_type": "markdown",
   "id": "ddaf7745-dae5-40ff-97e8-7453d686753b",
   "metadata": {
    "pycharm": {
     "is_executing": false,
     "name": "#%% md\n"
    }
   },
   "source": [
    "#### Input with case-insensitive detection of 'quit'\n",
    " "
   ]
  },
  {
   "cell_type": "code",
   "execution_count": 58,
   "id": "44394f05-70f7-43d6-b0cb-b9c23d904a17",
   "metadata": {
    "pycharm": {
     "name": "#%%\n"
    }
   },
   "outputs": [
    {
     "name": "stdin",
     "output_type": "stream",
     "text": [
      "Tell me something - I will repeat it back to you (entering \"quit\" ends the program):  QUIT\n"
     ]
    }
   ],
   "source": [
    "# Slightly different example\n",
    "# repeat back to me what i'm saying, stop me if i'm telling you to quit\n",
    "# in addition, do not print quit command and ignore case of input string for check\n",
    "prompt = 'Tell me something - I will repeat it back to you (entering \"quit\" ends the program): '\n",
    "string_to_check = ''\n",
    "while string_to_check != 'quit':\n",
    "    user_input = input(prompt)\n",
    "    string_to_check = user_input.lower()\n",
    "\n",
    "    if string_to_check != 'quit':\n",
    "        print(user_input + '\\n') "
   ]
  },
  {
   "cell_type": "code",
   "execution_count": 59,
   "id": "6b0712a4-f75f-492e-87ae-feb2e1e80840",
   "metadata": {
    "pycharm": {
     "is_executing": false,
     "name": "#%%\n"
    }
   },
   "outputs": [
    {
     "name": "stdin",
     "output_type": "stream",
     "text": [
      "Tell me something - I will repeat it back to you (entering \"quit\" ends the program):  öfdlsöl\n"
     ]
    },
    {
     "name": "stdout",
     "output_type": "stream",
     "text": [
      "öfdlsöl\n",
      "\n"
     ]
    },
    {
     "name": "stdin",
     "output_type": "stream",
     "text": [
      "Tell me something - I will repeat it back to you (entering \"quit\" ends the program):  quit\n"
     ]
    }
   ],
   "source": [
    "# same as above, different code\n",
    "# repeat back to me what i'm saying, stop me if i'm telling you to quit\n",
    "# in addition, do not print quit command and ignore case of input string for check\n",
    "prompt = 'Tell me something - I will repeat it back to you (entering \"quit\" ends the program): '\n",
    "string_to_check = ''\n",
    "while True:\n",
    "    user_input = input(prompt)\n",
    "    string_to_check = user_input.lower()\n",
    "\n",
    "    if string_to_check != 'quit':\n",
    "        print(user_input + '\\n') \n",
    "    else:\n",
    "        break"
   ]
  },
  {
   "cell_type": "code",
   "execution_count": 60,
   "id": "d63c76c7-63ab-4e46-bd91-8e055a69a9ad",
   "metadata": {
    "pycharm": {
     "is_executing": false,
     "name": "#%%\n"
    }
   },
   "outputs": [
    {
     "name": "stdin",
     "output_type": "stream",
     "text": [
      "Tell me something - I will repeat it back to you (entering \"quit\" ends the program):  quit\n"
     ]
    }
   ],
   "source": [
    "# same as above, different code\n",
    "# repeat back to me what i'm saying, stop me if i'm telling you to quit\n",
    "# in addition, do not print quit command and ignore case of input string for check\n",
    "prompt = 'Tell me something - I will repeat it back to you (entering \"quit\" ends the program): '\n",
    "run = True\n",
    "while run:\n",
    "    user_input = input(prompt)\n",
    "    string_to_check = user_input.lower()\n",
    "\n",
    "    if string_to_check != 'quit':\n",
    "        print(user_input + '\\n') \n",
    "    else:\n",
    "        run = False"
   ]
  },
  {
   "cell_type": "markdown",
   "id": "3b454c2b-24b3-4d28-8551-bf88b3fa11e4",
   "metadata": {},
   "source": [
    "#### Concrete Example: Reading values, storing them into a list, stop program with case insensitive quit (via \"title\"-method)\n",
    "Note that there are multiple possible variations here too, similar to the examples above."
   ]
  },
  {
   "cell_type": "code",
   "execution_count": 61,
   "id": "bb97fa55-0581-4770-a544-dfa6733dba44",
   "metadata": {
    "pycharm": {
     "is_executing": false,
     "name": "#%%\n"
    }
   },
   "outputs": [
    {
     "name": "stdout",
     "output_type": "stream",
     "text": [
      "Select toppings for your pizza!\n"
     ]
    },
    {
     "name": "stdin",
     "output_type": "stream",
     "text": [
      "Enter topping:  riowoieu\n",
      "Enter topping:  riopweirwpo\n",
      "Enter topping:  piwepior\n",
      "Enter topping:  quit\n"
     ]
    },
    {
     "name": "stdout",
     "output_type": "stream",
     "text": [
      "You ordered a pizza with the following toppings ['Riowoieu', 'Riopweirwpo', 'Piwepior']\n"
     ]
    }
   ],
   "source": [
    "print('Select toppings for your pizza!')\n",
    "prompt = 'Enter topping: '\n",
    "toppings = []\n",
    "while True:\n",
    "    user_input = input(prompt)\n",
    "    user_input = user_input.title()\n",
    "    \n",
    "    \n",
    "    if user_input != 'Quit':\n",
    "        toppings.append(user_input)\n",
    "    else:\n",
    "        break\n",
    "        \n",
    "print(f'You ordered a pizza with the following toppings {toppings}')"
   ]
  },
  {
   "cell_type": "markdown",
   "id": "2f656f13-a57c-4ce2-9473-6c83a77a32c0",
   "metadata": {},
   "source": [
    "# Putting it all together: basic linear regression"
   ]
  },
  {
   "cell_type": "code",
   "execution_count": 6,
   "id": "aa3c4eed-1476-41e7-9091-c8f641cd4e6f",
   "metadata": {},
   "outputs": [
    {
     "name": "stdin",
     "output_type": "stream",
     "text": [
      "Enter the number of data points:  3\n",
      "Enter the x coordinate of the 0-th point:  1\n",
      "Enter the y coordinate of the 0-th point:  1.8\n",
      "Enter the x coordinate of the 1-th point:  2\n",
      "Enter the y coordinate of the 1-th point:  3.1\n",
      "Enter the x coordinate of the 2-th point:  3\n",
      "Enter the y coordinate of the 2-th point:  3.9\n"
     ]
    },
    {
     "name": "stdout",
     "output_type": "stream",
     "text": [
      "Slope of the best fitting line is 1.0063978468782.\n",
      "Intercept of the best fitting line is 1.0193803403795807.\n",
      "The error is 0.07477860068626531.\n",
      "The algorithm converged in 31 steps.\n"
     ]
    }
   ],
   "source": [
    "n = int(input('Enter the number of data points: '))\n",
    "\n",
    "data = []\n",
    "count = 0\n",
    "while count < n:\n",
    "    x = float(input(f'Enter the x coordinate of the {count}-th point: '))\n",
    "    y = float(input(f'Enter the y coordinate of the {count}-th point: '))\n",
    "    data.append((x, y))\n",
    "    count += 1\n",
    "\n",
    "tol = 1e-2\n",
    "learning_rate = 1e-2\n",
    "a = 10\n",
    "b = 5\n",
    "error = 0\n",
    "error_old = 1\n",
    "count = 0\n",
    "\n",
    "while abs(error_old - error) > tol:\n",
    "    a_grad = 0\n",
    "    b_grad = 0\n",
    "    for point in data:\n",
    "        a_grad += (a * point[0] + b - point[1]) * point[0]\n",
    "        b_grad += a * point[0] + b - point[1]\n",
    "    a -= learning_rate * a_grad\n",
    "    b -= learning_rate * b_grad\n",
    "    \n",
    "    error_old = error\n",
    "    error = 0\n",
    "    for point in data:\n",
    "        error += ((a * point[0] + b) - point[1]) ** 2\n",
    "    \n",
    "    count += 1\n",
    "    \n",
    "print(f'Slope of the best fitting line is {a}.')\n",
    "print(f'Intercept of the best fitting line is {b}.')\n",
    "print(f'The error is {error}.')\n",
    "print(f'The algorithm converged in {count} steps.')"
   ]
  }
 ],
 "metadata": {
  "kernelspec": {
   "display_name": "Python 3 (ipykernel)",
   "language": "python",
   "name": "python3"
  },
  "language_info": {
   "codemirror_mode": {
    "name": "ipython",
    "version": 3
   },
   "file_extension": ".py",
   "mimetype": "text/x-python",
   "name": "python",
   "nbconvert_exporter": "python",
   "pygments_lexer": "ipython3",
   "version": "3.10.4"
  }
 },
 "nbformat": 4,
 "nbformat_minor": 5
}
