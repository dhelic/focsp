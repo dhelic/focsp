{
 "cells": [
  {
   "cell_type": "code",
   "execution_count": 107,
   "id": "f7080b3d-e9b6-4bc6-831b-1a6a5bbe5338",
   "metadata": {
    "pycharm": {
     "is_executing": false
    }
   },
   "outputs": [],
   "source": [
    "import numpy as np\n",
    "import scipy.stats as stats\n",
    "import seaborn as sns\n",
    "import matplotlib.pyplot as plt\n",
    "import math\n",
    "import random\n",
    "import csv"
   ]
  },
  {
   "cell_type": "markdown",
   "id": "a28bf734-56b1-40df-8051-3fa5ee9f905d",
   "metadata": {},
   "source": [
    "#### Helper functions for plotting"
   ]
  },
  {
   "cell_type": "code",
   "execution_count": 108,
   "id": "a0764a9b-e749-495e-8805-abb4c511641c",
   "metadata": {},
   "outputs": [],
   "source": [
    "def desc_dist_plot(xlabel, rv, title=None, legend=False, xlim=None, ylim=None):\n",
    "    plt.xlim(xlim)\n",
    "    plt.ylim(ylim)\n",
    "    if legend:\n",
    "        plt.legend()\n",
    "    plt.xlabel('${}$'.format(xlabel))\n",
    "    plt.ylabel('$p({})$'.format(xlabel))\n",
    "    if title:\n",
    "        plt.title('Distribution of ${}, {}$'.format(rv, title))\n",
    "    else:\n",
    "        plt.title('Distribution of ${}$'.format(rv))"
   ]
  },
  {
   "cell_type": "markdown",
   "id": "6124d23e-c625-488c-aefc-f72ee64f6141",
   "metadata": {
    "pycharm": {
     "name": "#%% md\n"
    }
   },
   "source": [
    "## Permutation Test for the Beer/Water Mosquito Debate \n",
    "\n",
    "**Example.** We compute the difference in means, medians and minima as a test statistic."
   ]
  },
  {
   "cell_type": "code",
   "execution_count": 109,
   "id": "da3d0ee9-8aac-4399-a1f9-d6b25597d9ad",
   "metadata": {
    "pycharm": {
     "is_executing": false,
     "name": "#%%\n"
    }
   },
   "outputs": [
    {
     "name": "stdout",
     "output_type": "stream",
     "text": [
      "p-value for the H_0: no difference in means: 0.0005999400059994001\n",
      "p-value for the H_0: no difference in medians: 0.005599440055994401\n",
      "p-value for the H_0: no difference in mins: 0.0100989901009899\n"
     ]
    }
   ],
   "source": [
    "def beer_dataset():\n",
    "    # Beer\n",
    "    beer = [27, 19, 20, 20, 23, 17, 21, 24, 31, 26, 28, 20,\n",
    "            27, 19, 25, 31, 24, 28, 24, 29, 21, 21, 18, 27, 20]\n",
    "\n",
    "    # Water\n",
    "    water = [21, 19, 13, 22, 15, 22, 15, 22, 20, 12, 24, 24,\n",
    "             21, 19, 18, 16, 23, 20]\n",
    "\n",
    "    return beer, water\n",
    "\n",
    "\n",
    "def permutation_test(x, y, statistic, b=10000):\n",
    "    diff = statistic(x) - statistic(y)\n",
    "    \n",
    "    pool = x + y\n",
    "    diffs_star = []\n",
    "    count = 0\n",
    "    for i in range(b):\n",
    "        np.random.shuffle(pool)\n",
    "        diff_star = statistic(pool[:len(x)]) - statistic(pool[len(x):])\n",
    "        diffs_star.append(diff_star)\n",
    "        if diff_star >= diff:\n",
    "            count += 1\n",
    "\n",
    "    p_value = (count + 1) / (b + 1)\n",
    "    return p_value\n",
    "\n",
    "beer, water = beer_dataset()\n",
    "p_value = permutation_test(beer, water, np.mean)\n",
    "print('p-value for the H_0: no difference in means: {}'.format(p_value))\n",
    "\n",
    "p_value = permutation_test(beer, water, np.median)\n",
    "print('p-value for the H_0: no difference in medians: {}'.format(p_value))\n",
    "\n",
    "p_value = permutation_test(beer, water, np.min)\n",
    "print('p-value for the H_0: no difference in mins: {}'.format(p_value))"
   ]
  },
  {
   "cell_type": "markdown",
   "id": "f69c841b-21a1-4788-b655-eb4394f4ef40",
   "metadata": {},
   "source": [
    "## Sample Mean Distribution\n",
    "\n",
    "**Example.** Let $X_1, X_2, \\dots, X_n$ be a random sample with $X_i \\sim Exp(\\lambda)$.\n",
    "Estimate the sampling distribution of $\\overline{X}_n$ by repeatedly drawing random numbers\n",
    "in python with $n=100$ and $\\lambda=0.5$. Repeat the experiment for $n=1000$.\n"
   ]
  },
  {
   "cell_type": "markdown",
   "id": "1ee1cd84-2e7d-4282-87c4-93e0af81eedf",
   "metadata": {
    "pycharm": {
     "name": "#%% md\n"
    }
   },
   "source": [
    "#### Draw a random sample of size $10000$ from $Exp(\\lambda)$\n"
   ]
  },
  {
   "cell_type": "code",
   "execution_count": 110,
   "id": "e69c1777-e25b-4950-805c-f018728efbf0",
   "metadata": {
    "pycharm": {
     "is_executing": false,
     "name": "#%%\n"
    }
   },
   "outputs": [],
   "source": [
    "lam = 0.5\n",
    "x = stats.expon.rvs(scale=1/lam, size=10000)"
   ]
  },
  {
   "cell_type": "markdown",
   "id": "2c747d5e-0023-4ef2-b569-5305886d17d2",
   "metadata": {},
   "source": [
    "#### Plot a histogram of the sample and the theoretical distribution of $Exp(\\lambda)$\n"
   ]
  },
  {
   "cell_type": "code",
   "execution_count": 111,
   "id": "e4175f87-bad2-4d95-bc73-08e09ff4c259",
   "metadata": {
    "collapsed": false,
    "jupyter": {
     "outputs_hidden": false
    },
    "pycharm": {
     "is_executing": false,
     "name": "#%%\n"
    }
   },
   "outputs": [
    {
     "data": {
      "image/png": "[encoded data removed]",
      "text/plain": [
       "<Figure size 432x288 with 1 Axes>"
      ]
     },
     "metadata": {
      "needs_background": "light"
     },
     "output_type": "display_data"
    }
   ],
   "source": [
    "plt.figure(1)\n",
    "sns.histplot(x, label='empirical', stat='density')\n",
    "x=np.linspace(0, 20, 100)\n",
    "y = lam * np.exp(-lam * x)\n",
    "plt.plot(x, y, label='theoretical', color=sns.color_palette()[1])\n",
    "desc_dist_plot('x', 'X', title='X\\sim Exp(\\lambda), \\lambda={:3.1f}'.format(lam), legend=True)"
   ]
  },
  {
   "cell_type": "markdown",
   "id": "868b02fa-2234-4329-b36f-195631feb86d",
   "metadata": {},
   "source": [
    "#### Estimate the sampling distribution of the sample mean of $X \\sim Exp(\\lambda)$\n"
   ]
  },
  {
   "cell_type": "code",
   "execution_count": 112,
   "id": "0cfda59c-ac23-472a-9dfb-a5a50eeb1b3e",
   "metadata": {
    "pycharm": {
     "is_executing": false,
     "name": "#%%\n"
    }
   },
   "outputs": [],
   "source": [
    "b = 1000\n",
    "x_100_bar = []\n",
    "x_1000_bar = []\n",
    "for i in range(b):\n",
    "    x = stats.expon.rvs(scale=1/lam, size=100)\n",
    "    x_100_bar.append(np.mean(x))\n",
    "    x = stats.expon.rvs(scale=1/lam, size=1000)\n",
    "    x_1000_bar.append(np.mean(x))\n"
   ]
  },
  {
   "cell_type": "markdown",
   "id": "663f7ef6-c094-4e4f-901a-29fe8c5b0de5",
   "metadata": {},
   "source": [
    "#### Plot the sampling distribution of the sampling mean of $X \\sim Exp(\\lambda)$\n"
   ]
  },
  {
   "cell_type": "code",
   "execution_count": 113,
   "id": "9c29e27d-8ec3-4971-8ab2-4a570a3a883d",
   "metadata": {
    "collapsed": false,
    "jupyter": {
     "outputs_hidden": false
    },
    "pycharm": {
     "is_executing": false,
     "name": "#%%\n"
    }
   },
   "outputs": [
    {
     "data": {
      "image/png": "[encoded data removed]",
      "text/plain": [
       "<Figure size 432x288 with 1 Axes>"
      ]
     },
     "metadata": {
      "needs_background": "light"
     },
     "output_type": "display_data"
    }
   ],
   "source": [
    "plt.figure(2)\n",
    "sns.histplot(x_100_bar, label='$n=100$', kde=True, stat='density')\n",
    "sns.histplot(x_1000_bar, label='$n=1000$', kde=True, stat='density', color=sns.color_palette()[1])\n",
    "desc_dist_plot('\\overline{{x}}_n', '\\overline{{X}}_n', title='X\\sim Exp(\\lambda), \\lambda={:3.1f}'.format(lam),legend=True)"
   ]
  },
  {
   "cell_type": "markdown",
   "id": "156ba258-9c66-4af3-80ce-419213e92428",
   "metadata": {},
   "source": [
    "## Monte-Carlo and Law of Large Numbers\n",
    "\n",
    "**Example.** We simulate die rolls with increasing number of simulations. We investigate how simulation averages are related to the theoretical expection ($3.5$) and how probabilities of each number are related to relative frequencies from the simulation as the number of simulation grows."
   ]
  },
  {
   "cell_type": "code",
   "execution_count": 114,
   "id": "41481706-cbd6-44c8-b894-01e75de1f47c",
   "metadata": {},
   "outputs": [
    {
     "name": "stderr",
     "output_type": "stream",
     "text": [
      "C:\\Users\\denis\\AppData\\Local\\Programs\\Python\\Python310\\lib\\site-packages\\seaborn\\_decorators.py:36: FutureWarning: Pass the following variables as keyword args: x, y. From version 0.12, the only valid positional argument will be `data`, and passing other arguments without an explicit keyword will result in an error or misinterpretation.\n",
      "  warnings.warn(\n"
     ]
    },
    {
     "data": {
      "image/png": "[encoded data removed]",
      "text/plain": [
       "<Figure size 432x288 with 1 Axes>"
      ]
     },
     "metadata": {
      "needs_background": "light"
     },
     "output_type": "display_data"
    },
    {
     "data": {
      "image/png": "[encoded data removed]",
      "text/plain": [
       "<Figure size 432x288 with 1 Axes>"
      ]
     },
     "metadata": {
      "needs_background": "light"
     },
     "output_type": "display_data"
    }
   ],
   "source": [
    "x = np.random.randint(1, 7, size=10000)\n",
    "x_bar = np.cumsum(x) / np.arange(1, 10001)\n",
    "\n",
    "plt.figure(3)\n",
    "sns.lineplot(np.arange(1, 10001), x_bar)\n",
    "plt.xlabel('$n$')\n",
    "plt.ylabel('$\\overline{{X}}_n$')\n",
    "plt.title('Die Roll')\n",
    "\n",
    "plt.figure(4)\n",
    "sns.histplot(x, stat='probability')\n",
    "desc_dist_plot('x', 'X')"
   ]
  },
  {
   "cell_type": "markdown",
   "id": "a7505105-51e7-4e62-a97a-fa87b07b091b",
   "metadata": {},
   "source": [
    "## Demonstration of Central Limit Theorem\n",
    "\n",
    "**Example.** Suppose we have a source code for a software program consisting of $n=100$ files of code. Let\n",
    "$X_i$ be the number of errors in the $i^{th}$ file. Suppose that the $X_i \\sim Pois(1)$ and that\n",
    "they are independent. Let $Y=\\sum_{i=1}^n X_i$ be the total number of errors in the software program.\n",
    "Use the central limit theorem to approximate $P(Y \\leq 80)$.\n"
   ]
  },
  {
   "cell_type": "markdown",
   "id": "6efb0eed-7aa1-40a8-befc-4dac2096e790",
   "metadata": {
    "pycharm": {
     "name": "#%% md\n"
    }
   },
   "source": [
    "### Probability of $Y \\leq y$ bugs in a software program with $n$ files"
   ]
  },
  {
   "cell_type": "code",
   "execution_count": 115,
   "id": "30be43a7-73bf-44c6-ab85-8287e761a1f5",
   "metadata": {
    "collapsed": false,
    "jupyter": {
     "outputs_hidden": false
    },
    "pycharm": {
     "is_executing": false,
     "name": "#%%\n"
    }
   },
   "outputs": [],
   "source": [
    "n = 100\n",
    "y = 80"
   ]
  },
  {
   "cell_type": "markdown",
   "id": "23022cff-f8f6-4259-93ed-7968fc0f3023",
   "metadata": {
    "pycharm": {
     "name": "#%% md\n"
    }
   },
   "source": [
    "### Poisson distribution\n",
    "\n",
    "For a $X \\sim Poisson(\\lambda)$ we have $E(X)=\\lambda$ and $Var(X)=\\lambda$. We are interested in\n",
    "$Y = \\sum_{i=1}^n X_i = n\\overline{X}_n$. We know from CLT that\n",
    "$\\overline{X}_n \\approx N(\\mu, \\frac{\\sigma^2}{n})$. Thus, we have:\n",
    "\n",
    "\\begin{equation}\n",
    "Y = n\\overline{X}_n \\approx N(n\\mu, n\\sigma^2)\n",
    "\\end{equation}\n"
   ]
  },
  {
   "cell_type": "code",
   "execution_count": 116,
   "id": "fb293fb3-5079-4b73-adf5-928c34182b5e",
   "metadata": {
    "collapsed": false,
    "jupyter": {
     "outputs_hidden": false
    },
    "pycharm": {
     "is_executing": false,
     "name": "#%%\n"
    }
   },
   "outputs": [],
   "source": [
    "lam = 1\n",
    "mu = n * lam\n",
    "var = n * lam"
   ]
  },
  {
   "cell_type": "markdown",
   "id": "25ac4000-e656-4b30-89a8-42b4bc9ae528",
   "metadata": {
    "pycharm": {
     "name": "#%% md\n"
    }
   },
   "source": [
    "### Approximation with the Normal distribution"
   ]
  },
  {
   "cell_type": "code",
   "execution_count": 117,
   "id": "85b8170d-ef4e-4e09-955b-eec5ac9b7f81",
   "metadata": {
    "collapsed": false,
    "jupyter": {
     "outputs_hidden": false
    },
    "pycharm": {
     "is_executing": false,
     "name": "#%%\n"
    }
   },
   "outputs": [
    {
     "name": "stdout",
     "output_type": "stream",
     "text": [
      "Normal approximation: P(Y <= 80) = 0.0228\n"
     ]
    },
    {
     "data": {
      "image/png": "[encoded data removed]",
      "text/plain": [
       "<Figure size 432x288 with 1 Axes>"
      ]
     },
     "metadata": {
      "needs_background": "light"
     },
     "output_type": "display_data"
    }
   ],
   "source": [
    "x = stats.norm.rvs(loc = mu, scale=math.sqrt(var), size=100000)\n",
    "\n",
    "plt.figure(5)\n",
    "sns.histplot(x, kde=True, stat='density')\n",
    "desc_dist_plot('y', 'Y', title='Y\\sim N({}, {})'.format(mu, var))\n",
    "\n",
    "p = stats.norm.cdf(y, loc=mu, scale=math.sqrt(var))\n",
    "print('Normal approximation: P(Y <= {}) = {:6.4f}'.format(y, p))"
   ]
  },
  {
   "cell_type": "markdown",
   "id": "167d9fcc-ce47-48be-b44f-43f72017e733",
   "metadata": {
    "pycharm": {
     "is_executing": false,
     "name": "#%% md\n"
    }
   },
   "source": [
    "### Approximation by simulating from the Poisson distribution"
   ]
  },
  {
   "cell_type": "code",
   "execution_count": 118,
   "id": "fa8fb477-cefa-49a2-a4b9-176a64eb069a",
   "metadata": {
    "collapsed": false,
    "jupyter": {
     "outputs_hidden": false
    },
    "pycharm": {
     "is_executing": false,
     "name": "#%%\n"
    }
   },
   "outputs": [
    {
     "name": "stdout",
     "output_type": "stream",
     "text": [
      "Poisson simulation: P(Y <= 80) = 0.0216\n"
     ]
    }
   ],
   "source": [
    "b = 100000\n",
    "count = 0\n",
    "for i in range(b):\n",
    "    s_n = sum(stats.poisson.rvs(lam, size=n))\n",
    "    if s_n <= y:\n",
    "        count += 1\n",
    "\n",
    "print('Poisson simulation: P(Y <= {}) = {:6.4f}'.format(y, count / b))"
   ]
  },
  {
   "cell_type": "markdown",
   "id": "b6b9c85a-cb16-4e38-8979-462ca1501d01",
   "metadata": {
    "pycharm": {
     "name": "#%% md\n"
    }
   },
   "source": [
    "## Radar Guns\n",
    "\n",
    "**Example.** Suppose $n=4$ radar guns are set up along a stretch of road to catch people driving\n",
    "over the speed limit. Each radar gun is known to have a normal measurement error\n",
    "$N(0, \\sigma^2)$, $\\sigma = 5 km/h$. For a car passing at speed $\\mu$ four readings are\n",
    "$(45.71, 47.41, 40.95, 50.65)$. Compute a random interval that covers the true\n",
    "unknown car speed $\\mu$ with probability of $0.95$.\n"
   ]
  },
  {
   "cell_type": "markdown",
   "id": "1dc4cbe6-251c-4f6d-bf68-e123673f9310",
   "metadata": {
    "pycharm": {
     "name": "#%% md\n"
    }
   },
   "source": [
    "### Z-score confidence intervals\n"
   ]
  },
  {
   "cell_type": "code",
   "execution_count": 119,
   "id": "289913d4-d1cd-4b59-8431-96f0c05a3f26",
   "metadata": {
    "pycharm": {
     "is_executing": false,
     "name": "#%%\n"
    }
   },
   "outputs": [
    {
     "name": "stdout",
     "output_type": "stream",
     "text": [
      "95.0% Z confidence interval for mu: (41.28, 51.08)\n"
     ]
    }
   ],
   "source": [
    "sigma = 5\n",
    "n = 4\n",
    "x = [45.71, 47.41, 40.95, 50.65]\n",
    "alpha = 0.05\n",
    "\n",
    "z_alpha_half = stats.norm.ppf(1 - alpha / 2)\n",
    "x_bar = np.mean(x)\n",
    "\n",
    "print('{}% Z confidence interval for mu: ({:5.2f}, {:5.2f})'.format((1 - alpha) * 100,\n",
    "      x_bar - z_alpha_half * sigma / math.sqrt(n),\n",
    "      x_bar + z_alpha_half * sigma / math.sqrt(n)))"
   ]
  },
  {
   "cell_type": "markdown",
   "id": "84d20ff1-7549-409c-bfc8-2e72e63dd58f",
   "metadata": {},
   "source": [
    "### T-score confidence intervals\n"
   ]
  },
  {
   "cell_type": "code",
   "execution_count": 120,
   "id": "d152a94c-652a-4d95-ab75-c4604929e302",
   "metadata": {
    "pycharm": {
     "is_executing": false,
     "name": "#%%\n"
    }
   },
   "outputs": [
    {
     "name": "stdout",
     "output_type": "stream",
     "text": [
      "95.0% T confidence interval for mu: (39.74, 52.62)\n"
     ]
    }
   ],
   "source": [
    "s_n = np.std(x, ddof=1)\n",
    "t_alpha_half = stats.t.ppf(1 - alpha / 2, n - 1)\n",
    "print('{}% T confidence interval for mu: ({:5.2f}, {:5.2f})'.format((1 - alpha) * 100,\n",
    "      x_bar - t_alpha_half * s_n / math.sqrt(n),\n",
    "      x_bar + t_alpha_half * s_n / math.sqrt(n)))"
   ]
  },
  {
   "cell_type": "markdown",
   "id": "b4777638-c038-4a6e-b6df-3201f05e10e6",
   "metadata": {},
   "source": [
    "### Bootstrap confidence intervals\n"
   ]
  },
  {
   "cell_type": "code",
   "execution_count": 121,
   "id": "76b5b2b7-e9ba-4204-8f91-969fa7e0ad1a",
   "metadata": {
    "pycharm": {
     "is_executing": false,
     "name": "#%%\n"
    }
   },
   "outputs": [
    {
     "name": "stdout",
     "output_type": "stream",
     "text": [
      "95.0% bootstrap confidence interval for mu: (42.95, 49.80)\n"
     ]
    }
   ],
   "source": [
    "b = 10000\n",
    "x_star = np.random.choice(x, (n, b))\n",
    "x_star_bar = np.mean(x_star, axis=0)\n",
    "delta_star = x_star_bar - x_bar\n",
    "print('{}% bootstrap confidence interval for mu: ({:5.2f}, {:5.2f})'.format((1 - alpha) * 100,\n",
    "      x_bar - np.quantile(delta_star, 1 - alpha/2),\n",
    "      x_bar - np.quantile(delta_star, alpha/2)))"
   ]
  },
  {
   "cell_type": "markdown",
   "id": "a69e2eca-cdc8-40f7-821f-1d2865d697f6",
   "metadata": {
    "pycharm": {
     "name": "#%% md\n"
    }
   },
   "source": [
    "## Bootstrap Confidence Intervals for Arbitrary Statistics\n",
    "\n",
    "**Example.** The skewness is a measure of asymmetry of a distribution. A normal distribution,\n",
    "which is symmetric, has skewness $0$. Estimate the confidence interval for the skewness of\n",
    "game sales in North America using the Game Sales dataset from Kaggle: \n",
    "https://www.kaggle.com/gregorut/videogamesales.\n"
   ]
  },
  {
   "cell_type": "code",
   "execution_count": 122,
   "id": "8db19f9d-f7e4-471d-a55b-7ee9b50bbd4e",
   "metadata": {
    "pycharm": {
     "is_executing": false,
     "name": "#%%\n"
    }
   },
   "outputs": [
    {
     "name": "stdout",
     "output_type": "stream",
     "text": [
      "Column names are Rank, Name, Platform, Year, Genre, Publisher, NA_Sales, EU_Sales, JP_Sales, Other_Sales, Global_Sales\n",
      "Processed 16599 lines.\n",
      "Sample skewness: 18.80\n",
      "95.0% bootstrap confidence interval for skewness: (13.63, 27.06)\n"
     ]
    }
   ],
   "source": [
    "def game_sales(count=100):\n",
    "    names = []\n",
    "    na_sales = []\n",
    "    eu_sales = []\n",
    "    jp_sales = []\n",
    "    other_sales = []\n",
    "\n",
    "    with open('vgsales.csv', encoding='utf-8') as csv_file:\n",
    "        csv_reader = csv.reader(csv_file, delimiter=',')\n",
    "        line_count = 0\n",
    "        game_count = 0\n",
    "        for row in csv_reader:\n",
    "            if game_count == count:\n",
    "                break\n",
    "            if line_count == 0:\n",
    "                print(f'Column names are {\", \".join(row)}')\n",
    "                line_count += 1\n",
    "            else:\n",
    "                name = row[1]\n",
    "                na = row[6]\n",
    "                eu = row[7]\n",
    "                jp = row[8]\n",
    "                total = row[10]\n",
    "                if(name != '' and na != '' and eu != '' and jp != '' and total != ''):\n",
    "                    names.append(name)\n",
    "                    na_sales.append(float(na))\n",
    "                    eu_sales.append(float(eu))\n",
    "                    jp_sales.append(float(jp))\n",
    "                    other_sales.append(float(total))\n",
    "                    game_count += 1\n",
    "                line_count += 1\n",
    "        print(f'Processed {line_count} lines.')\n",
    "    return names, na_sales, eu_sales, jp_sales, other_sales\n",
    "\n",
    "\n",
    "alpha = 0.05\n",
    "\n",
    "name, x, eu, jp, other = game_sales(count=-1)\n",
    "n = len(x)\n",
    "s = stats.skew(x)\n",
    "print('Sample skewness: {:4.2f}'.format(s))\n",
    "\n",
    "b = 1000\n",
    "x_star = np.random.choice(x, (n, b))\n",
    "s_star = stats.skew(x_star, axis=0)\n",
    "delta_star = s_star - s\n",
    "print('{}% bootstrap confidence interval for skewness: ({:4.2f}, {:4.2f})'.format((1 - alpha) * 100,\n",
    "      s - np.quantile(delta_star, 1 - alpha/2),\n",
    "      s - np.quantile(delta_star, alpha/2)))"
   ]
  },
  {
   "cell_type": "markdown",
   "id": "3e85aa9a-f7a8-4c2b-9c32-842c36e58ce9",
   "metadata": {
    "pycharm": {
     "name": "#%% md\n"
    }
   },
   "source": [
    "## Bioequoivalence of a New Hormone Drug\n",
    "\n",
    "**Example.** This example is from Efron  and Tibshirani (inventors of bootstrap), \"An Introduction to the\n",
    "Bootstrap\". When drug companies introduce new medications, they need to show bioequivalence,\n",
    "i.e., that the new drug is not substantially different than the current one.\n",
    "Here are data on eight subjects who used hormone infusing drug.\n",
    "Each subject received three treatments: placebo, old, new.\n",
    "Let $X=$old-placebo and $Y=$new-old. The bioequivalence is given if $|\\theta| \\leq 0.2$, where\n",
    "$\\theta = \\frac{E_F(Y)}{E_F(X)}$. Answer the bioeqivalence question with bootstrap.\n",
    "The data is:\n",
    "\n",
    "|placebo |old   |new  |\n",
    "|--------|------|-----|\n",
    "|9243    |17649 |16449|\n",
    "|9671    |12013 |14614|\n",
    "|11792   |19979 |17274|\n",
    "|13357   |21816 |23798|\n",
    "|9055    |13850 |12560|\n",
    "|6290    |9806  |10157|\n",
    "|12412   |17208 |16570|\n",
    "|18806   |29044 |26325|\n"
   ]
  },
  {
   "cell_type": "code",
   "execution_count": 123,
   "id": "781aa798-3e87-439c-8ea0-b31047b43ebb",
   "metadata": {
    "pycharm": {
     "is_executing": false,
     "name": "#%%\n"
    }
   },
   "outputs": [
    {
     "name": "stdout",
     "output_type": "stream",
     "text": [
      "Sample bioequivalence:  -0.07130609590256017\n",
      "95.0% bootstrap confidence interval for bioeqivalence: (-0.296, 0.084)\n"
     ]
    }
   ],
   "source": [
    "def hormone_drug():\n",
    "    placebo = [9243, 9671, 11792, 13357, 9055, 6290, 12412, 18806]\n",
    "    old = [17649, 12013, 19979, 21816, 13850, 9806, 17208, 29044]\n",
    "    new = [16449, 14614, 17274, 23798, 12560, 10157, 16570, 26325]\n",
    "    return placebo, old, new\n",
    "\n",
    "\n",
    "alpha = 0.05\n",
    "\n",
    "placebo, old, new = hormone_drug()\n",
    "placebo = np.array(placebo)\n",
    "old = np.array(old)\n",
    "new = np.array(new)\n",
    "bio = np.mean(new - old) / np.mean(old - placebo)\n",
    "print('Sample bioequivalence: ', bio)\n",
    "n = len(placebo)\n",
    "x = range(n)\n",
    "\n",
    "b = 1000\n",
    "x_star = np.random.choice(x, (n, b))\n",
    "bio_star = np.mean(new[x_star] - old[x_star], axis=0) / np.mean(old[x_star] - placebo[x_star], axis=0)\n",
    "delta_star = bio_star - bio\n",
    "print('{}% bootstrap confidence interval for bioeqivalence: ({:5.3f}, {:5.3f})'.format((1 - alpha) * 100,\n",
    "      bio - np.quantile(delta_star, 1 - alpha/2),\n",
    "      bio - np.quantile(delta_star, alpha/2)))"
   ]
  },
  {
   "cell_type": "markdown",
   "id": "bd096464-c4c7-464e-b92d-44111e342bb9",
   "metadata": {
    "pycharm": {
     "name": "#%% md\n"
    }
   },
   "source": [
    "We obtain $(-0.291, 0.094)$ as a $95\\%$ bootstrap confidence interval, $(-0.2, 0.2)$ is not contained in it\n",
    "and hence we have not demonstrated the bioeqivalence."
   ]
  }
 ],
 "metadata": {
  "kernelspec": {
   "display_name": "Python 3 (ipykernel)",
   "language": "python",
   "name": "python3"
  },
  "language_info": {
   "codemirror_mode": {
    "name": "ipython",
    "version": 3
   },
   "file_extension": ".py",
   "mimetype": "text/x-python",
   "name": "python",
   "nbconvert_exporter": "python",
   "pygments_lexer": "ipython3",
   "version": "3.10.4"
  }
 },
 "nbformat": 4,
 "nbformat_minor": 5
}
