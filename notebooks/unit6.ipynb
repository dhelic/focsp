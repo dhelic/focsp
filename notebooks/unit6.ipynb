{
 "cells": [
  {
   "cell_type": "markdown",
   "id": "45699905-59db-42df-85da-3a3c0abf01b2",
   "metadata": {},
   "source": [
    "# List comprehensions"
   ]
  },
  {
   "cell_type": "code",
   "execution_count": 52,
   "id": "709f22be-eea2-43c8-a322-1173508b62a1",
   "metadata": {},
   "outputs": [
    {
     "name": "stdout",
     "output_type": "stream",
     "text": [
      "['VIENNA', 'AUSTRIA', 'GERMANY']\n",
      "[2, 22, 100, 114]\n",
      "[0.3333333333333333, 0.75, 0.6, 1.0, 0.75, 0.5555555555555556, 1.25, 1.0, 1.6666666666666667, 1.25, 0.6666666666666666, 1.5, 1.2, 2.0, 1.5, -0.1111111111111111, -0.25, -0.2, -0.3333333333333333, -0.25]\n",
      "[0.3333333333333333, 0.75, 0.6, 1.0, 0.75, 0.5555555555555556, 1.25, 1.0, 1.6666666666666667, 1.25, 0.6666666666666666, 1.5, 1.2, 2.0, 1.5, -0.1111111111111111, -0.25, -0.2, -0.3333333333333333, -0.25]\n"
     ]
    }
   ],
   "source": [
    "strings = ['vienna', 'austria', 'germany']\n",
    "\n",
    "upper_strings = [s.upper() for s in strings]\n",
    "print(upper_strings)\n",
    "\n",
    "numbers = [1, 2, 5, 7, 11, 23, 22, 89, 100, 114]\n",
    "odd_numbers = [x for x in numbers if x % 2 == 0]\n",
    "print(odd_numbers)\n",
    "\n",
    "numerators = [3, 5, 6, -1]\n",
    "denominators = [9, 4, 5, 3, 4]\n",
    "ratios = [x / y for x in numerators for y in denominators]\n",
    "print(ratios)\n",
    "\n",
    "denominators = [9, 4, 5, 0, 3, 4]\n",
    "ratios = [x / y for x in numerators for y in denominators if y != 0]\n",
    "print(ratios)"
   ]
  },
  {
   "cell_type": "markdown",
   "id": "5f946778-ca29-4e59-bd47-34de4526fc33",
   "metadata": {},
   "source": [
    "# Nested loops"
   ]
  },
  {
   "cell_type": "code",
   "execution_count": 56,
   "id": "c6b88785-f893-4bc9-a3dc-225dcd8879cc",
   "metadata": {},
   "outputs": [
    {
     "name": "stdout",
     "output_type": "stream",
     "text": [
      "0 0\n",
      "0 1\n",
      "0 2\n",
      "1 0\n",
      "1 1\n",
      "1 2\n",
      "2 0\n",
      "2 1\n",
      "2 2\n",
      "3 0\n",
      "3 1\n",
      "3 2\n",
      "4 0\n",
      "4 1\n",
      "4 2\n",
      "5 0\n",
      "5 1\n",
      "5 2\n"
     ]
    }
   ],
   "source": [
    "for i in range(6):\n",
    "    for j in range(3):\n",
    "        print(i, j)"
   ]
  },
  {
   "cell_type": "code",
   "execution_count": 57,
   "id": "e53f3092-9d6c-46e2-b60d-b6362b3057fe",
   "metadata": {},
   "outputs": [
    {
     "name": "stdout",
     "output_type": "stream",
     "text": [
      "(1, -2)\n",
      "(1, 10)\n",
      "(1, 5)\n",
      "(1, 6)\n",
      "(5, -2)\n",
      "(5, 10)\n",
      "(5, 5)\n",
      "(5, 6)\n",
      "(6, -2)\n",
      "(6, 10)\n",
      "(6, 5)\n",
      "(6, 6)\n"
     ]
    }
   ],
   "source": [
    "# Cartesian product of two lists\n",
    "list1 = [1, 5, 6]\n",
    "list2 = [-2, 10, 5, 6]\n",
    "\n",
    "for e1 in list1:\n",
    "    for e2 in list2:\n",
    "        print((e1, e2))"
   ]
  },
  {
   "cell_type": "code",
   "execution_count": 62,
   "id": "bf757064-16f3-4e98-b937-0f721dd29b32",
   "metadata": {},
   "outputs": [
    {
     "name": "stdout",
     "output_type": "stream",
     "text": [
      "list[0][0]: 1\n",
      "list[0][1]: 5\n",
      "list[0][2]: 6\n",
      "list[1][0]: 10\n",
      "list[1][1]: -2\n",
      "list[1][2]: 5\n",
      "list[1][3]: 6\n"
     ]
    }
   ],
   "source": [
    "# iterate over lists of lists\n",
    "list = [[1, 5, 6], [10, -2, 5, 6]]\n",
    "\n",
    "for i, row in enumerate(list):\n",
    "    for j, e in enumerate(row):\n",
    "        print(f'list[{i}][{j}]: {e}')"
   ]
  },
  {
   "cell_type": "code",
   "execution_count": 63,
   "id": "bbcff8dd-5036-4c51-bb40-061acb24b232",
   "metadata": {},
   "outputs": [
    {
     "name": "stdout",
     "output_type": "stream",
     "text": [
      "list[0][0]: 1\n",
      "list[0][1]: 5\n",
      "list[0][2]: 6\n",
      "list[1][0]: 10\n"
     ]
    }
   ],
   "source": [
    "# don't print the rest of the list if we encounter a negative element\n",
    "for i, row in enumerate(list):\n",
    "    for j, e in enumerate(row):\n",
    "        if e >= 0:\n",
    "            print(f'list[{i}][{j}]: {e}')\n",
    "        else:\n",
    "            break"
   ]
  },
  {
   "cell_type": "code",
   "execution_count": 64,
   "id": "2c21b1ab-b620-427f-ba5c-d93716f0b7df",
   "metadata": {},
   "outputs": [
    {
     "name": "stdout",
     "output_type": "stream",
     "text": [
      "list[0][0]: 1\n",
      "list[0][1]: 5\n",
      "list[0][2]: 6\n",
      "list[1][0]: 10\n",
      "list[1][2]: 5\n",
      "list[1][3]: 6\n"
     ]
    }
   ],
   "source": [
    "# don't print a negative element\n",
    "for i, row in enumerate(list):\n",
    "    for j, e in enumerate(row):\n",
    "        if e >= 0:\n",
    "            print(f'list[{i}][{j}]: {e}')\n",
    "        else:\n",
    "            continue"
   ]
  },
  {
   "cell_type": "markdown",
   "id": "e2152050-3b55-461b-b284-f72de621b0e8",
   "metadata": {},
   "source": [
    "# Functions"
   ]
  },
  {
   "cell_type": "markdown",
   "id": "3d0b0b21-faff-4f9a-8798-087a43c4e366",
   "metadata": {},
   "source": [
    "### Very simple basics"
   ]
  },
  {
   "cell_type": "code",
   "execution_count": 1,
   "id": "e072265f-031d-4ded-a065-b1a9e6ff91e3",
   "metadata": {},
   "outputs": [],
   "source": [
    "def test_simple():\n",
    "    print(f'Hi everyone!')"
   ]
  },
  {
   "cell_type": "code",
   "execution_count": 2,
   "id": "9a99bc5c-f201-47a3-b876-5275e4676afb",
   "metadata": {},
   "outputs": [
    {
     "name": "stdout",
     "output_type": "stream",
     "text": [
      "Hi everyone!\n"
     ]
    }
   ],
   "source": [
    "test_simple()"
   ]
  },
  {
   "cell_type": "code",
   "execution_count": 3,
   "id": "a33cff82-dc25-4af2-bf4a-2592c4938f80",
   "metadata": {},
   "outputs": [],
   "source": [
    "def test_param(param):\n",
    "    print(f'You passed \"{param}\" to this function')"
   ]
  },
  {
   "cell_type": "code",
   "execution_count": 4,
   "id": "f6fc59e6-85ff-4217-89f8-d2583362d041",
   "metadata": {},
   "outputs": [
    {
     "name": "stdout",
     "output_type": "stream",
     "text": [
      "You passed \"Hello!\" to this function\n"
     ]
    }
   ],
   "source": [
    "test_param('Hello!')"
   ]
  },
  {
   "cell_type": "code",
   "execution_count": 5,
   "id": "b6b7cd09-7dc4-4080-8525-2e8f108ea7b1",
   "metadata": {},
   "outputs": [
    {
     "name": "stdout",
     "output_type": "stream",
     "text": [
      "Bye everyone!\n"
     ]
    }
   ],
   "source": [
    "# what happens now?\n",
    "def test_simple():\n",
    "    print(f'Hi everyone!') \n",
    "\n",
    "# second definition will overwrite the first one!\n",
    "# only the second definition \"counts\"\n",
    "def test_simple():\n",
    "    print(f'Bye everyone!') \n",
    "    \n",
    "test_simple()"
   ]
  },
  {
   "cell_type": "markdown",
   "id": "36c2de0d-822d-4d54-908f-63990770ce92",
   "metadata": {},
   "source": [
    "### Basic parameter examples"
   ]
  },
  {
   "cell_type": "code",
   "execution_count": 6,
   "id": "b64b31f1-b628-409e-88b3-9a8711e24517",
   "metadata": {},
   "outputs": [],
   "source": [
    "def say_simple_name(first, last):\n",
    "    print(f'Firstname is {first}, surname is {last}.')"
   ]
  },
  {
   "cell_type": "code",
   "execution_count": 47,
   "id": "38780d1d-822f-403e-b71e-3840e01fd958",
   "metadata": {},
   "outputs": [
    {
     "name": "stdout",
     "output_type": "stream",
     "text": [
      "Firstname is John, surname is Doe.\n"
     ]
    }
   ],
   "source": [
    "say_simple_name('John', 'Doe')"
   ]
  },
  {
   "cell_type": "code",
   "execution_count": 8,
   "id": "3b058923-b18d-43cd-8421-dbdd6adb964c",
   "metadata": {},
   "outputs": [
    {
     "name": "stdout",
     "output_type": "stream",
     "text": [
      "Firstname is Jane, surname is Doe.\n"
     ]
    }
   ],
   "source": [
    "say_simple_name('Jane', 'Doe')"
   ]
  },
  {
   "cell_type": "code",
   "execution_count": 9,
   "id": "80029ebb-7593-4d54-ad94-36611286c218",
   "metadata": {},
   "outputs": [
    {
     "ename": "TypeError",
     "evalue": "say_simple_name() missing 2 required positional arguments: 'first' and 'last'",
     "output_type": "error",
     "traceback": [
      "\u001b[1;31m---------------------------------------------------------------------------\u001b[0m",
      "\u001b[1;31mTypeError\u001b[0m                                 Traceback (most recent call last)",
      "Input \u001b[1;32mIn [9]\u001b[0m, in \u001b[0;36m<cell line: 1>\u001b[1;34m()\u001b[0m\n\u001b[1;32m----> 1\u001b[0m \u001b[43msay_simple_name\u001b[49m\u001b[43m(\u001b[49m\u001b[43m)\u001b[49m\n",
      "\u001b[1;31mTypeError\u001b[0m: say_simple_name() missing 2 required positional arguments: 'first' and 'last'"
     ]
    }
   ],
   "source": [
    "say_simple_name()"
   ]
  },
  {
   "cell_type": "code",
   "execution_count": 10,
   "id": "dab81093-8880-407f-af2b-d08ff4b10451",
   "metadata": {},
   "outputs": [
    {
     "ename": "TypeError",
     "evalue": "say_simple_name() missing 1 required positional argument: 'last'",
     "output_type": "error",
     "traceback": [
      "\u001b[1;31m---------------------------------------------------------------------------\u001b[0m",
      "\u001b[1;31mTypeError\u001b[0m                                 Traceback (most recent call last)",
      "Input \u001b[1;32mIn [10]\u001b[0m, in \u001b[0;36m<cell line: 1>\u001b[1;34m()\u001b[0m\n\u001b[1;32m----> 1\u001b[0m \u001b[43msay_simple_name\u001b[49m\u001b[43m(\u001b[49m\u001b[38;5;124;43m'\u001b[39;49m\u001b[38;5;124;43mJane\u001b[39;49m\u001b[38;5;124;43m'\u001b[39;49m\u001b[43m)\u001b[49m\n",
      "\u001b[1;31mTypeError\u001b[0m: say_simple_name() missing 1 required positional argument: 'last'"
     ]
    }
   ],
   "source": [
    "say_simple_name('Jane')"
   ]
  },
  {
   "cell_type": "markdown",
   "id": "3e737a0b-b1e1-4969-90c9-06deea95e9fa",
   "metadata": {},
   "source": [
    "### Reusability and maintanability of functions\n",
    "Print names of famous persons with first letter of first/lastname in uppercase."
   ]
  },
  {
   "cell_type": "code",
   "execution_count": 11,
   "id": "76c9aebc-7e4f-4317-bf93-363c5e25b3be",
   "metadata": {},
   "outputs": [
    {
     "name": "stdout",
     "output_type": "stream",
     "text": [
      "ARNOLD SCHWARZENEGGER\n",
      "TOM CRUISE\n",
      "NICHOLAS CAGE\n",
      "JACK NICHOLSON\n"
     ]
    }
   ],
   "source": [
    "# Realize how hard it is to fix a program like this...\n",
    "first = 'aRnOlD'\n",
    "last = 'sChWaRzEnEgGeR'\n",
    "full_name = f'{first} {last}'\n",
    "full_name = full_name.upper()\n",
    "print(full_name)\n",
    "\n",
    "first = 'TOM'\n",
    "last = 'CRUISE'\n",
    "full_name = f'{first} {last}'\n",
    "full_name = full_name.upper()\n",
    "print(full_name)\n",
    "\n",
    "first = 'nIchoLAS'\n",
    "last = 'cage'\n",
    "full_name = f'{first} {last}'\n",
    "full_name = full_name.upper()\n",
    "print(full_name)\n",
    "\n",
    "first = 'jack'\n",
    "last = 'NICHOLSON'\n",
    "full_name = f'{first} {last}'\n",
    "full_name = full_name.upper()\n",
    "print(full_name)\n",
    "\n",
    "# What if we now want title-case instead?"
   ]
  },
  {
   "cell_type": "code",
   "execution_count": 12,
   "id": "bfb9d7a6-e2c5-4ef5-9cd7-2a472da8b2fb",
   "metadata": {},
   "outputs": [],
   "source": [
    "def print_formatted_name(first, last):\n",
    "    full_name = f'{first} {last}'\n",
    "    full_name = full_name.title()\n",
    "    print(full_name)"
   ]
  },
  {
   "cell_type": "code",
   "execution_count": 13,
   "id": "d63f1b35-ae66-4555-b51c-ad6bbd2bd088",
   "metadata": {},
   "outputs": [
    {
     "name": "stdout",
     "output_type": "stream",
     "text": [
      "Arnold Schwarzenegger\n",
      "Tom Cruise\n",
      "Nicholas Cage\n",
      "Jack Nicholson\n"
     ]
    }
   ],
   "source": [
    "print_formatted_name('aRnOlD', 'sChWaRzEnEgGeR')\n",
    "print_formatted_name('TOM', 'CRUISE')\n",
    "print_formatted_name('nIchoLAS', 'cage')\n",
    "print_formatted_name('jack', 'NICHOLSON')"
   ]
  },
  {
   "cell_type": "markdown",
   "id": "acc7162c-05b7-4f0f-ae9e-510f1d20bece",
   "metadata": {},
   "source": [
    "#### Examples for parameters/arguments and corresponding errors"
   ]
  },
  {
   "cell_type": "code",
   "execution_count": 14,
   "id": "1729feca-6004-4597-9f7e-38b3a641b58d",
   "metadata": {},
   "outputs": [],
   "source": [
    "# slide examples\n",
    "def say_name(first, last, country='Austria'):\n",
    "    print(f'Firstname is {first}, surname is {last}.')\n",
    "    print(f'I live in {country}.')"
   ]
  },
  {
   "cell_type": "code",
   "execution_count": 16,
   "id": "20408ba5-2441-4360-a2b7-80e1e7c8e539",
   "metadata": {},
   "outputs": [
    {
     "name": "stdout",
     "output_type": "stream",
     "text": [
      "Firstname is John, surname is Doe.\n",
      "I live in Austria.\n",
      "Firstname is Doe, surname is John.\n",
      "I live in Austria.\n",
      "Firstname is Jane, surname is Doe.\n",
      "I live in Germany.\n"
     ]
    }
   ],
   "source": [
    "# Positional arguments 1\n",
    "say_name('John', 'Doe')\n",
    "# Positional arguments 2\n",
    "say_name('Doe', 'John')\n",
    "# Positional arguments 3\n",
    "say_name('Jane', 'Doe', 'Germany')"
   ]
  },
  {
   "cell_type": "code",
   "execution_count": 17,
   "id": "c45aaf67-26e1-46fc-8131-a32b1aebb915",
   "metadata": {},
   "outputs": [
    {
     "name": "stdout",
     "output_type": "stream",
     "text": [
      "Firstname is John, surname is Doe.\n",
      "I live in Austria.\n",
      "Firstname is Doe, surname is John.\n",
      "I live in Austria.\n",
      "Firstname is Jane, surname is Doe.\n",
      "I live in Germany.\n"
     ]
    }
   ],
   "source": [
    "# Keyword arguments 1\n",
    "say_name(first='John', last='Doe')\n",
    "# Keyword arguments 2: spot the difference\n",
    "say_name(last='John', first='Doe')\n",
    "# Keyword arguments 3\n",
    "say_name(country='Germany', first='Jane', last='Doe')"
   ]
  },
  {
   "cell_type": "code",
   "execution_count": 18,
   "id": "2419d8ed-975a-4237-8bf3-af0e22696797",
   "metadata": {},
   "outputs": [
    {
     "name": "stdout",
     "output_type": "stream",
     "text": [
      "Firstname is Jane, surname is Doe.\n",
      "I live in Germany.\n"
     ]
    }
   ],
   "source": [
    "# Mix of positional and keyword arguments\n",
    "say_name('Jane', country='Germany', last='Doe')"
   ]
  },
  {
   "cell_type": "code",
   "execution_count": 20,
   "id": "f7a905d2-0f69-4854-8905-4e3c8563b493",
   "metadata": {},
   "outputs": [
    {
     "ename": "TypeError",
     "evalue": "say_name() missing 1 required positional argument: 'last'",
     "output_type": "error",
     "traceback": [
      "\u001b[1;31m---------------------------------------------------------------------------\u001b[0m",
      "\u001b[1;31mTypeError\u001b[0m                                 Traceback (most recent call last)",
      "Input \u001b[1;32mIn [20]\u001b[0m, in \u001b[0;36m<cell line: 3>\u001b[1;34m()\u001b[0m\n\u001b[0;32m      1\u001b[0m \u001b[38;5;66;03m# Argument error\u001b[39;00m\n\u001b[0;32m      2\u001b[0m \u001b[38;5;66;03m# Positional argument ?\u001b[39;00m\n\u001b[1;32m----> 3\u001b[0m \u001b[43msay_name\u001b[49m\u001b[43m(\u001b[49m\u001b[38;5;124;43m'\u001b[39;49m\u001b[38;5;124;43mJohn\u001b[39;49m\u001b[38;5;124;43m'\u001b[39;49m\u001b[43m)\u001b[49m\n",
      "\u001b[1;31mTypeError\u001b[0m: say_name() missing 1 required positional argument: 'last'"
     ]
    }
   ],
   "source": [
    "# Argument error\n",
    "# Positional argument ?\n",
    "say_name('John')"
   ]
  },
  {
   "cell_type": "code",
   "execution_count": 21,
   "id": "4431a9e9-26c6-4824-9e57-c0fefc43ae75",
   "metadata": {},
   "outputs": [
    {
     "name": "stdout",
     "output_type": "stream",
     "text": [
      "Firstname is Austria, surname is Doe.\n",
      "I live in John.\n"
     ]
    }
   ],
   "source": [
    "# Logical error\n",
    "# Positional arguments ?\n",
    "say_name('Austria', 'Doe', 'John')"
   ]
  },
  {
   "cell_type": "code",
   "execution_count": 22,
   "id": "8871167c-6867-4914-ae93-3f80226a281a",
   "metadata": {},
   "outputs": [
    {
     "ename": "TypeError",
     "evalue": "say_name() got an unexpected keyword argument 'fs'",
     "output_type": "error",
     "traceback": [
      "\u001b[1;31m---------------------------------------------------------------------------\u001b[0m",
      "\u001b[1;31mTypeError\u001b[0m                                 Traceback (most recent call last)",
      "Input \u001b[1;32mIn [22]\u001b[0m, in \u001b[0;36m<cell line: 3>\u001b[1;34m()\u001b[0m\n\u001b[0;32m      1\u001b[0m \u001b[38;5;66;03m# Argument error\u001b[39;00m\n\u001b[0;32m      2\u001b[0m \u001b[38;5;66;03m# Keyword argument ?\u001b[39;00m\n\u001b[1;32m----> 3\u001b[0m \u001b[43msay_name\u001b[49m\u001b[43m(\u001b[49m\u001b[43mfs\u001b[49m\u001b[38;5;241;43m=\u001b[39;49m\u001b[38;5;124;43m'\u001b[39;49m\u001b[38;5;124;43mJohn\u001b[39;49m\u001b[38;5;124;43m'\u001b[39;49m\u001b[43m,\u001b[49m\u001b[43m \u001b[49m\u001b[43mlast\u001b[49m\u001b[38;5;241;43m=\u001b[39;49m\u001b[38;5;124;43m'\u001b[39;49m\u001b[38;5;124;43mDoe\u001b[39;49m\u001b[38;5;124;43m'\u001b[39;49m\u001b[43m)\u001b[49m\n",
      "\u001b[1;31mTypeError\u001b[0m: say_name() got an unexpected keyword argument 'fs'"
     ]
    }
   ],
   "source": [
    "# Argument error\n",
    "# Keyword argument ?\n",
    "say_name(fs='John', last='Doe')"
   ]
  },
  {
   "cell_type": "code",
   "execution_count": 23,
   "id": "5082f62e-668a-4802-baa7-964ac4b7d3a1",
   "metadata": {},
   "outputs": [
    {
     "ename": "SyntaxError",
     "evalue": "positional argument follows keyword argument (694625154.py, line 3)",
     "output_type": "error",
     "traceback": [
      "\u001b[1;36m  Input \u001b[1;32mIn [23]\u001b[1;36m\u001b[0m\n\u001b[1;33m    say_name(first='John', 'Doe')\u001b[0m\n\u001b[1;37m                                ^\u001b[0m\n\u001b[1;31mSyntaxError\u001b[0m\u001b[1;31m:\u001b[0m positional argument follows keyword argument\n"
     ]
    }
   ],
   "source": [
    "# Argument error\n",
    "# Keyword and Positional argument ?\n",
    "say_name(first='John', 'Doe')"
   ]
  },
  {
   "cell_type": "markdown",
   "id": "9a6b0bf8-e358-42a1-9ba3-c95ff2358f09",
   "metadata": {},
   "source": [
    "### Return Values"
   ]
  },
  {
   "cell_type": "code",
   "execution_count": 24,
   "id": "011bbeb4-ffed-4f7e-8870-57a4ba736294",
   "metadata": {},
   "outputs": [
    {
     "name": "stdout",
     "output_type": "stream",
     "text": [
      "ARNOLD SCHWARZENEGGER\n",
      "TOM CRUISE\n",
      "NICHOLAS CAGE\n",
      "JACK NICHOLSON\n"
     ]
    }
   ],
   "source": [
    "# Be aware of difference to above\n",
    "def format_name(first, last):\n",
    "    full_name = f'{first} {last}'\n",
    "    full_name = full_name.upper()\n",
    "    return full_name\n",
    "\n",
    "name = format_name('aRnOlD', 'sChWaRzEnEgGeR')\n",
    "print(name)\n",
    "name = format_name('TOM', 'CRUISE')\n",
    "print(name)\n",
    "name = format_name('nIchoLAS', 'cage')\n",
    "print(name)\n",
    "name = format_name('jack', 'NICHOLSON')\n",
    "print(name)"
   ]
  },
  {
   "cell_type": "code",
   "execution_count": 25,
   "id": "c40d874e-2b19-4803-8edc-afb8967bc4c3",
   "metadata": {},
   "outputs": [
    {
     "name": "stdout",
     "output_type": "stream",
     "text": [
      "3\n",
      "TestUser\n",
      "UserTest\n"
     ]
    }
   ],
   "source": [
    "# Watch out with datatypes\n",
    "# Functions do not care which type you pass to them\n",
    "def add(number_one, number_two):\n",
    "    return number_one + number_two\n",
    "\n",
    "def run():\n",
    "    test = add(1, 2)\n",
    "    print(test)\n",
    "    result = add('Test', 'User')\n",
    "    print(result)\n",
    "    print(add('User', 'Test'))\n",
    "\n",
    "run()"
   ]
  },
  {
   "cell_type": "code",
   "execution_count": 26,
   "id": "021aa477-61c6-4d77-8f62-7d465d9e2ec5",
   "metadata": {},
   "outputs": [
    {
     "name": "stdout",
     "output_type": "stream",
     "text": [
      "These are all strings: Does this work ?\n"
     ]
    }
   ],
   "source": [
    "def append_all_strings(string_list):\n",
    "    output_string = 'These are all strings:'\n",
    "    for string in string_list:\n",
    "        output_string += f' {string}'\n",
    "        # This is the same:\n",
    "        # output_string = output_string + f' {string}'\n",
    "        # ... and this is also the same\n",
    "        # output_string = output_string + ' ' + string\n",
    "    return output_string\n",
    "\n",
    "print(append_all_strings(['Does', 'this', 'work', '?'])) "
   ]
  },
  {
   "cell_type": "markdown",
   "id": "44237293-510d-4995-8cac-91d62a51ceff",
   "metadata": {
    "pycharm": {
     "name": "#%% md\n"
    }
   },
   "source": [
    "## Example from slides: Arguments and Parameters"
   ]
  },
  {
   "cell_type": "code",
   "execution_count": 28,
   "id": "c19b3961-b094-4c54-8070-fec2b1ff3748",
   "metadata": {
    "pycharm": {
     "is_executing": false,
     "name": "#%%\n"
    }
   },
   "outputs": [
    {
     "name": "stdout",
     "output_type": "stream",
     "text": [
      "List Elements are: [3, '3', 'Three']\n",
      "List length is 3\n"
     ]
    }
   ],
   "source": [
    "def get_len_list(elements):\n",
    "    return f'List length is {len(elements)}'\n",
    "\n",
    "def show_list_info(elements):\n",
    "    print(f'List elements are: {elements}')\n",
    "    print(get_len_list(elements))\n",
    "\n",
    "def run_program():\n",
    "    standard_elements = [3, '3', 'Three']\n",
    "    show_list_info(standard_elements)\n",
    "    \n",
    "run_program()"
   ]
  },
  {
   "cell_type": "code",
   "execution_count": 29,
   "id": "01a1c172-0529-4f0a-8827-dd09325b0281",
   "metadata": {
    "pycharm": {
     "name": "#%%\n"
    }
   },
   "outputs": [
    {
     "name": "stdout",
     "output_type": "stream",
     "text": [
      "List Elements are: [3, '3', 'Three']\n",
      "List length is 3\n"
     ]
    }
   ],
   "source": [
    "# This is the same as above, maybe clearer\n",
    "# changed variable names to distinguish them better\n",
    "def get_len_list(elements3):\n",
    "    return f'List length is {len(elements3)}'\n",
    "\n",
    "def show_list_info(elements2):\n",
    "    print(f'List Elements are: {elements2}')\n",
    "    print(get_len_list(elements2))\n",
    "\n",
    "def run_program():\n",
    "    elements1 = [3, '3', 'Three']\n",
    "    show_list_info(elements1)\n",
    "    \n",
    "run_program()"
   ]
  },
  {
   "cell_type": "code",
   "execution_count": 30,
   "id": "e68c77ea-27af-48ad-b4a6-da59fcedc5e1",
   "metadata": {
    "pycharm": {
     "name": "#%%\n"
    }
   },
   "outputs": [
    {
     "name": "stdout",
     "output_type": "stream",
     "text": [
      "List Elements are: [3, '3', 'Three']\n",
      "List length is 3\n"
     ]
    }
   ],
   "source": [
    "# This is probably the most confusing one (slightly different in run_program), but still the same!\n",
    "def get_len_list(elements):\n",
    "    return f'List length is {len(elements)}'\n",
    "\n",
    "def show_list_info(elements):\n",
    "    print(f'List Elements are: {elements}')\n",
    "    print(get_len_list(elements))\n",
    "\n",
    "def run_program():\n",
    "    elements = [3, '3', 'Three'] # this changed here\n",
    "    show_list_info(elements)\n",
    "\n",
    "run_program()"
   ]
  },
  {
   "cell_type": "markdown",
   "id": "297efd56-bbe7-4fce-998a-e8d115e76d4a",
   "metadata": {},
   "source": [
    "## Functions: Scope"
   ]
  },
  {
   "cell_type": "code",
   "execution_count": 32,
   "id": "7ed5411a-a9dd-4cf6-8749-309dbf40135f",
   "metadata": {
    "pycharm": {
     "name": "#%%\n"
    }
   },
   "outputs": [
    {
     "name": "stdout",
     "output_type": "stream",
     "text": [
      "z outside of the function 3\n",
      "y in the function 4\n",
      "z in the function 5\n",
      "z outside of the function again 3\n"
     ]
    }
   ],
   "source": [
    "#scope0\n",
    "# Demonstrating local/global variable scope\n",
    "def test_scope():\n",
    "    print('y in the function', y)\n",
    "    z = 5\n",
    "    print('z in the function', z)\n",
    "\n",
    "y = 4\n",
    "z = 3\n",
    "print('z outside of the function', z)\n",
    "test_scope()\n",
    "print('z outside after calling the function', z)"
   ]
  },
  {
   "cell_type": "code",
   "execution_count": 33,
   "id": "a84002ea-d90a-4b7d-999c-dff60e69fa5b",
   "metadata": {
    "pycharm": {
     "name": "#%%\n"
    }
   },
   "outputs": [
    {
     "name": "stdout",
     "output_type": "stream",
     "text": [
      "z outside of the function 3\n",
      "y in the function 4\n"
     ]
    },
    {
     "ename": "UnboundLocalError",
     "evalue": "local variable 'z' referenced before assignment",
     "output_type": "error",
     "traceback": [
      "\u001b[1;31m---------------------------------------------------------------------------\u001b[0m",
      "\u001b[1;31mUnboundLocalError\u001b[0m                         Traceback (most recent call last)",
      "Input \u001b[1;32mIn [33]\u001b[0m, in \u001b[0;36m<cell line: 12>\u001b[1;34m()\u001b[0m\n\u001b[0;32m     10\u001b[0m z \u001b[38;5;241m=\u001b[39m \u001b[38;5;241m3\u001b[39m\n\u001b[0;32m     11\u001b[0m \u001b[38;5;28mprint\u001b[39m(\u001b[38;5;124m'\u001b[39m\u001b[38;5;124mz outside of the function\u001b[39m\u001b[38;5;124m'\u001b[39m, z)\n\u001b[1;32m---> 12\u001b[0m \u001b[43mtest_scope\u001b[49m\u001b[43m(\u001b[49m\u001b[43m)\u001b[49m\n\u001b[0;32m     13\u001b[0m \u001b[38;5;28mprint\u001b[39m(\u001b[38;5;124m'\u001b[39m\u001b[38;5;124mz outside after calling the function\u001b[39m\u001b[38;5;124m'\u001b[39m, z)\n",
      "Input \u001b[1;32mIn [33]\u001b[0m, in \u001b[0;36mtest_scope\u001b[1;34m()\u001b[0m\n\u001b[0;32m      3\u001b[0m \u001b[38;5;28;01mdef\u001b[39;00m \u001b[38;5;21mtest_scope\u001b[39m():\n\u001b[0;32m      4\u001b[0m     \u001b[38;5;28mprint\u001b[39m(\u001b[38;5;124m'\u001b[39m\u001b[38;5;124my in the function\u001b[39m\u001b[38;5;124m'\u001b[39m, y)\n\u001b[1;32m----> 5\u001b[0m     \u001b[38;5;28mprint\u001b[39m(\u001b[38;5;124m'\u001b[39m\u001b[38;5;124mz in the function before the new assignment\u001b[39m\u001b[38;5;124m'\u001b[39m, \u001b[43mz\u001b[49m)\n\u001b[0;32m      6\u001b[0m     z \u001b[38;5;241m=\u001b[39m \u001b[38;5;241m5\u001b[39m\n\u001b[0;32m      7\u001b[0m     \u001b[38;5;28mprint\u001b[39m(\u001b[38;5;124m'\u001b[39m\u001b[38;5;124mz in the function after the new assignment\u001b[39m\u001b[38;5;124m'\u001b[39m, z)\n",
      "\u001b[1;31mUnboundLocalError\u001b[0m: local variable 'z' referenced before assignment"
     ]
    }
   ],
   "source": [
    "# scope 1\n",
    "# this fails, because z is defined as a local variable\n",
    "def test_scope():\n",
    "    print('y in the function', y)\n",
    "    print('z in the function before the new assignment', z)\n",
    "    z = 5\n",
    "    print('z in the function after the new assignment', z)\n",
    "\n",
    "y = 4\n",
    "z = 3\n",
    "print('z outside of the function', z)\n",
    "test_scope()\n",
    "print('z outside after calling the function', z)"
   ]
  },
  {
   "cell_type": "code",
   "execution_count": 34,
   "id": "774c6ea5-e2c2-4c03-92dd-5fbb36ecd76f",
   "metadata": {
    "pycharm": {
     "name": "#%%\n"
    }
   },
   "outputs": [
    {
     "name": "stdout",
     "output_type": "stream",
     "text": [
      "z outside of the function 3\n",
      "z in the function 3\n",
      "y in the function after the new assignment 8\n",
      "z outside after calling the function 3\n"
     ]
    }
   ],
   "source": [
    "# scope 2\n",
    "# this works, because z is not defined as a local variable\n",
    "def test_scope():\n",
    "    print('z in the function', z)\n",
    "    y = 5 + z\n",
    "    print('y in the function after the new assignment', y)\n",
    "    # what happens if we define z here? => would fail\n",
    "\n",
    "y = 5\n",
    "z = 3\n",
    "print('z outside of the function', z)\n",
    "test_scope()\n",
    "print('z outside after calling the function', z)"
   ]
  },
  {
   "cell_type": "markdown",
   "id": "e422176f-448c-4b0f-86ac-f3569fa24ca7",
   "metadata": {},
   "source": [
    "## Value-Assignment vs Reference-Assignment"
   ]
  },
  {
   "cell_type": "code",
   "execution_count": 35,
   "id": "b2ca203e-d923-4192-9ac5-e9c1e633df4f",
   "metadata": {
    "pycharm": {
     "name": "#%%\n"
    }
   },
   "outputs": [
    {
     "name": "stdout",
     "output_type": "stream",
     "text": [
      "V1A 5\n",
      "V2A 5\n",
      "V1B 13\n",
      "V2B 5\n"
     ]
    }
   ],
   "source": [
    "# Int-Example\n",
    "val1 = 5\n",
    "val2 = val1\n",
    "print('V1A', val1)\n",
    "print('V2A', val2)\n",
    "val1 += 8\n",
    "print('V1B', val1)\n",
    "print('V2B', val2)"
   ]
  },
  {
   "cell_type": "code",
   "execution_count": 36,
   "id": "16404d80-1442-4f8e-a2c9-07e6c6e6979c",
   "metadata": {
    "pycharm": {
     "name": "#%%\n"
    }
   },
   "outputs": [
    {
     "name": "stdout",
     "output_type": "stream",
     "text": [
      "S1A 3\n",
      "S2A 3\n",
      "S1A 38\n",
      "S2B 3\n"
     ]
    }
   ],
   "source": [
    "# String-Example\n",
    "s1 = '3'\n",
    "s2 = s1\n",
    "print('S1A', s1)\n",
    "print('S2A', s2)\n",
    "s1 += '8'\n",
    "print('S1A', s1)\n",
    "print('S2B', s2)"
   ]
  },
  {
   "cell_type": "code",
   "execution_count": 37,
   "id": "30c5bd87-208d-4cf4-8585-c9af600db3e6",
   "metadata": {
    "pycharm": {
     "name": "#%%\n"
    }
   },
   "outputs": [
    {
     "name": "stdout",
     "output_type": "stream",
     "text": [
      "L1A [5]\n",
      "L2A [5]\n",
      "L1B [5, 8]\n",
      "L2B [5, 8]\n"
     ]
    }
   ],
   "source": [
    "# List-Example\n",
    "list1 = [5]\n",
    "list2 = list1\n",
    "print('L1A', list1)\n",
    "print('L2A', list2)\n",
    "list1.append(8)\n",
    "print('L1B', list1)\n",
    "print('L2B', list2)"
   ]
  },
  {
   "cell_type": "markdown",
   "id": "98449c72-b3dc-4274-9dda-df39bedc6402",
   "metadata": {},
   "source": [
    "## Call-by-value vs Call-by-reference"
   ]
  },
  {
   "cell_type": "code",
   "execution_count": 39,
   "id": "48469bec-2787-43df-8148-4c9622e4c41e",
   "metadata": {
    "pycharm": {
     "name": "#%%\n"
    }
   },
   "outputs": [
    {
     "name": "stdout",
     "output_type": "stream",
     "text": [
      "A 8\n",
      "B 13\n",
      "C 8\n"
     ]
    }
   ],
   "source": [
    "# Example for call by value\n",
    "def do_stuff1(x):\n",
    "    x += 5\n",
    "    print('B', x)\n",
    "\n",
    "val = 8\n",
    "print('A', val)\n",
    "do_stuff1(val)\n",
    "print('C', val)"
   ]
  },
  {
   "cell_type": "code",
   "execution_count": 40,
   "id": "ed1eedbb-2c94-49dd-9dfa-daa748831ff3",
   "metadata": {
    "pycharm": {
     "name": "#%%\n"
    }
   },
   "outputs": [
    {
     "name": "stdout",
     "output_type": "stream",
     "text": [
      "A [8]\n",
      "B [8, 5]\n",
      "C [8, 5]\n"
     ]
    }
   ],
   "source": [
    "# Example for call by reference\n",
    "def do_stuff2(x):\n",
    "    x.append(5)\n",
    "    print('B', x)\n",
    "\n",
    "val = [8]\n",
    "print('A', val)\n",
    "do_stuff2(val)\n",
    "print('C', val)"
   ]
  },
  {
   "cell_type": "code",
   "execution_count": 41,
   "id": "d7e22542-44f7-423d-92a1-f2c171ff9ae4",
   "metadata": {
    "pycharm": {
     "name": "#%%\n"
    }
   },
   "outputs": [
    {
     "name": "stdout",
     "output_type": "stream",
     "text": [
      "A 8\n",
      "B 8\n",
      "C 13\n",
      "D 8\n"
     ]
    }
   ],
   "source": [
    "# what does this produce?\n",
    "def do_stuff3(z):\n",
    "    print('B', z)\n",
    "    z = 13\n",
    "    print('C', z)\n",
    "\n",
    "z = 8\n",
    "print('A', z)\n",
    "do_stuff3(z)\n",
    "print('D', z)"
   ]
  },
  {
   "cell_type": "code",
   "execution_count": 3,
   "id": "40f68085-71bd-4dcb-b5b9-aa061d1d4624",
   "metadata": {
    "pycharm": {
     "name": "#%%\n"
    }
   },
   "outputs": [
    {
     "name": "stdout",
     "output_type": "stream",
     "text": [
      "A [13]\n",
      "B [13]\n",
      "C [8, 5]\n",
      "D [13]\n"
     ]
    }
   ],
   "source": [
    "# what does this produce?\n",
    "def do_stuff4(z):\n",
    "    print('B', z)\n",
    "    z = [8, 5]\n",
    "    print('C', z)\n",
    "\n",
    "z = [13]\n",
    "print('A', z)\n",
    "do_stuff4(z)\n",
    "print('D', z)"
   ]
  },
  {
   "cell_type": "code",
   "execution_count": 43,
   "id": "fbf95711-67e6-4197-af5f-6b7d0f0cad58",
   "metadata": {
    "pycharm": {
     "name": "#%% \n"
    }
   },
   "outputs": [
    {
     "name": "stdout",
     "output_type": "stream",
     "text": [
      "A [3, 'Three']\n",
      "B [3, 5, 'Five']\n",
      "C [3, 5, 'Five']\n"
     ]
    }
   ],
   "source": [
    "# another example with lists\n",
    "def append_stuff(elements):\n",
    "    # elements now \"references\" standard_elements\n",
    "    elements.append(5)\n",
    "    elements.append('Five')\n",
    "    elements.remove('Three')\n",
    "    print('B', elements)\n",
    "\n",
    "def run_program():\n",
    "    standard_elements = [3, 'Three']\n",
    "    print('A', standard_elements)\n",
    "    append_stuff(standard_elements)\n",
    "    print('C', standard_elements)\n",
    "\n",
    "run_program()"
   ]
  },
  {
   "cell_type": "markdown",
   "id": "69b5d457-9dc1-4076-abaf-56e602b482d1",
   "metadata": {},
   "source": [
    "### Mutable vs. immutable"
   ]
  },
  {
   "cell_type": "code",
   "execution_count": 46,
   "id": "5993efe6-7ba5-446b-aea7-b6498fe3bdaa",
   "metadata": {
    "pycharm": {
     "name": "#%%\n"
    }
   },
   "outputs": [
    {
     "name": "stdout",
     "output_type": "stream",
     "text": [
      "\n",
      "== Lists:\n",
      "What value has list l1 after weird addition? [4, 3, 8, 13]\n",
      "What value has list l1 after returning now? [4, 3, 8, 13]\n",
      "\n",
      "== Integer:\n",
      "What value has i1 after weird addition? 5\n",
      "What value has i1 after using return value? 13\n",
      "\n",
      "== String:\n",
      "What value has String s1 after weird addition? 5\n",
      "What value has String s1 after using return value? 58\n",
      "\n",
      "== Boolean:\n",
      "What value has Boolean b1 after weird addition? True\n",
      "What value has Boolean b1 after using return value? 1\n",
      "New call: What value has Boolean b1 after using return value? 2\n",
      "\n",
      "== Tuple:\n",
      "What value has Tuple t1 after weird addition? (4, 3)\n",
      "What value has Tuple t1 after returning now? (4, 3, 8, 13)\n"
     ]
    }
   ],
   "source": [
    "def weird_addition(list1, list2):\n",
    "    list1 += list2\n",
    "    return list1 # return this here, just because we can?\n",
    "    \n",
    "# Test function with lists\n",
    "print('\\n== Lists:')\n",
    "l1, l2 = [4, 3], [8, 13]\n",
    "# + operator for lists: inserting second list in first list\n",
    "# l1 += l2 => l1 = l1 + l2 => insert all elements of second in first list\n",
    "weird_addition(l1, l2) \n",
    "print('What value has list l1 after weird addition?', l1)\n",
    "l1 = [4, 3] # reset list\n",
    "l1 = weird_addition(l1, l2)\n",
    "print('What value has list l1 after returning now?', l1)\n",
    "\n",
    "# Test function with integer\n",
    "print('\\n== Integer:')\n",
    "i1, i2 = 5, 8\n",
    "weird_addition(i1, i2)\n",
    "print('What value has i1 after weird addition?', i1)\n",
    "i1 = weird_addition(i1, i2)\n",
    "print('What value has i1 after using return value?', i1)\n",
    "\n",
    "# Test function with String\n",
    "print('\\n== String:')\n",
    "s1, s2 = '5', '8'\n",
    "weird_addition(s1, s2)\n",
    "print('What value has String s1 after weird addition?', s1)\n",
    "s1 = weird_addition(s1, s2)\n",
    "print('What value has String s1 after using return value?', s1)\n",
    "\n",
    "# Test function with Booleans\n",
    "print('\\n== Boolean:')\n",
    "b1, b2 = True, False\n",
    "weird_addition(b1, b2)\n",
    "print('What value has Boolean b1 after weird addition?', b1)\n",
    "b1 = weird_addition(b1, b2)\n",
    "print('What value has Boolean b1 after using return value?', b1)\n",
    "b1, b2 = True, True\n",
    "b1 = weird_addition(b1, b2)\n",
    "print('New call: What value has Boolean b1 after using return value?', b1)\n",
    "\n",
    "# Test function with Tuple\n",
    "print('\\n== Tuple:')\n",
    "t1, t2 = (4, 3), (8, 13)\n",
    "weird_addition(t1, t2) # += operator for tuples: Correctly combines tuples or does it fail due to tuple being immutable?\n",
    "print('What value has Tuple t1 after weird addition?', t1)\n",
    "t1 = weird_addition(t1, t2) \n",
    "print('What value has Tuple t1 after returning now?', t1)"
   ]
  },
  {
   "cell_type": "markdown",
   "id": "79076cc5-8cdc-4ae2-a055-47d9c82cd237",
   "metadata": {},
   "source": [
    "# Tic-Tac-Toe\n",
    "\n",
    "We will represent the board in tic-tac-toe as a list of strings. For example:\n",
    "\n",
    "`['OOX', 'OXX', 'OOO']`\n",
    "\n",
    "In the game of tic-tac-toe a player (`X` or `O`) wins if there are three same characters in a row, column, or any of the two diagonals. We will write a function `check_win(board)`, which returns the winner of the provided game, and the way how the game was one, i.e., horizontal, vertical, or diagonal. If player `X` won, the function should return the string `X`, and if player `O` won, the function should return the string `O`. In addition, function returns `H`, `V`, `D` for horizontal, vertical, and diagonal win respectively. If there is a draw, then the function should return `None`."
   ]
  },
  {
   "cell_type": "code",
   "execution_count": 81,
   "id": "3bb34c18-f70e-4e36-a36d-2ece608606dc",
   "metadata": {},
   "outputs": [
    {
     "name": "stdout",
     "output_type": "stream",
     "text": [
      "('O', 'V')\n",
      "('X', 'H')\n",
      "('X', 'D')\n",
      "None\n"
     ]
    }
   ],
   "source": [
    "boards = [['OOX', 'OXX', 'OXO'], ['OOX', 'XXX', 'OOX'], ['XOO', 'OXX', 'OXX'], ['OOX', 'XXO', 'OXO']]\n",
    "\n",
    "def check_win(board):\n",
    "    # horizontal win\n",
    "    if 'OOO' in board:\n",
    "        return 'O', 'H'\n",
    "    if 'XXX' in board:\n",
    "        return 'X', 'H'\n",
    "    \n",
    "    # vertical win\n",
    "    for index in range(3):\n",
    "        if board[0][index] == board[1][index] == board[2][index]:\n",
    "            return board[0][index], 'V'\n",
    "        \n",
    "    # diagonal win\n",
    "    if (board[0][0] == board[1][1] == board[2][2]) or (board[2][0] == board[1][1] == board[0][2]):\n",
    "        return board[1][1], 'D'\n",
    "        \n",
    "for board in boards:\n",
    "    print(check_win(board))"
   ]
  }
 ],
 "metadata": {
  "kernelspec": {
   "display_name": "Python 3 (ipykernel)",
   "language": "python",
   "name": "python3"
  },
  "language_info": {
   "codemirror_mode": {
    "name": "ipython",
    "version": 3
   },
   "file_extension": ".py",
   "mimetype": "text/x-python",
   "name": "python",
   "nbconvert_exporter": "python",
   "pygments_lexer": "ipython3",
   "version": "3.10.4"
  }
 },
 "nbformat": 4,
 "nbformat_minor": 5
}
