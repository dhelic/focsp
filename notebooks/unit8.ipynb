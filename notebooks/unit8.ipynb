{
 "cells": [
  {
   "cell_type": "markdown",
   "id": "66b84ba7-4a2c-4945-85f7-e155631f36ac",
   "metadata": {},
   "source": [
    "# File I/O \n",
    "\n",
    "NOTE: You can copy each of the snippets below in a separate Python File to test File I/O outside Jupyter Notebooks."
   ]
  },
  {
   "cell_type": "markdown",
   "id": "43f76e53-0c74-4ce6-b2a2-a55138106716",
   "metadata": {
    "pycharm": {
     "name": "#%% md\n"
    }
   },
   "source": [
    "## Text files (.txt)\n",
    "### Reading Files"
   ]
  },
  {
   "cell_type": "code",
   "execution_count": 2,
   "id": "e9f571e9-d965-4419-a772-067e77924430",
   "metadata": {
    "pycharm": {
     "is_executing": false,
     "name": "#%%\n"
    }
   },
   "outputs": [
    {
     "name": "stdout",
     "output_type": "stream",
     "text": [
      "File content between lines:\n",
      "==========\n",
      "This is FoCSP.\n",
      "This is Maths.\n",
      "\n",
      "This is it!\n",
      "\n",
      "Bye.\n",
      "==========\n"
     ]
    }
   ],
   "source": [
    "# Read whole file as one\n",
    "filename = 'test.txt' # make sure this file exists in the same folder as your script\n",
    "with open(filename) as file_obj:\n",
    "    # open() = return object representing file in Python\n",
    "    # file_obj = variable where file object is stored\n",
    "    file_content = file_obj.read() # read from file object\n",
    "print('File content between lines:')\n",
    "print('==========')\n",
    "print(file_content)\n",
    "print('==========')"
   ]
  },
  {
   "cell_type": "code",
   "execution_count": 3,
   "id": "3a63e9d6-daa7-461a-8ff1-88557242ba61",
   "metadata": {
    "pycharm": {
     "is_executing": false,
     "name": "#%%\n"
    }
   },
   "outputs": [
    {
     "name": "stdout",
     "output_type": "stream",
     "text": [
      "File content is:\n",
      "Next line is: This is FoCSP.\n",
      "\n",
      "Next line is: This is Maths.\n",
      "\n",
      "Next line is: \n",
      "\n",
      "Next line is: This is it!\n",
      "\n",
      "Next line is: \n",
      "\n",
      "Next line is: Bye.\n"
     ]
    }
   ],
   "source": [
    "# Read file line by line and print it\n",
    "print('File content is:')\n",
    "with open('test.txt') as f:\n",
    "    # Iterating over object == Iterating over lines\n",
    "    for line in f:\n",
    "        # lines have \"newline\" (\\n) at end!\n",
    "        print('Next line is:', line)"
   ]
  },
  {
   "cell_type": "code",
   "execution_count": 4,
   "id": "0b4e700c-91d0-4522-94ef-eb4b6cfe3831",
   "metadata": {
    "pycharm": {
     "is_executing": false,
     "name": "#%%\n"
    }
   },
   "outputs": [
    {
     "name": "stdout",
     "output_type": "stream",
     "text": [
      "File content is:\n",
      "Next line is: This is FoCSP.\n",
      "Next line is: This is Maths.\n",
      "Next line is: \n",
      "Next line is: This is it!\n",
      "Next line is: \n",
      "Next line is: Bye.\n"
     ]
    }
   ],
   "source": [
    "# Make sure you understand what's the difference here!\n",
    "# Read file line by line and print it.\n",
    "print('File content is:')\n",
    "with open('test.txt') as f:\n",
    "    # Iterating over object == Iterating over lines\n",
    "    for line in f:\n",
    "        # lines have \"newline\" (\\n) at end!\n",
    "        print('Next line is:', line.rstrip())"
   ]
  },
  {
   "cell_type": "code",
   "execution_count": 5,
   "id": "27112f52-fcfb-4688-9cf3-1b0f86645491",
   "metadata": {
    "pycharm": {
     "is_executing": false,
     "name": "#%%\n"
    }
   },
   "outputs": [
    {
     "name": "stdout",
     "output_type": "stream",
     "text": [
      "Lines in file: ['This is FoCSP.\\n', 'This is Maths.\\n', '\\n', 'This is it!\\n', '\\n', 'Bye.']\n"
     ]
    }
   ],
   "source": [
    "# Read lines in file into list\n",
    "filename = 'test.txt' # make sure this file exists in the same folder as your script\n",
    "with open(filename) as file:\n",
    "      # store lines in list\n",
    "    lines = file.readlines()\n",
    "    \n",
    "# do you see what's at the end of each line-string?\n",
    "print(f'Lines in file: {lines}')"
   ]
  },
  {
   "cell_type": "code",
   "execution_count": 6,
   "id": "a4906f20-fa43-4fb2-9248-250cae5e22e2",
   "metadata": {
    "pycharm": {
     "is_executing": false,
     "name": "#%% \n"
    }
   },
   "outputs": [
    {
     "name": "stdout",
     "output_type": "stream",
     "text": [
      "File Content:\n",
      "Next line is: This is FoCSP.\n",
      "Next line is: This is Maths.\n",
      "Found Quit! Canceling.\n"
     ]
    }
   ],
   "source": [
    "# Print all lines in file until quit is found, then cancel with message\n",
    "# Option A\n",
    "filename = 'test_quit.txt'\n",
    "\n",
    "print('File Content:')\n",
    "with open(filename) as f:\n",
    "    # Iterating over object = Iterating over lines\n",
    "    for line in f:\n",
    "        stripped = line.rstrip()\n",
    "        \n",
    "        if stripped.lower() == 'quit':\n",
    "            print('Found Quit! Canceling.')\n",
    "            break\n",
    "        \n",
    "        print('Next line is:', stripped)"
   ]
  },
  {
   "cell_type": "code",
   "execution_count": 7,
   "id": "cf7a8cc3-3581-4a15-9c59-92620ecb108c",
   "metadata": {
    "pycharm": {
     "is_executing": false,
     "name": "#%% \n"
    }
   },
   "outputs": [
    {
     "name": "stdout",
     "output_type": "stream",
     "text": [
      "File Content:\n",
      "Next line is: This is FoCSP.\n",
      "Next line is: This is Maths.\n",
      "Found Quit! Canceling.\n"
     ]
    }
   ],
   "source": [
    "# Print all lines in file until quit is found, then cancel with message\n",
    "# Option B\n",
    "filename = 'test_quit.txt'\n",
    "with open(filename) as f:\n",
    "    lines = f.readlines()\n",
    "\n",
    "print('File Content:')\n",
    "for line in lines:\n",
    "    stripped = line.rstrip()\n",
    "    if stripped.lower() == 'quit':\n",
    "        print('Found Quit! Canceling.')\n",
    "        break\n",
    "    \n",
    "    print('Next line is:', stripped)"
   ]
  },
  {
   "cell_type": "markdown",
   "id": "c2142773-ce1f-476c-bcbb-a160d0c122f7",
   "metadata": {
    "pycharm": {
     "name": "#%% md\n"
    }
   },
   "source": [
    "### Writing Files"
   ]
  },
  {
   "cell_type": "code",
   "execution_count": 8,
   "id": "662c1b09-b3a7-451a-9afd-426276fca207",
   "metadata": {
    "pycharm": {
     "is_executing": false,
     "name": "#%%\n"
    }
   },
   "outputs": [],
   "source": [
    "# Writing simple file\n",
    "filename = 'test_write.txt' \n",
    "with open(filename, 'w') as file_obj:\n",
    "    # Note the newline char (\\n)\n",
    "    file_obj.write('I do not love Programming.\\n')\n",
    "    file_obj.write('I do not like Maths.\\n')\n",
    "    file_obj.write('I do not like anything.\\n')"
   ]
  },
  {
   "cell_type": "code",
   "execution_count": 9,
   "id": "f3050f2c-cdda-472a-b274-84bab1c0456e",
   "metadata": {
    "pycharm": {
     "is_executing": false,
     "name": "#%%\n"
    }
   },
   "outputs": [],
   "source": [
    "# Appending text to files\n",
    "filename = 'test_append.txt' \n",
    "with open(filename, 'a') as file_obj:\n",
    "    # Note the newline char (\\n)\n",
    "    file_obj.write('Appended!\\n')"
   ]
  },
  {
   "cell_type": "code",
   "execution_count": 10,
   "id": "43fec6f3-a8a7-4dae-a9fc-4cc311d1d5dd",
   "metadata": {
    "pycharm": {
     "is_executing": false,
     "name": "#%%\n"
    }
   },
   "outputs": [],
   "source": [
    "# Writing a list to a file, with additional info\n",
    "filename = 'test_fruits.txt' \n",
    "fruits = ['Apple', 'Orange', 'Ananas']\n",
    "\n",
    "with open(filename, 'w') as file:\n",
    "    # Note the newline char (\\n)\n",
    "    file.write('This is all the fruits i bought:\\n')\n",
    "    \n",
    "    for fruit in fruits:\n",
    "        file.write(f'I bought an {fruit}!\\n')\n",
    "    \n",
    "    file.write(f'That makes {len(fruits)}.')"
   ]
  },
  {
   "cell_type": "code",
   "execution_count": 11,
   "id": "3b737e0c-b898-416c-aa94-eee4807f0293",
   "metadata": {
    "pycharm": {
     "is_executing": false,
     "name": "#%%\n"
    }
   },
   "outputs": [
    {
     "name": "stdout",
     "output_type": "stream",
     "text": [
      "Enter your name. Entering \"Quit\" stops input.\n"
     ]
    },
    {
     "name": "stdin",
     "output_type": "stream",
     "text": [
      "Please enter your username:  denis\n",
      "Please enter your username:  quit\n"
     ]
    }
   ],
   "source": [
    "# Writing user input to a file\n",
    "# Here, we collect usernames and write them directly to a file\n",
    "\n",
    "print('Enter your name. Entering \"Quit\" stops input.')\n",
    "with open('test_input.txt', 'w') as f:\n",
    "    f.write('The following names were entered by users:\\n')\n",
    "    while True:\n",
    "        user_name = input('Please enter your username: ')\n",
    "        \n",
    "        if user_name.lower() == 'quit':\n",
    "            break\n",
    "        \n",
    "        f.write(f'{user_name}\\n')\n",
    "        "
   ]
  },
  {
   "cell_type": "markdown",
   "id": "656e6b39-bbc1-41f9-8687-3770e3357d0a",
   "metadata": {},
   "source": [
    "## CSV Files (.csv)"
   ]
  },
  {
   "cell_type": "code",
   "execution_count": 12,
   "id": "9bca9822-8343-4a67-bc6c-a55c03bd63a4",
   "metadata": {
    "pycharm": {
     "name": "#%%\n"
    }
   },
   "outputs": [],
   "source": [
    "# Do not forget to run this!\n",
    "import csv # usually, this goes on top of the file"
   ]
  },
  {
   "cell_type": "markdown",
   "id": "bce7ebf2-77a5-4b53-8068-89ad32a42b75",
   "metadata": {},
   "source": [
    "### Reading Data"
   ]
  },
  {
   "cell_type": "markdown",
   "id": "5e89d2e3-0371-4d25-a2b1-7848a1b98c21",
   "metadata": {
    "pycharm": {
     "name": "#%% md\n"
    }
   },
   "source": [
    "#### csv.reader"
   ]
  },
  {
   "cell_type": "code",
   "execution_count": 13,
   "id": "c5c337ff-14ff-4593-b2ad-a2d095214c6b",
   "metadata": {
    "pycharm": {
     "name": "#%%\n"
    }
   },
   "outputs": [
    {
     "name": "stdout",
     "output_type": "stream",
     "text": [
      "[['Mat.Nr.', 'Vorname', 'Nachname', 'Punkte'], ['1234', 'Martina', 'Muster', '10'], ['1313', 'Max', 'Muster', '12'], ['4242', 'Test', 'Student', '16'], ['2424', 'Test', 'Studentin', '14']]\n"
     ]
    }
   ],
   "source": [
    "file_path = 'students.csv'\n",
    "with open(file_path, 'r') as file:\n",
    "    csv_reader = csv.reader(file, delimiter=',')\n",
    "    rows = list(csv_reader)\n",
    "print(rows)"
   ]
  },
  {
   "cell_type": "markdown",
   "id": "9c70250b-492d-4c7f-97e9-46e8155857c5",
   "metadata": {},
   "source": [
    "#### csv.DictReader"
   ]
  },
  {
   "cell_type": "code",
   "execution_count": 14,
   "id": "e41d6245-8a83-4400-bfea-43350b8cbc14",
   "metadata": {
    "pycharm": {
     "name": "#%%\n"
    }
   },
   "outputs": [
    {
     "name": "stdout",
     "output_type": "stream",
     "text": [
      "[{'Mat.Nr.': '1234', 'Vorname': 'Martina', 'Nachname': 'Muster', 'Punkte': '10'}, {'Mat.Nr.': '1313', 'Vorname': 'Max', 'Nachname': 'Muster', 'Punkte': '12'}, {'Mat.Nr.': '4242', 'Vorname': 'Test', 'Nachname': 'Student', 'Punkte': '16'}, {'Mat.Nr.': '2424', 'Vorname': 'Test', 'Nachname': 'Studentin', 'Punkte': '14'}]\n"
     ]
    }
   ],
   "source": [
    "file_path = 'students.csv'\n",
    "with open(file_path, 'r') as file:\n",
    "    csv_dict_reader = csv.DictReader(file, delimiter=',')\n",
    "    row_dicts = list(csv_dict_reader)\n",
    "print(row_dicts)"
   ]
  },
  {
   "cell_type": "markdown",
   "id": "c3751980-4dc6-401d-9b57-18a34bf17224",
   "metadata": {},
   "source": [
    "### Writing Data"
   ]
  },
  {
   "cell_type": "markdown",
   "id": "5170dae3-2623-49cc-b27a-b000abbb56c3",
   "metadata": {},
   "source": [
    "#### csv.writer"
   ]
  },
  {
   "cell_type": "code",
   "execution_count": 15,
   "id": "3ce5b09c-4484-482a-8f4f-2bfe2fb18c85",
   "metadata": {
    "pycharm": {
     "name": "#%%\n"
    }
   },
   "outputs": [],
   "source": [
    "file_path = 'students_out.csv'\n",
    "students = [['1234', 'Martina', 'Muster', '10'],\n",
    "            ['1313', 'Max', 'Muster', '12'],\n",
    "            ['4242', 'Test', 'Student', '16'],\n",
    "            ['2424', 'Test', 'Studentin', '14']]\n",
    "\n",
    "with open(file_path, 'w') as file:\n",
    "    header = ['Mat.Nr.', 'Vorname', 'Nachname', 'Punkte']\n",
    "    writer = csv.writer(file)\n",
    "    writer.writerow(header) # write header\n",
    "    writer.writerows(students) # write data\n"
   ]
  },
  {
   "cell_type": "markdown",
   "id": "8fb3adcc-87c2-4708-a4f7-fbb42612495f",
   "metadata": {},
   "source": [
    "#### csv.DictWriter"
   ]
  },
  {
   "cell_type": "code",
   "execution_count": 16,
   "id": "e6a03f9b-0862-4f16-a9b7-036fab5adcd7",
   "metadata": {
    "pycharm": {
     "name": "#%%\n"
    }
   },
   "outputs": [],
   "source": [
    "file_path = 'students_out.csv'\n",
    "students = [\n",
    "    {'Mat.Nr.': 1234, 'Vorname': 'Martina', 'Nachname': 'Muster', 'Punkte': 10},\n",
    "    {'Mat.Nr.': 1313, 'Vorname': 'Max', 'Nachname': 'Muster', 'Punkte': 12},\n",
    "    {'Mat.Nr.': 4242, 'Vorname': 'Test', 'Nachname': 'Student', 'Punkte': 16},\n",
    "    {'Mat.Nr.': 2424, 'Vorname': 'Test', 'Nachname': 'Studentin', 'Punkte': 14}]\n",
    "\n",
    "with open(file_path, 'w') as file:\n",
    "    columns = ['Mat.Nr.', 'Vorname', 'Nachname', 'Punkte']\n",
    "    writer = csv.DictWriter(file, fieldnames=columns)\n",
    "    writer.writeheader()\t# write header\n",
    "    writer.writerows(students) # write data\n",
    "    "
   ]
  },
  {
   "cell_type": "markdown",
   "id": "bddbe554-4c89-49ac-ac5f-903a6370a0c8",
   "metadata": {
    "pycharm": {
     "name": "#%% md\n"
    }
   },
   "source": [
    "### Appending Data to existing File"
   ]
  },
  {
   "cell_type": "markdown",
   "id": "c1ebe027-1281-45f5-8c5f-dec5af2ea244",
   "metadata": {
    "pycharm": {
     "name": "#%% md\n"
    }
   },
   "source": [
    "#### csv.writer"
   ]
  },
  {
   "cell_type": "code",
   "execution_count": 17,
   "id": "c67aca90-f0a1-4a79-9778-e90dad0c71f5",
   "metadata": {
    "pycharm": {
     "name": "#%%\n"
    }
   },
   "outputs": [],
   "source": [
    "file_path = 'students_out.csv'\n",
    "new_students = [['3333', 'New', 'Guy', '23'], \n",
    "                ['4444', 'New', 'Girl', '24']]\n",
    "with open(file_path, 'a') as file:\n",
    "    columns = ['Mat.Nr.', 'Vorname', 'Nachname', 'Punkte']\n",
    "    writer = csv.writer(file)\n",
    "    writer.writerows(students) # write data\n",
    "    "
   ]
  },
  {
   "cell_type": "markdown",
   "id": "dedbd23d-ff21-4aed-aa61-86bf4fe7d02c",
   "metadata": {},
   "source": [
    "# Pandas"
   ]
  },
  {
   "cell_type": "code",
   "execution_count": 19,
   "id": "6af0f948-357e-479b-bab0-2c4c90b77690",
   "metadata": {
    "tags": []
   },
   "outputs": [],
   "source": [
    "import pandas as pd"
   ]
  },
  {
   "cell_type": "markdown",
   "id": "c1c984dc-2b4a-4c99-8ef9-d250b60f9ada",
   "metadata": {
    "tags": []
   },
   "source": [
    "## Create DataFrames manually"
   ]
  },
  {
   "cell_type": "code",
   "execution_count": 20,
   "id": "78ae8e17-2678-4546-9c48-b07b875bab71",
   "metadata": {},
   "outputs": [
    {
     "data": {
      "text/html": [
       "<div>\n",
       "<style scoped>\n",
       "    .dataframe tbody tr th:only-of-type {\n",
       "        vertical-align: middle;\n",
       "    }\n",
       "\n",
       "    .dataframe tbody tr th {\n",
       "        vertical-align: top;\n",
       "    }\n",
       "\n",
       "    .dataframe thead th {\n",
       "        text-align: right;\n",
       "    }\n",
       "</style>\n",
       "<table border=\"1\" class=\"dataframe\">\n",
       "  <thead>\n",
       "    <tr style=\"text-align: right;\">\n",
       "      <th></th>\n",
       "      <th>population</th>\n",
       "      <th>area</th>\n",
       "    </tr>\n",
       "  </thead>\n",
       "  <tbody>\n",
       "    <tr>\n",
       "      <th>California</th>\n",
       "      <td>38332521</td>\n",
       "      <td>423967</td>\n",
       "    </tr>\n",
       "    <tr>\n",
       "      <th>New York</th>\n",
       "      <td>19651127</td>\n",
       "      <td>141297</td>\n",
       "    </tr>\n",
       "    <tr>\n",
       "      <th>Florida</th>\n",
       "      <td>19552860</td>\n",
       "      <td>170312</td>\n",
       "    </tr>\n",
       "  </tbody>\n",
       "</table>\n",
       "</div>"
      ],
      "text/plain": [
       "            population    area\n",
       "California    38332521  423967\n",
       "New York      19651127  141297\n",
       "Florida       19552860  170312"
      ]
     },
     "execution_count": 20,
     "metadata": {},
     "output_type": "execute_result"
    }
   ],
   "source": [
    "data = {'population': {'California': 38332521,\n",
    "                       'New York': 19651127, \n",
    "                       'Florida': 19552860},\n",
    "        'area': {'California': 423967, \n",
    "                 'New York': 141297, \n",
    "                 'Florida': 170312}}\n",
    "df = pd.DataFrame(data)\n",
    "df"
   ]
  },
  {
   "cell_type": "code",
   "execution_count": 21,
   "id": "64cdec62-d0ad-4a20-8aa2-585f762327e2",
   "metadata": {},
   "outputs": [
    {
     "data": {
      "text/html": [
       "<div>\n",
       "<style scoped>\n",
       "    .dataframe tbody tr th:only-of-type {\n",
       "        vertical-align: middle;\n",
       "    }\n",
       "\n",
       "    .dataframe tbody tr th {\n",
       "        vertical-align: top;\n",
       "    }\n",
       "\n",
       "    .dataframe thead th {\n",
       "        text-align: right;\n",
       "    }\n",
       "</style>\n",
       "<table border=\"1\" class=\"dataframe\">\n",
       "  <thead>\n",
       "    <tr style=\"text-align: right;\">\n",
       "      <th></th>\n",
       "      <th>state</th>\n",
       "      <th>area</th>\n",
       "      <th>population</th>\n",
       "    </tr>\n",
       "  </thead>\n",
       "  <tbody>\n",
       "    <tr>\n",
       "      <th>0</th>\n",
       "      <td>California</td>\n",
       "      <td>423967</td>\n",
       "      <td>38332521</td>\n",
       "    </tr>\n",
       "    <tr>\n",
       "      <th>1</th>\n",
       "      <td>New York</td>\n",
       "      <td>141297</td>\n",
       "      <td>19651127</td>\n",
       "    </tr>\n",
       "    <tr>\n",
       "      <th>2</th>\n",
       "      <td>Florida</td>\n",
       "      <td>170312</td>\n",
       "      <td>19552860</td>\n",
       "    </tr>\n",
       "  </tbody>\n",
       "</table>\n",
       "</div>"
      ],
      "text/plain": [
       "        state    area  population\n",
       "0  California  423967    38332521\n",
       "1    New York  141297    19651127\n",
       "2     Florida  170312    19552860"
      ]
     },
     "execution_count": 21,
     "metadata": {},
     "output_type": "execute_result"
    }
   ],
   "source": [
    "data = [['California', 423967, 38332521], \n",
    "        ['New York', 141297, 19651127],\n",
    "        ['Florida', 170312, 19552860]]\n",
    "df = pd.DataFrame(data, columns=['state','area','population'])\n",
    "df"
   ]
  },
  {
   "cell_type": "markdown",
   "id": "07eba1af-36e0-4244-8185-69b9c504012e",
   "metadata": {},
   "source": [
    "## Load DataFrames"
   ]
  },
  {
   "cell_type": "code",
   "execution_count": 22,
   "id": "066fa452-782c-40ba-950b-4daf9c17bd9c",
   "metadata": {},
   "outputs": [
    {
     "data": {
      "text/html": [
       "<div>\n",
       "<style scoped>\n",
       "    .dataframe tbody tr th:only-of-type {\n",
       "        vertical-align: middle;\n",
       "    }\n",
       "\n",
       "    .dataframe tbody tr th {\n",
       "        vertical-align: top;\n",
       "    }\n",
       "\n",
       "    .dataframe thead th {\n",
       "        text-align: right;\n",
       "    }\n",
       "</style>\n",
       "<table border=\"1\" class=\"dataframe\">\n",
       "  <thead>\n",
       "    <tr style=\"text-align: right;\">\n",
       "      <th></th>\n",
       "      <th>state</th>\n",
       "      <th>population</th>\n",
       "      <th>area</th>\n",
       "    </tr>\n",
       "  </thead>\n",
       "  <tbody>\n",
       "    <tr>\n",
       "      <th>0</th>\n",
       "      <td>California</td>\n",
       "      <td>38332521.0</td>\n",
       "      <td>423967.0</td>\n",
       "    </tr>\n",
       "    <tr>\n",
       "      <th>1</th>\n",
       "      <td>Texas</td>\n",
       "      <td>26448193.0</td>\n",
       "      <td>695662.0</td>\n",
       "    </tr>\n",
       "    <tr>\n",
       "      <th>2</th>\n",
       "      <td>New York</td>\n",
       "      <td>19651127.0</td>\n",
       "      <td>141297.0</td>\n",
       "    </tr>\n",
       "    <tr>\n",
       "      <th>3</th>\n",
       "      <td>Florida</td>\n",
       "      <td>19552860.0</td>\n",
       "      <td>170312.0</td>\n",
       "    </tr>\n",
       "    <tr>\n",
       "      <th>4</th>\n",
       "      <td>New Jersey</td>\n",
       "      <td>9288994.0</td>\n",
       "      <td>NaN</td>\n",
       "    </tr>\n",
       "    <tr>\n",
       "      <th>5</th>\n",
       "      <td>Hawaii</td>\n",
       "      <td>0.0</td>\n",
       "      <td>0.0</td>\n",
       "    </tr>\n",
       "    <tr>\n",
       "      <th>6</th>\n",
       "      <td>Illinois</td>\n",
       "      <td>12882135.0</td>\n",
       "      <td>149995.0</td>\n",
       "    </tr>\n",
       "  </tbody>\n",
       "</table>\n",
       "</div>"
      ],
      "text/plain": [
       "        state  population      area\n",
       "0  California  38332521.0  423967.0\n",
       "1       Texas  26448193.0  695662.0\n",
       "2    New York  19651127.0  141297.0\n",
       "3     Florida  19552860.0  170312.0\n",
       "4  New Jersey   9288994.0       NaN\n",
       "5      Hawaii         0.0       0.0\n",
       "6    Illinois  12882135.0  149995.0"
      ]
     },
     "execution_count": 22,
     "metadata": {},
     "output_type": "execute_result"
    }
   ],
   "source": [
    "import pandas as pd\n",
    "df = pd.read_csv('states.csv')\n",
    "df"
   ]
  },
  {
   "cell_type": "markdown",
   "id": "c713eab3-facb-4c7b-9a72-294a4f1a8e66",
   "metadata": {
    "tags": []
   },
   "source": [
    "## Accessing rows and columns"
   ]
  },
  {
   "cell_type": "markdown",
   "id": "e86f1a08-9d37-405f-bd4f-7044fbecc186",
   "metadata": {},
   "source": [
    "### Accessing rows with index and loc"
   ]
  },
  {
   "cell_type": "code",
   "execution_count": 23,
   "id": "3afddae4-5981-41b8-88ab-f821c1084edf",
   "metadata": {},
   "outputs": [
    {
     "data": {
      "text/plain": [
       "state            Florida\n",
       "population    19552860.0\n",
       "area            170312.0\n",
       "Name: 3, dtype: object"
      ]
     },
     "execution_count": 23,
     "metadata": {},
     "output_type": "execute_result"
    }
   ],
   "source": [
    "row_with_index_3 = df.loc[3]\n",
    "row_with_index_3 # or display(row_with_index_3)"
   ]
  },
  {
   "cell_type": "markdown",
   "id": "6be7e8b6-b4cb-46f6-8790-732190eea066",
   "metadata": {
    "tags": []
   },
   "source": [
    "### Accessing columns"
   ]
  },
  {
   "cell_type": "code",
   "execution_count": 24,
   "id": "2d85fb58-3374-4b24-a1c1-c399669700db",
   "metadata": {},
   "outputs": [
    {
     "name": "stdout",
     "output_type": "stream",
     "text": [
      "Is it True that all three options return the same thing?\n",
      "It is: True True True\n",
      "Show the resulting column (a \"Series\" object):\n"
     ]
    },
    {
     "data": {
      "text/plain": [
       "0    423967.0\n",
       "1    695662.0\n",
       "2    141297.0\n",
       "3    170312.0\n",
       "4         NaN\n",
       "5         0.0\n",
       "6    149995.0\n",
       "Name: area, dtype: float64"
      ]
     },
     "metadata": {},
     "output_type": "display_data"
    }
   ],
   "source": [
    "area_1 = df['area']\n",
    "area_2 = df.area\n",
    "area_3 = df.loc[:, 'area']\n",
    "print(f'Is it True that all three options return the same thing?')\n",
    "print(f'It is: {area_1 is area_2} {area_1 is area_2} {area_2 is area_3}')\n",
    "print(f'Show the resulting column (a \"Series\" object):')\n",
    "display(area_1)"
   ]
  },
  {
   "cell_type": "markdown",
   "id": "47dcb556-6247-4269-8aa3-aa19f9aaf74a",
   "metadata": {},
   "source": [
    "## Filtering columns with values"
   ]
  },
  {
   "cell_type": "markdown",
   "id": "44f7a4cb-bc06-40a5-ae31-bb9364515062",
   "metadata": {
    "tags": []
   },
   "source": [
    "### What rows have states with population larger than 25 millions?"
   ]
  },
  {
   "cell_type": "code",
   "execution_count": 25,
   "id": "31fc24b4-6f9f-4360-b524-aa7ed02f5ffd",
   "metadata": {},
   "outputs": [
    {
     "data": {
      "text/html": [
       "<div>\n",
       "<style scoped>\n",
       "    .dataframe tbody tr th:only-of-type {\n",
       "        vertical-align: middle;\n",
       "    }\n",
       "\n",
       "    .dataframe tbody tr th {\n",
       "        vertical-align: top;\n",
       "    }\n",
       "\n",
       "    .dataframe thead th {\n",
       "        text-align: right;\n",
       "    }\n",
       "</style>\n",
       "<table border=\"1\" class=\"dataframe\">\n",
       "  <thead>\n",
       "    <tr style=\"text-align: right;\">\n",
       "      <th></th>\n",
       "      <th>state</th>\n",
       "      <th>population</th>\n",
       "      <th>area</th>\n",
       "    </tr>\n",
       "  </thead>\n",
       "  <tbody>\n",
       "    <tr>\n",
       "      <th>0</th>\n",
       "      <td>California</td>\n",
       "      <td>38332521.0</td>\n",
       "      <td>423967.0</td>\n",
       "    </tr>\n",
       "    <tr>\n",
       "      <th>1</th>\n",
       "      <td>Texas</td>\n",
       "      <td>26448193.0</td>\n",
       "      <td>695662.0</td>\n",
       "    </tr>\n",
       "  </tbody>\n",
       "</table>\n",
       "</div>"
      ],
      "text/plain": [
       "        state  population      area\n",
       "0  California  38332521.0  423967.0\n",
       "1       Texas  26448193.0  695662.0"
      ]
     },
     "execution_count": 25,
     "metadata": {},
     "output_type": "execute_result"
    }
   ],
   "source": [
    "df_pop = df[df.population > 25000000]\n",
    "# same as: df.loc[df.population > 25000000]\n",
    "df_pop"
   ]
  },
  {
   "cell_type": "code",
   "execution_count": 26,
   "id": "685a177f-c0b8-4e71-9b79-c75575256699",
   "metadata": {},
   "outputs": [
    {
     "data": {
      "text/plain": [
       "0     True\n",
       "1     True\n",
       "2    False\n",
       "3    False\n",
       "4    False\n",
       "5    False\n",
       "6    False\n",
       "Name: population, dtype: bool"
      ]
     },
     "execution_count": 26,
     "metadata": {},
     "output_type": "execute_result"
    }
   ],
   "source": [
    "# Show boolean mask that \"cuts out\": \n",
    "df.population > 25000000\n",
    "# all True values are included in filtering (see above), the False values are excluded"
   ]
  },
  {
   "cell_type": "markdown",
   "id": "0720fe27-c0cc-4460-a7b5-0d1698b69fbf",
   "metadata": {},
   "source": [
    "### What rows have states with less than 15 million people and less than 200000 km² area?"
   ]
  },
  {
   "cell_type": "code",
   "execution_count": 27,
   "id": "80690717-64b2-4c98-bc98-b532a6496603",
   "metadata": {},
   "outputs": [
    {
     "data": {
      "text/html": [
       "<div>\n",
       "<style scoped>\n",
       "    .dataframe tbody tr th:only-of-type {\n",
       "        vertical-align: middle;\n",
       "    }\n",
       "\n",
       "    .dataframe tbody tr th {\n",
       "        vertical-align: top;\n",
       "    }\n",
       "\n",
       "    .dataframe thead th {\n",
       "        text-align: right;\n",
       "    }\n",
       "</style>\n",
       "<table border=\"1\" class=\"dataframe\">\n",
       "  <thead>\n",
       "    <tr style=\"text-align: right;\">\n",
       "      <th></th>\n",
       "      <th>state</th>\n",
       "      <th>population</th>\n",
       "      <th>area</th>\n",
       "    </tr>\n",
       "  </thead>\n",
       "  <tbody>\n",
       "    <tr>\n",
       "      <th>5</th>\n",
       "      <td>Hawaii</td>\n",
       "      <td>0.0</td>\n",
       "      <td>0.0</td>\n",
       "    </tr>\n",
       "    <tr>\n",
       "      <th>6</th>\n",
       "      <td>Illinois</td>\n",
       "      <td>12882135.0</td>\n",
       "      <td>149995.0</td>\n",
       "    </tr>\n",
       "  </tbody>\n",
       "</table>\n",
       "</div>"
      ],
      "text/plain": [
       "      state  population      area\n",
       "5    Hawaii         0.0       0.0\n",
       "6  Illinois  12882135.0  149995.0"
      ]
     },
     "execution_count": 27,
     "metadata": {},
     "output_type": "execute_result"
    }
   ],
   "source": [
    "df_pop_area = df[(df.population < 15000000) & (df.area < 200000)]\n",
    "# oder: df.loc[(df.population < 15000000) & (df.area < 200000)]\n",
    "df_pop_area"
   ]
  },
  {
   "cell_type": "markdown",
   "id": "9ea76cef-313c-451b-b0aa-217fc16aebe3",
   "metadata": {
    "tags": []
   },
   "source": [
    "#### What are the names of these states?  "
   ]
  },
  {
   "cell_type": "code",
   "execution_count": 28,
   "id": "146e7c2d-8fbe-4d97-bdc0-b32efd1fc55a",
   "metadata": {},
   "outputs": [
    {
     "data": {
      "text/plain": [
       "5      Hawaii\n",
       "6    Illinois\n",
       "Name: state, dtype: object"
      ]
     },
     "execution_count": 28,
     "metadata": {},
     "output_type": "execute_result"
    }
   ],
   "source": [
    "names_states = df_pop_area.state\n",
    "# df_pop_area['state']\n",
    "names_states # this is now a \"Series\" object"
   ]
  },
  {
   "cell_type": "markdown",
   "id": "a7e9d0e3-32e6-4a8e-84dc-f9c85de5bd8b",
   "metadata": {},
   "source": [
    "## Aggregating DataFrames and columns"
   ]
  },
  {
   "cell_type": "markdown",
   "id": "c2f58291-8fa6-49a1-805e-ce0d7c5b495e",
   "metadata": {
    "tags": []
   },
   "source": [
    "### What is the the total area of all states?"
   ]
  },
  {
   "cell_type": "code",
   "execution_count": 29,
   "id": "f1473d08-92cf-46e7-8f0a-74e432c099d1",
   "metadata": {},
   "outputs": [
    {
     "data": {
      "text/plain": [
       "1581233.0"
      ]
     },
     "execution_count": 29,
     "metadata": {},
     "output_type": "execute_result"
    }
   ],
   "source": [
    "sum_area = df['area'].sum() # or df.area.sum()\n",
    "sum_area"
   ]
  },
  {
   "cell_type": "markdown",
   "id": "20139c48-372a-4c21-b5c6-b53ecbbc3139",
   "metadata": {},
   "source": [
    "## String operations and filtering the string columns"
   ]
  },
  {
   "cell_type": "markdown",
   "id": "6551c6a7-674f-480f-a507-8e0c5ede9a32",
   "metadata": {},
   "source": [
    "### Select states with \"New\" in their name"
   ]
  },
  {
   "cell_type": "code",
   "execution_count": 30,
   "id": "5d7dc292-2f32-4e68-a8aa-5acd7389624c",
   "metadata": {},
   "outputs": [
    {
     "data": {
      "text/html": [
       "<div>\n",
       "<style scoped>\n",
       "    .dataframe tbody tr th:only-of-type {\n",
       "        vertical-align: middle;\n",
       "    }\n",
       "\n",
       "    .dataframe tbody tr th {\n",
       "        vertical-align: top;\n",
       "    }\n",
       "\n",
       "    .dataframe thead th {\n",
       "        text-align: right;\n",
       "    }\n",
       "</style>\n",
       "<table border=\"1\" class=\"dataframe\">\n",
       "  <thead>\n",
       "    <tr style=\"text-align: right;\">\n",
       "      <th></th>\n",
       "      <th>state</th>\n",
       "      <th>population</th>\n",
       "      <th>area</th>\n",
       "    </tr>\n",
       "  </thead>\n",
       "  <tbody>\n",
       "    <tr>\n",
       "      <th>2</th>\n",
       "      <td>New York</td>\n",
       "      <td>19651127.0</td>\n",
       "      <td>141297.0</td>\n",
       "    </tr>\n",
       "    <tr>\n",
       "      <th>4</th>\n",
       "      <td>New Jersey</td>\n",
       "      <td>9288994.0</td>\n",
       "      <td>NaN</td>\n",
       "    </tr>\n",
       "  </tbody>\n",
       "</table>\n",
       "</div>"
      ],
      "text/plain": [
       "        state  population      area\n",
       "2    New York  19651127.0  141297.0\n",
       "4  New Jersey   9288994.0       NaN"
      ]
     },
     "execution_count": 30,
     "metadata": {},
     "output_type": "execute_result"
    }
   ],
   "source": [
    "df_states_with_new = df[df['state'].str.contains('New')]\n",
    "# or: df[df.state.str.contains('New')] \n",
    "df_states_with_new"
   ]
  },
  {
   "cell_type": "markdown",
   "id": "5f6ad061-bf00-4106-bd20-4a3e7ee0bd71",
   "metadata": {},
   "source": [
    "### Arithmetic operations on columns"
   ]
  },
  {
   "cell_type": "markdown",
   "id": "2f7a3f77-d1f9-4ea3-b2ab-e0bfc7c3f512",
   "metadata": {},
   "source": [
    "### Compute area in „squared miles“ instead of km² (ratio 0,386)."
   ]
  },
  {
   "cell_type": "code",
   "execution_count": 31,
   "id": "eb71c0c5-5f5d-428f-a20c-044845296c6f",
   "metadata": {},
   "outputs": [
    {
     "data": {
      "text/plain": [
       "0    163651.262\n",
       "1    268525.532\n",
       "2     54540.642\n",
       "3     65740.432\n",
       "4           NaN\n",
       "5         0.000\n",
       "6     57898.070\n",
       "Name: area, dtype: float64"
      ]
     },
     "execution_count": 31,
     "metadata": {},
     "output_type": "execute_result"
    }
   ],
   "source": [
    "area_sqm = df['area'] * 0.386 # or: df.area * 0.386   \n",
    "area_sqm # this is, again a \"Series\" representing a column element"
   ]
  },
  {
   "cell_type": "markdown",
   "id": "49f384e7-a966-48e3-970e-767d28582e71",
   "metadata": {},
   "source": [
    "#### Direct combination with aggregation is possible"
   ]
  },
  {
   "cell_type": "code",
   "execution_count": 32,
   "id": "9ecf8245-677a-4802-9dac-556dcdd8581c",
   "metadata": {},
   "outputs": [
    {
     "data": {
      "text/plain": [
       "610355.938"
      ]
     },
     "execution_count": 32,
     "metadata": {},
     "output_type": "execute_result"
    }
   ],
   "source": [
    "(df['area'] * 0.386).sum()"
   ]
  },
  {
   "cell_type": "markdown",
   "id": "0611cfd1-7d18-40f8-96eb-67d87ebd7eca",
   "metadata": {},
   "source": [
    "## Missing data or data with errors"
   ]
  },
  {
   "cell_type": "markdown",
   "id": "39fb1446-7361-4935-8ddf-3707b111228c",
   "metadata": {},
   "source": [
    "### Replace missing data (\"Nan\"/\"Na\" values) in the area column with a default value of 25000 km²."
   ]
  },
  {
   "cell_type": "code",
   "execution_count": 33,
   "id": "b57f02fe-2bb6-48b3-93c3-13124dc7714e",
   "metadata": {},
   "outputs": [
    {
     "name": "stdout",
     "output_type": "stream",
     "text": [
      "Notice that the NaN value visible in the previous outputs is now gone!\n"
     ]
    },
    {
     "data": {
      "text/html": [
       "<div>\n",
       "<style scoped>\n",
       "    .dataframe tbody tr th:only-of-type {\n",
       "        vertical-align: middle;\n",
       "    }\n",
       "\n",
       "    .dataframe tbody tr th {\n",
       "        vertical-align: top;\n",
       "    }\n",
       "\n",
       "    .dataframe thead th {\n",
       "        text-align: right;\n",
       "    }\n",
       "</style>\n",
       "<table border=\"1\" class=\"dataframe\">\n",
       "  <thead>\n",
       "    <tr style=\"text-align: right;\">\n",
       "      <th></th>\n",
       "      <th>state</th>\n",
       "      <th>population</th>\n",
       "      <th>area</th>\n",
       "    </tr>\n",
       "  </thead>\n",
       "  <tbody>\n",
       "    <tr>\n",
       "      <th>0</th>\n",
       "      <td>California</td>\n",
       "      <td>38332521.0</td>\n",
       "      <td>423967.0</td>\n",
       "    </tr>\n",
       "    <tr>\n",
       "      <th>1</th>\n",
       "      <td>Texas</td>\n",
       "      <td>26448193.0</td>\n",
       "      <td>695662.0</td>\n",
       "    </tr>\n",
       "    <tr>\n",
       "      <th>2</th>\n",
       "      <td>New York</td>\n",
       "      <td>19651127.0</td>\n",
       "      <td>141297.0</td>\n",
       "    </tr>\n",
       "    <tr>\n",
       "      <th>3</th>\n",
       "      <td>Florida</td>\n",
       "      <td>19552860.0</td>\n",
       "      <td>170312.0</td>\n",
       "    </tr>\n",
       "    <tr>\n",
       "      <th>4</th>\n",
       "      <td>New Jersey</td>\n",
       "      <td>9288994.0</td>\n",
       "      <td>25000.0</td>\n",
       "    </tr>\n",
       "    <tr>\n",
       "      <th>5</th>\n",
       "      <td>Hawaii</td>\n",
       "      <td>0.0</td>\n",
       "      <td>0.0</td>\n",
       "    </tr>\n",
       "    <tr>\n",
       "      <th>6</th>\n",
       "      <td>Illinois</td>\n",
       "      <td>12882135.0</td>\n",
       "      <td>149995.0</td>\n",
       "    </tr>\n",
       "  </tbody>\n",
       "</table>\n",
       "</div>"
      ],
      "text/plain": [
       "        state  population      area\n",
       "0  California  38332521.0  423967.0\n",
       "1       Texas  26448193.0  695662.0\n",
       "2    New York  19651127.0  141297.0\n",
       "3     Florida  19552860.0  170312.0\n",
       "4  New Jersey   9288994.0   25000.0\n",
       "5      Hawaii         0.0       0.0\n",
       "6    Illinois  12882135.0  149995.0"
      ]
     },
     "execution_count": 33,
     "metadata": {},
     "output_type": "execute_result"
    }
   ],
   "source": [
    "df.loc[:, 'area'] = df['area'].fillna(25000)\n",
    "# other options: \n",
    "# df['area'] = df['area'].fillna(25000)\n",
    "# df = df.fillna({'area': 25000})\n",
    "print('Notice that the NaN value visible in the previous outputs is now gone!')\n",
    "df"
   ]
  },
  {
   "cell_type": "markdown",
   "id": "0dd171ad-bf7e-4ea0-943d-2d28a08587c0",
   "metadata": {
    "tags": []
   },
   "source": [
    "### Delete all rows with data errors in population and area.\n",
    "In this case: all rows with 0 values."
   ]
  },
  {
   "cell_type": "code",
   "execution_count": 34,
   "id": "97b73c4d-7ac8-492f-b70f-c4aab0930e7a",
   "metadata": {},
   "outputs": [
    {
     "name": "stdout",
     "output_type": "stream",
     "text": [
      "Notice that the row with values 0 in the previous outputs is now gone!\n"
     ]
    },
    {
     "data": {
      "text/html": [
       "<div>\n",
       "<style scoped>\n",
       "    .dataframe tbody tr th:only-of-type {\n",
       "        vertical-align: middle;\n",
       "    }\n",
       "\n",
       "    .dataframe tbody tr th {\n",
       "        vertical-align: top;\n",
       "    }\n",
       "\n",
       "    .dataframe thead th {\n",
       "        text-align: right;\n",
       "    }\n",
       "</style>\n",
       "<table border=\"1\" class=\"dataframe\">\n",
       "  <thead>\n",
       "    <tr style=\"text-align: right;\">\n",
       "      <th></th>\n",
       "      <th>state</th>\n",
       "      <th>population</th>\n",
       "      <th>area</th>\n",
       "    </tr>\n",
       "  </thead>\n",
       "  <tbody>\n",
       "    <tr>\n",
       "      <th>0</th>\n",
       "      <td>California</td>\n",
       "      <td>38332521.0</td>\n",
       "      <td>423967.0</td>\n",
       "    </tr>\n",
       "    <tr>\n",
       "      <th>1</th>\n",
       "      <td>Texas</td>\n",
       "      <td>26448193.0</td>\n",
       "      <td>695662.0</td>\n",
       "    </tr>\n",
       "    <tr>\n",
       "      <th>2</th>\n",
       "      <td>New York</td>\n",
       "      <td>19651127.0</td>\n",
       "      <td>141297.0</td>\n",
       "    </tr>\n",
       "    <tr>\n",
       "      <th>3</th>\n",
       "      <td>Florida</td>\n",
       "      <td>19552860.0</td>\n",
       "      <td>170312.0</td>\n",
       "    </tr>\n",
       "    <tr>\n",
       "      <th>4</th>\n",
       "      <td>New Jersey</td>\n",
       "      <td>9288994.0</td>\n",
       "      <td>25000.0</td>\n",
       "    </tr>\n",
       "    <tr>\n",
       "      <th>6</th>\n",
       "      <td>Illinois</td>\n",
       "      <td>12882135.0</td>\n",
       "      <td>149995.0</td>\n",
       "    </tr>\n",
       "  </tbody>\n",
       "</table>\n",
       "</div>"
      ],
      "text/plain": [
       "        state  population      area\n",
       "0  California  38332521.0  423967.0\n",
       "1       Texas  26448193.0  695662.0\n",
       "2    New York  19651127.0  141297.0\n",
       "3     Florida  19552860.0  170312.0\n",
       "4  New Jersey   9288994.0   25000.0\n",
       "6    Illinois  12882135.0  149995.0"
      ]
     },
     "execution_count": 34,
     "metadata": {},
     "output_type": "execute_result"
    }
   ],
   "source": [
    "df = df[(df.area > 0) & (df.population > 0)].copy()\n",
    "# ignore the copy() here - we use it to avoid warnings later\n",
    "print('Notice that the row with values 0 in the previous outputs is now gone!')\n",
    "df "
   ]
  },
  {
   "cell_type": "markdown",
   "id": "6bfb84aa-8e17-418b-945a-4dd9de8a8984",
   "metadata": {},
   "source": [
    "## Add columns"
   ]
  },
  {
   "cell_type": "markdown",
   "id": "50adf644-50d9-4512-9d03-8ea4aad6d207",
   "metadata": {
    "tags": []
   },
   "source": [
    "### Add column with population in millions.\n",
    "Round on an integer."
   ]
  },
  {
   "cell_type": "code",
   "execution_count": 35,
   "id": "7c9866ac-399d-437f-8806-642771b0a184",
   "metadata": {},
   "outputs": [
    {
     "data": {
      "text/html": [
       "<div>\n",
       "<style scoped>\n",
       "    .dataframe tbody tr th:only-of-type {\n",
       "        vertical-align: middle;\n",
       "    }\n",
       "\n",
       "    .dataframe tbody tr th {\n",
       "        vertical-align: top;\n",
       "    }\n",
       "\n",
       "    .dataframe thead th {\n",
       "        text-align: right;\n",
       "    }\n",
       "</style>\n",
       "<table border=\"1\" class=\"dataframe\">\n",
       "  <thead>\n",
       "    <tr style=\"text-align: right;\">\n",
       "      <th></th>\n",
       "      <th>state</th>\n",
       "      <th>population</th>\n",
       "      <th>area</th>\n",
       "      <th>pop_in_mil</th>\n",
       "    </tr>\n",
       "  </thead>\n",
       "  <tbody>\n",
       "    <tr>\n",
       "      <th>0</th>\n",
       "      <td>California</td>\n",
       "      <td>38332521.0</td>\n",
       "      <td>423967.0</td>\n",
       "      <td>38.0</td>\n",
       "    </tr>\n",
       "    <tr>\n",
       "      <th>1</th>\n",
       "      <td>Texas</td>\n",
       "      <td>26448193.0</td>\n",
       "      <td>695662.0</td>\n",
       "      <td>26.0</td>\n",
       "    </tr>\n",
       "    <tr>\n",
       "      <th>2</th>\n",
       "      <td>New York</td>\n",
       "      <td>19651127.0</td>\n",
       "      <td>141297.0</td>\n",
       "      <td>20.0</td>\n",
       "    </tr>\n",
       "    <tr>\n",
       "      <th>3</th>\n",
       "      <td>Florida</td>\n",
       "      <td>19552860.0</td>\n",
       "      <td>170312.0</td>\n",
       "      <td>20.0</td>\n",
       "    </tr>\n",
       "    <tr>\n",
       "      <th>4</th>\n",
       "      <td>New Jersey</td>\n",
       "      <td>9288994.0</td>\n",
       "      <td>25000.0</td>\n",
       "      <td>9.0</td>\n",
       "    </tr>\n",
       "    <tr>\n",
       "      <th>6</th>\n",
       "      <td>Illinois</td>\n",
       "      <td>12882135.0</td>\n",
       "      <td>149995.0</td>\n",
       "      <td>13.0</td>\n",
       "    </tr>\n",
       "  </tbody>\n",
       "</table>\n",
       "</div>"
      ],
      "text/plain": [
       "        state  population      area  pop_in_mil\n",
       "0  California  38332521.0  423967.0        38.0\n",
       "1       Texas  26448193.0  695662.0        26.0\n",
       "2    New York  19651127.0  141297.0        20.0\n",
       "3     Florida  19552860.0  170312.0        20.0\n",
       "4  New Jersey   9288994.0   25000.0         9.0\n",
       "6    Illinois  12882135.0  149995.0        13.0"
      ]
     },
     "execution_count": 35,
     "metadata": {},
     "output_type": "execute_result"
    }
   ],
   "source": [
    "df['pop_in_mil'] = df['population'] / 1000000\n",
    "df['pop_in_mil'] = round(df['pop_in_mil'])\n",
    "# or: df.loc[:, 'pop_in_mil'] = round(df['population'] / 1000000)\n",
    "df"
   ]
  },
  {
   "cell_type": "markdown",
   "id": "ac2693a2-533e-423a-b2b6-3f744c186f7f",
   "metadata": {
    "tags": []
   },
   "source": [
    "### Add a column with population density.\n",
    "Round on two decimal places."
   ]
  },
  {
   "cell_type": "code",
   "execution_count": 36,
   "id": "f647bf6d-a913-40e3-9df5-e04d25d7d588",
   "metadata": {},
   "outputs": [
    {
     "data": {
      "text/html": [
       "<div>\n",
       "<style scoped>\n",
       "    .dataframe tbody tr th:only-of-type {\n",
       "        vertical-align: middle;\n",
       "    }\n",
       "\n",
       "    .dataframe tbody tr th {\n",
       "        vertical-align: top;\n",
       "    }\n",
       "\n",
       "    .dataframe thead th {\n",
       "        text-align: right;\n",
       "    }\n",
       "</style>\n",
       "<table border=\"1\" class=\"dataframe\">\n",
       "  <thead>\n",
       "    <tr style=\"text-align: right;\">\n",
       "      <th></th>\n",
       "      <th>state</th>\n",
       "      <th>population</th>\n",
       "      <th>area</th>\n",
       "      <th>pop_in_mil</th>\n",
       "      <th>pop_density</th>\n",
       "    </tr>\n",
       "  </thead>\n",
       "  <tbody>\n",
       "    <tr>\n",
       "      <th>0</th>\n",
       "      <td>California</td>\n",
       "      <td>38332521.0</td>\n",
       "      <td>423967.0</td>\n",
       "      <td>38.0</td>\n",
       "      <td>90.41</td>\n",
       "    </tr>\n",
       "    <tr>\n",
       "      <th>1</th>\n",
       "      <td>Texas</td>\n",
       "      <td>26448193.0</td>\n",
       "      <td>695662.0</td>\n",
       "      <td>26.0</td>\n",
       "      <td>38.02</td>\n",
       "    </tr>\n",
       "    <tr>\n",
       "      <th>2</th>\n",
       "      <td>New York</td>\n",
       "      <td>19651127.0</td>\n",
       "      <td>141297.0</td>\n",
       "      <td>20.0</td>\n",
       "      <td>139.08</td>\n",
       "    </tr>\n",
       "    <tr>\n",
       "      <th>3</th>\n",
       "      <td>Florida</td>\n",
       "      <td>19552860.0</td>\n",
       "      <td>170312.0</td>\n",
       "      <td>20.0</td>\n",
       "      <td>114.81</td>\n",
       "    </tr>\n",
       "    <tr>\n",
       "      <th>4</th>\n",
       "      <td>New Jersey</td>\n",
       "      <td>9288994.0</td>\n",
       "      <td>25000.0</td>\n",
       "      <td>9.0</td>\n",
       "      <td>371.56</td>\n",
       "    </tr>\n",
       "    <tr>\n",
       "      <th>6</th>\n",
       "      <td>Illinois</td>\n",
       "      <td>12882135.0</td>\n",
       "      <td>149995.0</td>\n",
       "      <td>13.0</td>\n",
       "      <td>85.88</td>\n",
       "    </tr>\n",
       "  </tbody>\n",
       "</table>\n",
       "</div>"
      ],
      "text/plain": [
       "        state  population      area  pop_in_mil  pop_density\n",
       "0  California  38332521.0  423967.0        38.0        90.41\n",
       "1       Texas  26448193.0  695662.0        26.0        38.02\n",
       "2    New York  19651127.0  141297.0        20.0       139.08\n",
       "3     Florida  19552860.0  170312.0        20.0       114.81\n",
       "4  New Jersey   9288994.0   25000.0         9.0       371.56\n",
       "6    Illinois  12882135.0  149995.0        13.0        85.88"
      ]
     },
     "execution_count": 36,
     "metadata": {},
     "output_type": "execute_result"
    }
   ],
   "source": [
    "df['pop_density'] = round(df['population'] / df['area'], 2)\n",
    "# or: df.loc[:, 'pop_density'] = round(df['population'] / df['area'], 2)\n",
    "df"
   ]
  },
  {
   "cell_type": "markdown",
   "id": "cd56dd7b-649a-4c51-8664-49acfbd4f367",
   "metadata": {},
   "source": [
    "## Plotting"
   ]
  },
  {
   "cell_type": "code",
   "execution_count": 37,
   "id": "be665dfe-93ea-45fa-8c22-695066115110",
   "metadata": {},
   "outputs": [
    {
     "data": {
      "text/plain": [
       "<AxesSubplot:title={'center':'Population Density per km^2'}, xlabel='state'>"
      ]
     },
     "execution_count": 37,
     "metadata": {},
     "output_type": "execute_result"
    },
    {
     "data": {
      "image/png": "[encoded data removed]",
      "text/plain": [
       "<Figure size 432x288 with 1 Axes>"
      ]
     },
     "metadata": {
      "needs_background": "light"
     },
     "output_type": "display_data"
    }
   ],
   "source": [
    "# This returns an \"axis\" object, which is technically part of a Figure-object in python.\n",
    "ax = df.plot(x='state', y='pop_density', title='Population Density per km^2', kind='bar')\n",
    "ax"
   ]
  },
  {
   "cell_type": "markdown",
   "id": "180b0756-eec3-4a6f-b66b-a15a5c8be5ce",
   "metadata": {},
   "source": [
    "## Store preprocessed DataFrame as a new csv file."
   ]
  },
  {
   "cell_type": "code",
   "execution_count": 38,
   "id": "f1f90ae1-59ec-47f7-8774-13b9c8253c7e",
   "metadata": {},
   "outputs": [],
   "source": [
    "df.to_csv('states_processed.csv', index=False) # index=False excludes the index column (as our index-column here is not useful)\n",
    "# One could also manually define the separator between the cells as following:\n",
    "# df.to_csv('states_new.csv', sep=';', index=False)"
   ]
  }
 ],
 "metadata": {
  "kernelspec": {
   "display_name": "Python 3 (ipykernel)",
   "language": "python",
   "name": "python3"
  },
  "language_info": {
   "codemirror_mode": {
    "name": "ipython",
    "version": 3
   },
   "file_extension": ".py",
   "mimetype": "text/x-python",
   "name": "python",
   "nbconvert_exporter": "python",
   "pygments_lexer": "ipython3",
   "version": "3.10.4"
  }
 },
 "nbformat": 4,
 "nbformat_minor": 5
}
