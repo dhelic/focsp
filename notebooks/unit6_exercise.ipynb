{
 "cells": [
  {
   "cell_type": "markdown",
   "id": "bcda77c8-fb77-436e-a346-1fe31396d758",
   "metadata": {
    "tags": []
   },
   "source": [
    "### Exercise 1"
   ]
  },
  {
   "cell_type": "markdown",
   "id": "487fbae9-deec-45a3-8595-e26f67dd4150",
   "metadata": {},
   "source": [
    "#### Text statistics\n",
    "\n",
    "Write a function `count_letter(text, letter)`. It counts and returns how often some `letter` occurs in a `text` (both are `str`). Let the function be **case-insensitive** and don't use any builtin-functionality for counting!\n",
    "Using your function, count the occurences of letters from the ABC string below in a text defined below. Output each letter and its count on a separate line."
   ]
  },
  {
   "cell_type": "code",
   "execution_count": 5,
   "id": "4ff5d637-8e6d-435e-9198-24e3ff7520d7",
   "metadata": {},
   "outputs": [],
   "source": [
    "# you code goes here\n",
    "\n",
    "ABC = 'abcdefghijklmnopqrstuvwxyz'\n",
    "text = '''SCENE I. Rousillon. The COUNT's palace.\n",
    "\n",
    "    Enter BERTRAM, the COUNTESS of Rousillon, HELENA, and LAFEU, all in black \n",
    "\n",
    "COUNTESS\n",
    "\n",
    "    In delivering my son from me, I bury a second husband.\n",
    "\n",
    "BERTRAM\n",
    "\n",
    "    And I in going, madam, weep o'er my father's death\n",
    "    anew: but I must attend his majesty's command, to\n",
    "    whom I am now in ward, evermore in subjection.\n",
    "\n",
    "LAFEU\n",
    "\n",
    "    You shall find of the king a husband, madam; you,\n",
    "    sir, a father: he that so generally is at all times\n",
    "    good must of necessity hold his virtue to you; whose\n",
    "    worthiness would stir it up where it wanted rather\n",
    "    than lack it where there is such abundance.\n",
    "\n",
    "COUNTESS\n",
    "\n",
    "    What hope is there of his majesty's amendment?\n",
    "\n",
    "LAFEU\n",
    "\n",
    "    He hath abandoned his physicians, madam; under whose\n",
    "    practises he hath persecuted time with hope, and\n",
    "    finds no other advantage in the process but only the\n",
    "    losing of hope by time.\n",
    "\n",
    "COUNTESS\n",
    "\n",
    "    This young gentlewoman had a father,--O, that\n",
    "    'had'! how sad a passage 'tis!--whose skill was\n",
    "    almost as great as his honesty; had it stretched so\n",
    "    far, would have made nature immortal, and death\n",
    "    should have play for lack of work. Would, for the\n",
    "    king's sake, he were living! I think it would be\n",
    "    the death of the king's disease.'''"
   ]
  },
  {
   "cell_type": "markdown",
   "id": "86b48929-3b59-4f57-9345-f6609efe194d",
   "metadata": {},
   "source": [
    "### Exercise 2"
   ]
  },
  {
   "cell_type": "markdown",
   "id": "48d431d2-70d9-4abd-b80e-8fb1ddb20177",
   "metadata": {},
   "source": [
    "#### Subset of a list\n",
    "\n",
    "Write a function, which checks whether a list is a subset of another list. The function returns `True` if that is the case and `False` otherwise."
   ]
  },
  {
   "cell_type": "code",
   "execution_count": 6,
   "id": "455f0cea-ae7f-4f6a-ae3c-dac4ebf90d4c",
   "metadata": {},
   "outputs": [],
   "source": [
    "# your code goes here"
   ]
  }
 ],
 "metadata": {
  "kernelspec": {
   "display_name": "Python 3 (ipykernel)",
   "language": "python",
   "name": "python3"
  },
  "language_info": {
   "codemirror_mode": {
    "name": "ipython",
    "version": 3
   },
   "file_extension": ".py",
   "mimetype": "text/x-python",
   "name": "python",
   "nbconvert_exporter": "python",
   "pygments_lexer": "ipython3",
   "version": "3.10.4"
  }
 },
 "nbformat": 4,
 "nbformat_minor": 5
}
