{
 "cells": [
  {
   "cell_type": "markdown",
   "id": "e73d4ba0-a48b-4973-9201-4f509c63e5af",
   "metadata": {},
   "source": [
    "# Sets, and Dictionaries"
   ]
  },
  {
   "cell_type": "markdown",
   "id": "8f489676-e69b-4d68-ba9d-d216f3636e1f",
   "metadata": {},
   "source": [
    "## Sets"
   ]
  },
  {
   "cell_type": "code",
   "execution_count": 1,
   "id": "02128b0c-e911-41cd-985a-de8437c07b77",
   "metadata": {},
   "outputs": [
    {
     "name": "stdout",
     "output_type": "stream",
     "text": [
      "Set1: {1, 2, 3} Set2: {1, 2, 3} Set3: {1, 2, 3}\n",
      "Are they equal? True\n"
     ]
    }
   ],
   "source": [
    "number_set1 = {1, 2, 3}\n",
    "number_set2 = set([1, 2, 3])\n",
    "number_set3 = {1, 1, 2, 3, 2, 3, 2, 3}\n",
    "print('Set1:', number_set1, 'Set2:', number_set2, 'Set3:',number_set3)\n",
    "print(f'Are they equal? {number_set1 == number_set2 == number_set3}')"
   ]
  },
  {
   "cell_type": "code",
   "execution_count": 2,
   "id": "274d64af-5bc8-4595-9619-e41507bb0e78",
   "metadata": {},
   "outputs": [
    {
     "name": "stdout",
     "output_type": "stream",
     "text": [
      "{'orange', 'black', 'red'}\n"
     ]
    }
   ],
   "source": [
    "colors = set() # empty set must be declarated like this\n",
    "colors.add('red')\n",
    "colors.update(['orange', 'black'])\n",
    "print(colors)"
   ]
  },
  {
   "cell_type": "code",
   "execution_count": 3,
   "id": "9845e9c7-3013-4518-ad90-a4d89fb5d546",
   "metadata": {},
   "outputs": [
    {
     "name": "stdout",
     "output_type": "stream",
     "text": [
      "{'orange', 'red'}\n"
     ]
    }
   ],
   "source": [
    "# no duplicates\n",
    "colors = {'orange', 'red'}\n",
    "colors.add('orange')\n",
    "colors.add('red')\n",
    "print(colors)"
   ]
  },
  {
   "cell_type": "code",
   "execution_count": 4,
   "id": "a6ae72b3-a118-48bb-8865-b7997fd51d89",
   "metadata": {},
   "outputs": [
    {
     "name": "stdout",
     "output_type": "stream",
     "text": [
      "{'orange', 'black', 'red'}\n"
     ]
    }
   ],
   "source": [
    "# no duplicates\n",
    "colors = {'red', 'orange'}\n",
    "colors.update(['red', 'orange', 'black'])\n",
    "print(colors)"
   ]
  },
  {
   "cell_type": "code",
   "execution_count": 5,
   "id": "067d7da2-94f9-4797-a093-288716badf37",
   "metadata": {},
   "outputs": [
    {
     "name": "stdout",
     "output_type": "stream",
     "text": [
      "After removing red {'orange'}\n"
     ]
    },
    {
     "ename": "KeyError",
     "evalue": "'black'",
     "output_type": "error",
     "traceback": [
      "\u001b[1;31m---------------------------------------------------------------------------\u001b[0m",
      "\u001b[1;31mKeyError\u001b[0m                                  Traceback (most recent call last)",
      "Input \u001b[1;32mIn [5]\u001b[0m, in \u001b[0;36m<cell line: 5>\u001b[1;34m()\u001b[0m\n\u001b[0;32m      3\u001b[0m colors\u001b[38;5;241m.\u001b[39mremove(\u001b[38;5;124m'\u001b[39m\u001b[38;5;124mred\u001b[39m\u001b[38;5;124m'\u001b[39m)\n\u001b[0;32m      4\u001b[0m \u001b[38;5;28mprint\u001b[39m(\u001b[38;5;124m'\u001b[39m\u001b[38;5;124mAfter removing red\u001b[39m\u001b[38;5;124m'\u001b[39m, colors)\n\u001b[1;32m----> 5\u001b[0m \u001b[43mcolors\u001b[49m\u001b[38;5;241;43m.\u001b[39;49m\u001b[43mremove\u001b[49m\u001b[43m(\u001b[49m\u001b[38;5;124;43m'\u001b[39;49m\u001b[38;5;124;43mblack\u001b[39;49m\u001b[38;5;124;43m'\u001b[39;49m\u001b[43m)\u001b[49m\n\u001b[0;32m      6\u001b[0m \u001b[38;5;28mprint\u001b[39m(\u001b[38;5;124m'\u001b[39m\u001b[38;5;124mAfter removing black\u001b[39m\u001b[38;5;124m'\u001b[39m, colors)\n",
      "\u001b[1;31mKeyError\u001b[0m: 'black'"
     ]
    }
   ],
   "source": [
    "# removal with check\n",
    "colors = {'red', 'orange'}\n",
    "colors.remove('red')\n",
    "print('After removing red', colors)\n",
    "colors.remove('black')\n",
    "print('After removing black', colors)"
   ]
  },
  {
   "cell_type": "code",
   "execution_count": 7,
   "id": "95a52ab0-6ac0-4c8e-885b-0bf14cd1692b",
   "metadata": {},
   "outputs": [
    {
     "name": "stdout",
     "output_type": "stream",
     "text": [
      "After discarding red {'orange'}\n",
      "After discarding black {'orange'}\n"
     ]
    }
   ],
   "source": [
    "# removal without check, will not fail\n",
    "colors = {'red', 'orange'}\n",
    "colors.discard('red')\n",
    "print('After discarding red', colors)\n",
    "colors.discard('black')\n",
    "print('After discarding black', colors)"
   ]
  },
  {
   "cell_type": "code",
   "execution_count": 8,
   "id": "17a0bd8d-e9b3-47b5-85af-bf2d94d64b4f",
   "metadata": {},
   "outputs": [
    {
     "name": "stdout",
     "output_type": "stream",
     "text": [
      "Cleared set? Length should be 0 then. Length == 0\n"
     ]
    }
   ],
   "source": [
    "# empty set\n",
    "colors = {'red', 'orange'}\n",
    "colors.clear()\n",
    "print('Cleared set? Length should be 0 then. Length ==', len(colors))"
   ]
  },
  {
   "cell_type": "code",
   "execution_count": 9,
   "id": "47c02ff8-9170-4228-9fbe-e7b5f04dd147",
   "metadata": {},
   "outputs": [
    {
     "name": "stdout",
     "output_type": "stream",
     "text": [
      "Intersect with x.intersection(y) {'b'}\n",
      "Intersect with x & y {'b'}\n",
      "Union with x.union(y) {'d', 'a', 'b'}\n",
      "Union with x | y {'d', 'a', 'b'}\n",
      "Membership, is b in y? True\n",
      "Membership, is b not in x? False\n",
      "Difference between x and y? {'a'}\n",
      "Difference between y and x? {'d'}\n"
     ]
    }
   ],
   "source": [
    "x = {'a', 'b'}\n",
    "y = {'b', 'd'}\n",
    "print('Intersect with x.intersection(y)', x.intersection(y))\n",
    "print('Intersect with x & y', x & y)\n",
    "\n",
    "print('Union with x.union(y)', x.union(y))\n",
    "print('Union with x | y', x | y)\n",
    "\n",
    "print('Membership, is b in y?', 'b' in y)\n",
    "print('Membership, is b not in x?', 'b' not in x)\n",
    "\n",
    "print('Difference between x and y?', x - y)\n",
    "print('Difference between y and x?', y - x)"
   ]
  },
  {
   "cell_type": "markdown",
   "id": "dc575b75-d4d2-4d7c-8b6b-656f266d3347",
   "metadata": {},
   "source": [
    "## Dictionaries"
   ]
  },
  {
   "cell_type": "markdown",
   "id": "33ba7229-0a95-47ec-b10f-4b5ac51b2de2",
   "metadata": {},
   "source": [
    "### Basic Dictionaries and Operations"
   ]
  },
  {
   "cell_type": "code",
   "execution_count": 10,
   "id": "46fa92cb-ce00-4a78-a83b-06d7ae86280d",
   "metadata": {},
   "outputs": [],
   "source": [
    "students = {123456: 'Max', 19999: 'Maria', 18240: 'Lukas', 12300: 'Julia'}"
   ]
  },
  {
   "cell_type": "code",
   "execution_count": 11,
   "id": "cc1e8a4e-26c6-4cb0-a4fc-dc00782765e8",
   "metadata": {},
   "outputs": [
    {
     "name": "stdout",
     "output_type": "stream",
     "text": [
      "Student with key 123456: Max\n"
     ]
    }
   ],
   "source": [
    "print('Student with key 123456:', students[123456])"
   ]
  },
  {
   "cell_type": "code",
   "execution_count": 12,
   "id": "b66573f0-d83e-4c89-9d96-51d853a8e24c",
   "metadata": {},
   "outputs": [
    {
     "name": "stdout",
     "output_type": "stream",
     "text": [
      "Student with key 19999: Maria\n"
     ]
    }
   ],
   "source": [
    "key = 19999\n",
    "print(f'Student with key {key}: {students[key]}')"
   ]
  },
  {
   "cell_type": "code",
   "execution_count": 13,
   "id": "5b3287b9-0e40-45fe-bedb-b5abbf4c813d",
   "metadata": {},
   "outputs": [
    {
     "ename": "KeyError",
     "evalue": "999999",
     "output_type": "error",
     "traceback": [
      "\u001b[1;31m---------------------------------------------------------------------------\u001b[0m",
      "\u001b[1;31mKeyError\u001b[0m                                  Traceback (most recent call last)",
      "Input \u001b[1;32mIn [13]\u001b[0m, in \u001b[0;36m<cell line: 1>\u001b[1;34m()\u001b[0m\n\u001b[1;32m----> 1\u001b[0m \u001b[38;5;28mprint\u001b[39m(\u001b[38;5;124m'\u001b[39m\u001b[38;5;124mStudent with key 999999:\u001b[39m\u001b[38;5;124m'\u001b[39m, \u001b[43mstudents\u001b[49m\u001b[43m[\u001b[49m\u001b[38;5;241;43m999999\u001b[39;49m\u001b[43m]\u001b[49m)\n",
      "\u001b[1;31mKeyError\u001b[0m: 999999"
     ]
    }
   ],
   "source": [
    "print('Student with key 999999:', students[999999])"
   ]
  },
  {
   "cell_type": "code",
   "execution_count": 14,
   "id": "e7e3777a-51f9-4f9a-982e-ffb76c347702",
   "metadata": {},
   "outputs": [
    {
     "name": "stdout",
     "output_type": "stream",
     "text": [
      "{123: 'Max', 199: 'Maria', 182: 'Lukas', 456: 'Julia'}\n"
     ]
    }
   ],
   "source": [
    "students = {123: 'Max', 199: 'Maria', 182: 'Lukas', 456: 'Julia'}\n",
    "print(students)"
   ]
  },
  {
   "cell_type": "code",
   "execution_count": 15,
   "id": "39460b95-962f-42c9-b65c-8732645649d1",
   "metadata": {},
   "outputs": [
    {
     "name": "stdout",
     "output_type": "stream",
     "text": [
      "Insert Martina at 668:\n",
      " {123: 'Max', 199: 'Maria', 182: 'Lukas', 456: 'Julia', 668: 'Martina'}\n"
     ]
    }
   ],
   "source": [
    "students[668] = 'Martina'\n",
    "print('Insert Martina at 668:\\n', students)"
   ]
  },
  {
   "cell_type": "code",
   "execution_count": 16,
   "id": "f5fbf07e-8c64-48ab-af43-e06d7b4d6936",
   "metadata": {},
   "outputs": [
    {
     "name": "stdout",
     "output_type": "stream",
     "text": [
      "Deleted 123:\n",
      " {199: 'Maria', 182: 'Lukas', 456: 'Julia', 668: 'Martina'}\n"
     ]
    }
   ],
   "source": [
    "del students[123]\n",
    "print('Deleted 123:\\n', students)"
   ]
  },
  {
   "cell_type": "code",
   "execution_count": 17,
   "id": "2b8f3775-611f-4e03-92f6-7a19c07949f0",
   "metadata": {},
   "outputs": [
    {
     "name": "stdout",
     "output_type": "stream",
     "text": [
      "Put Anna at 199:\n",
      " {199: 'Anna', 182: 'Lukas', 456: 'Julia', 668: 'Martina'}\n"
     ]
    }
   ],
   "source": [
    "students[199] = 'Anna'\n",
    "print('Put Anna at 199:\\n', students)"
   ]
  },
  {
   "cell_type": "code",
   "execution_count": 18,
   "id": "61835cf5-30d6-4ba6-ad0c-f00f8c3912a2",
   "metadata": {},
   "outputs": [
    {
     "name": "stdout",
     "output_type": "stream",
     "text": [
      "There are now this many students stored: 4\n"
     ]
    }
   ],
   "source": [
    "print('There are now this many students stored:', len(students))"
   ]
  },
  {
   "cell_type": "code",
   "execution_count": 19,
   "id": "efa51720-cd27-48e9-9a78-1cb0fdb25dbb",
   "metadata": {},
   "outputs": [
    {
     "ename": "KeyError",
     "evalue": "9999",
     "output_type": "error",
     "traceback": [
      "\u001b[1;31m---------------------------------------------------------------------------\u001b[0m",
      "\u001b[1;31mKeyError\u001b[0m                                  Traceback (most recent call last)",
      "Input \u001b[1;32mIn [19]\u001b[0m, in \u001b[0;36m<cell line: 2>\u001b[1;34m()\u001b[0m\n\u001b[0;32m      1\u001b[0m \u001b[38;5;66;03m# what does this do\u001b[39;00m\n\u001b[1;32m----> 2\u001b[0m \u001b[38;5;28;01mdel\u001b[39;00m students[\u001b[38;5;241m9999\u001b[39m]\n",
      "\u001b[1;31mKeyError\u001b[0m: 9999"
     ]
    }
   ],
   "source": [
    "# what does this do\n",
    "del students[9999]"
   ]
  },
  {
   "cell_type": "code",
   "execution_count": 20,
   "id": "83ab078e-8a01-487a-8ada-e099a49b51c0",
   "metadata": {},
   "outputs": [
    {
     "name": "stdout",
     "output_type": "stream",
     "text": [
      "Iterating over all keys:\n",
      "Key: 199, Value: Anna\n",
      "Key: 182, Value: Lukas\n",
      "Key: 456, Value: Julia\n",
      "Key: 668, Value: Martina\n",
      "\n",
      "This is the same:\n",
      "Key: 199, Value: Anna\n",
      "Key: 182, Value: Lukas\n",
      "Key: 456, Value: Julia\n",
      "Key: 668, Value: Martina\n"
     ]
    }
   ],
   "source": [
    "# Iterating over students is the same as iterating over students.keys()!\n",
    "print('Iterating over all keys:')\n",
    "for key in students.keys():\n",
    "    value = students[key]\n",
    "    print(f'Key: {key}, Value: {value}')\n",
    "\n",
    "print('\\nThis is the same:')\n",
    "for key in students:\n",
    "    value = students[key]\n",
    "    print(f'Key: {key}, Value: {value}')"
   ]
  },
  {
   "cell_type": "code",
   "execution_count": 21,
   "id": "fbe12593-9af5-4071-93a4-6908ff5db741",
   "metadata": {},
   "outputs": [
    {
     "name": "stdout",
     "output_type": "stream",
     "text": [
      "Show me just the values, but there is no way to get keys from them:\n",
      "Value: Anna\n",
      "Value: Lukas\n",
      "Value: Julia\n",
      "Value: Martina\n"
     ]
    }
   ],
   "source": [
    "print('Show me just the values, but there is no way to get keys from them:')\n",
    "for value in students.values():\n",
    "    print(f'Value: {value}')"
   ]
  },
  {
   "cell_type": "code",
   "execution_count": 22,
   "id": "03cfd6d8-096d-4149-8875-733852812ccb",
   "metadata": {},
   "outputs": [
    {
     "name": "stdout",
     "output_type": "stream",
     "text": [
      "Show me key-value tuples, then iterate over them\n",
      "All items: dict_items([(199, 'Anna'), (182, 'Lukas'), (456, 'Julia'), (668, 'Martina')])\n",
      "Key: 199, Value: Anna\n",
      "Key: 182, Value: Lukas\n",
      "Key: 456, Value: Julia\n",
      "Key: 668, Value: Martina\n"
     ]
    }
   ],
   "source": [
    "print('Show me key-value tuples, then iterate over them')\n",
    "\n",
    "items_in_dict = students.items() # returns (key, value) tuples\n",
    "\n",
    "print('All items:', items_in_dict)\n",
    "\n",
    "for key, value in items_in_dict:\n",
    "    print(f'Key: {key}, Value: {value}')"
   ]
  },
  {
   "cell_type": "code",
   "execution_count": 23,
   "id": "8f661453-cf33-43ad-8c0c-2c55caa3c110",
   "metadata": {},
   "outputs": [
    {
     "name": "stdout",
     "output_type": "stream",
     "text": [
      "Also all items:\n",
      "item tuple: (199, 'Anna')\n",
      "Key: 199, Value: Anna\n",
      "item tuple: (182, 'Lukas')\n",
      "Key: 182, Value: Lukas\n",
      "item tuple: (456, 'Julia')\n",
      "Key: 456, Value: Julia\n",
      "item tuple: (668, 'Martina')\n",
      "Key: 668, Value: Martina\n"
     ]
    }
   ],
   "source": [
    "# if the loop above is hard to understand for you, check this out:\n",
    "print('Also all items:')\n",
    "for key_value_item in items_in_dict:\n",
    "    print('item tuple:', key_value_item)\n",
    "    key = key_value_item[0]\n",
    "    value = key_value_item[1]\n",
    "    print(f'Key: {key}, Value: {value}')"
   ]
  },
  {
   "cell_type": "markdown",
   "id": "e2ed7740-4752-48b2-9531-97d3d9306edd",
   "metadata": {},
   "source": [
    "## Other dictionary examples"
   ]
  },
  {
   "cell_type": "code",
   "execution_count": 24,
   "id": "0e88fdc7-edca-46c7-8e5a-b8bf46bf0e84",
   "metadata": {},
   "outputs": [],
   "source": [
    "my_phonebook = {'Lukas': 6641234, 'Nik': 6769999, 'Helmut': 31174444}"
   ]
  },
  {
   "cell_type": "code",
   "execution_count": 25,
   "id": "71e383a8-ef0b-4541-91fa-72ca70748211",
   "metadata": {},
   "outputs": [
    {
     "name": "stdin",
     "output_type": "stream",
     "text": [
      "Who do you want to call?  Nik\n"
     ]
    },
    {
     "name": "stdout",
     "output_type": "stream",
     "text": [
      "Calling Nik under 6769999...\n"
     ]
    }
   ],
   "source": [
    "call_name = input('Who do you want to call? ')\n",
    "number = my_phonebook[call_name]\n",
    "print(f'Calling {call_name} under {number}...')"
   ]
  },
  {
   "cell_type": "code",
   "execution_count": 26,
   "id": "0b2807c8-cc95-418d-b1f8-bd0c47dec6bb",
   "metadata": {},
   "outputs": [
    {
     "name": "stdin",
     "output_type": "stream",
     "text": [
      "Who do you want to call?  nnio\n"
     ]
    },
    {
     "name": "stdout",
     "output_type": "stream",
     "text": [
      "Sorry, nnio is not in your phonebook.\n"
     ]
    }
   ],
   "source": [
    "call_name = input('Who do you want to call? ')\n",
    "if call_name in my_phonebook:\n",
    "    number = my_phonebook[call_name]\n",
    "    print(f'Calling {call_name} under {number}...')\n",
    "else: \n",
    "    print(f'Sorry, {call_name} is not in your phonebook.')"
   ]
  },
  {
   "cell_type": "code",
   "execution_count": 27,
   "id": "625670ee-be18-42af-b927-d65e2405f879",
   "metadata": {},
   "outputs": [
    {
     "name": "stdout",
     "output_type": "stream",
     "text": [
      "{'Lukas': 6641234, 'Nik': 6769999, 'Helmut': 31174444}\n"
     ]
    }
   ],
   "source": [
    "my_phonebook = {'Lukas': 6641234, 'Nik': 6769999, 'Helmut': 31174444}\n",
    "print(my_phonebook)"
   ]
  },
  {
   "cell_type": "code",
   "execution_count": 28,
   "id": "8f40e4a1-698a-470d-a20e-75c01815ccc8",
   "metadata": {},
   "outputs": [
    {
     "name": "stdout",
     "output_type": "stream",
     "text": [
      "{'Lukas': 6641234, 'Nik': 6769999, 'Helmut': 31174444, 'Max': 668009}\n"
     ]
    }
   ],
   "source": [
    "my_phonebook['Max'] = 668009\n",
    "print(my_phonebook)"
   ]
  },
  {
   "cell_type": "code",
   "execution_count": 29,
   "id": "7fe93611-5044-4258-b5ae-cf3af7c682ce",
   "metadata": {},
   "outputs": [
    {
     "name": "stdout",
     "output_type": "stream",
     "text": [
      "{'Lukas': 6641234, 'Nik': 719133, 'Helmut': 31174444, 'Max': 668009}\n"
     ]
    }
   ],
   "source": [
    "my_phonebook['Nik'] = 719133\n",
    "print(my_phonebook)"
   ]
  },
  {
   "cell_type": "code",
   "execution_count": 30,
   "id": "8361d435-022c-4fe4-8262-73b2496202b6",
   "metadata": {},
   "outputs": [
    {
     "name": "stdout",
     "output_type": "stream",
     "text": [
      "{'Lukas': 6641234, 'Nik': 719133, 'Max': 668009}\n"
     ]
    }
   ],
   "source": [
    "del my_phonebook['Helmut']\n",
    "print(my_phonebook)"
   ]
  },
  {
   "cell_type": "markdown",
   "id": "09fc735a-01e5-4423-ad34-03cb46c6ce8a",
   "metadata": {},
   "source": [
    "# Recursions\n",
    "Most examples are given as a comparison between iterative (with for/while) and recursive execution."
   ]
  },
  {
   "cell_type": "markdown",
   "id": "3a6c12be-8110-4cc9-8f4d-be20b17d98a7",
   "metadata": {},
   "source": [
    "### Basic Example from Lecture/Slides"
   ]
  },
  {
   "cell_type": "code",
   "execution_count": null,
   "id": "5dde835f-c5c5-4419-920a-a151fa202c44",
   "metadata": {
    "pycharm": {
     "is_executing": false,
     "name": "#%%\n"
    }
   },
   "outputs": [],
   "source": [
    "# what's the problem here?\n",
    "def print_divisors(res):\n",
    "    print(f'The result is: ', res) \n",
    "    print_divisors(res / 2)\n",
    "\n",
    "print_divisors(10)"
   ]
  },
  {
   "cell_type": "code",
   "execution_count": 1,
   "id": "2af447b3-983d-416f-9b0b-54c7e20a16f7",
   "metadata": {
    "pycharm": {
     "is_executing": false,
     "name": "#%%\n"
    }
   },
   "outputs": [
    {
     "name": "stdout",
     "output_type": "stream",
     "text": [
      "The result is:  10\n",
      "The result is:  5.0\n",
      "The result is:  2.5\n",
      "The result is:  1.25\n"
     ]
    }
   ],
   "source": [
    "# Proper recursion setup, Option 1\n",
    "def print_divisors(res):\n",
    "    if res >= 1:\n",
    "        print(f'The result is: ', res) \n",
    "        print_divisors(res / 2)\n",
    "\n",
    "print_divisors(10)"
   ]
  },
  {
   "cell_type": "code",
   "execution_count": 2,
   "id": "019a4852-a877-4fc7-8001-6681bd3c4219",
   "metadata": {
    "pycharm": {
     "is_executing": false,
     "name": "#%%\n"
    }
   },
   "outputs": [
    {
     "name": "stdout",
     "output_type": "stream",
     "text": [
      "The result is:  10\n",
      "The result is:  5.0\n",
      "The result is:  2.5\n",
      "The result is:  1.25\n"
     ]
    }
   ],
   "source": [
    "# Proper recursion setup, Option 2\n",
    "def print_divisors(res):\n",
    "    if res < 1:\n",
    "    # stop execution here, if this is reached\n",
    "        return\n",
    "    print(f'The result is: ', res) \n",
    "    print_divisors(res / 2)\n",
    "    \n",
    "print_divisors(10)"
   ]
  },
  {
   "cell_type": "code",
   "execution_count": 3,
   "id": "08754c1f-b580-4045-b0b1-7791761aebd0",
   "metadata": {
    "pycharm": {
     "is_executing": false,
     "name": "#%%\n"
    }
   },
   "outputs": [
    {
     "name": "stdout",
     "output_type": "stream",
     "text": [
      "The result is:  10\n",
      "The result is:  5.0\n",
      "The result is:  2.5\n",
      "The result is:  1.25\n"
     ]
    }
   ],
   "source": [
    "# Iterative Solution #1 to same problem\n",
    "def print_divisors(res):\n",
    "  while res > 1:\n",
    "    print(f'The result is: ', res)\n",
    "    res = res / 2\n",
    "\n",
    "print_divisors(10)"
   ]
  },
  {
   "cell_type": "code",
   "execution_count": 1,
   "id": "d6e8d4b0-0b2c-4ca1-b086-de3cfd9de33a",
   "metadata": {
    "pycharm": {
     "is_executing": false,
     "name": "#%%\n"
    }
   },
   "outputs": [
    {
     "name": "stdout",
     "output_type": "stream",
     "text": [
      "The result is:  10\n",
      "The result is:  5.0\n",
      "The result is:  2.5\n",
      "The result is:  1.25\n"
     ]
    }
   ],
   "source": [
    "# Iterative Solution #2 to same problem\n",
    "def print_divisors(res):\n",
    "  while True:\n",
    "    print(f'The result is: ', res)\n",
    "    res = res / 2\n",
    "    \n",
    "    if res < 1:\n",
    "        break\n",
    "        \n",
    "print_divisors(10)"
   ]
  },
  {
   "cell_type": "markdown",
   "id": "6660d67b-7bbb-4d42-8dcf-3e1facf963fa",
   "metadata": {},
   "source": [
    "### Factorial (n!)"
   ]
  },
  {
   "cell_type": "code",
   "execution_count": 2,
   "id": "a72864d6-3267-4e5f-a6d5-3a7bb36ce382",
   "metadata": {
    "pycharm": {
     "name": "#%%\n"
    }
   },
   "outputs": [
    {
     "name": "stdout",
     "output_type": "stream",
     "text": [
      "1 120\n",
      "2 120\n",
      "3 120\n"
     ]
    }
   ],
   "source": [
    "def fac_for(n):\n",
    "    f = 1\n",
    "    for i in range(2, n+1):\n",
    "        f *= i\n",
    "    return f\n",
    "\n",
    "def fac_while(n):\n",
    "    f = n\n",
    "    while n > 1:\n",
    "        n -= 1\n",
    "        f *= n\n",
    "    return f\n",
    "    \n",
    "def fac_rec(n):\n",
    "    if n <= 1:\n",
    "        return 1\n",
    "    return n * fac_rec(n-1)\n",
    "\n",
    "print('1', fac_for(5))\n",
    "print('2', fac_while(5))\n",
    "print('3', fac_rec(5))"
   ]
  },
  {
   "cell_type": "code",
   "execution_count": 6,
   "id": "272d0815-d58d-46c7-9936-0d0c9233b56b",
   "metadata": {
    "pycharm": {
     "is_executing": false,
     "name": "#%%\n"
    }
   },
   "outputs": [
    {
     "name": "stdout",
     "output_type": "stream",
     "text": [
      "f = fac(5)\n",
      "fac(5) = 5 * fac(4)\n",
      "fac(4) = 4 * fac(3)\n",
      "fac(3) = 3 * fac(2)\n",
      "fac(2) = 2 * fac(1)\n",
      "fac(1) = 1\n",
      "=> 120\n"
     ]
    }
   ],
   "source": [
    "# visualize call stack\n",
    "def fac(n):\n",
    "    if n <= 1:\n",
    "        print(f'fac({n}) = 1')\n",
    "        return 1\n",
    "    print(f'fac({n}) = {n} * fac({n-1})')\n",
    "    return n * fac(n-1)\n",
    "print('f = fac(5)')\n",
    "f = fac(5)\n",
    "print('=>', f)"
   ]
  },
  {
   "cell_type": "code",
   "execution_count": null,
   "id": "1dc3cff4-c6d4-410b-b3cd-481cd8459b36",
   "metadata": {
    "pycharm": {
     "name": "#%%\n"
    }
   },
   "outputs": [],
   "source": [
    "# what's the problem here?\n",
    "def fac(n):\n",
    "    if n <= 1:\n",
    "        return 1\n",
    "    return n * fac(n)\n",
    "fac(5)"
   ]
  },
  {
   "cell_type": "markdown",
   "id": "104f0fb1-a669-4a44-95d9-303883529f00",
   "metadata": {
    "pycharm": {
     "name": "#%% md\n"
    }
   },
   "source": [
    "### Exponential (n**x)"
   ]
  },
  {
   "cell_type": "code",
   "execution_count": 3,
   "id": "5c270c8a-28dc-44fa-ac58-aaa966f49750",
   "metadata": {
    "pycharm": {
     "is_executing": false,
     "name": "#%%\n"
    }
   },
   "outputs": [
    {
     "name": "stdout",
     "output_type": "stream",
     "text": [
      "1 125\n",
      "2 125\n",
      "3 125\n",
      "4 125\n"
     ]
    }
   ],
   "source": [
    "def exp_for(n, x):\n",
    "    result = 1\n",
    "    for i in range(x):\n",
    "        result *= n\n",
    "    return result\n",
    "\n",
    "def exp_while(n, x):\n",
    "    result = 1\n",
    "    while x > 0:\n",
    "        result *= n\n",
    "        x -= 1\n",
    "    return result\n",
    "\n",
    "def exp_rec(n, x):\n",
    "    if x == 0:\n",
    "        return 1\n",
    "    return n * exp_rec(n, x-1)\n",
    "\n",
    "print('1', exp_for(5, 3))\n",
    "print('2', exp_while(5, 3))\n",
    "print('3', exp_rec(5, 3))\n",
    "print('4', 5**3)"
   ]
  },
  {
   "cell_type": "code",
   "execution_count": 4,
   "id": "f3667c4d-dd86-4073-9448-eb4aa1771c85",
   "metadata": {
    "pycharm": {
     "name": "#%%\n"
    }
   },
   "outputs": [
    {
     "name": "stdout",
     "output_type": "stream",
     "text": [
      "res = exp(2, 5)\n",
      "exp(2,5) = 2 * exp(2, 4)\n",
      "exp(2,4) = 2 * exp(2, 3)\n",
      "exp(2,3) = 2 * exp(2, 2)\n",
      "exp(2,2) = 2 * exp(2, 1)\n",
      "exp(2,1) = 2 * exp(2, 0)\n",
      "exp(2,0) = 1\n",
      "=> 32\n"
     ]
    }
   ],
   "source": [
    "# visualize call stack\n",
    "def exp(n, x):\n",
    "    if x == 0:\n",
    "        print(f'exp({n},{x}) = 1')\n",
    "        return 1\n",
    "    print(f'exp({n},{x}) = {n} * exp({n}, {x-1})')\n",
    "    return n * exp(n, x-1)\n",
    "\n",
    "print('res = exp(2, 5)')\n",
    "res = exp(2,5)\n",
    "print('=>', res)"
   ]
  },
  {
   "cell_type": "code",
   "execution_count": null,
   "id": "7a4a17a9-6c49-4742-99a1-fc21abd942c5",
   "metadata": {
    "pycharm": {
     "name": "#%%\n"
    }
   },
   "outputs": [],
   "source": [
    "# what's the problem here?\n",
    "def exp(n, x):\n",
    "    if x == 0:\n",
    "        return 1\n",
    "    return n * exp(n, x)\n",
    "exp(5,3)"
   ]
  },
  {
   "cell_type": "markdown",
   "id": "29d38748-48e2-4a85-99e4-cce280a095b2",
   "metadata": {},
   "source": [
    "### Fibonacci Numbers"
   ]
  },
  {
   "cell_type": "code",
   "execution_count": 2,
   "id": "6d97791c-2ee8-428b-929f-bf9f3ec5630f",
   "metadata": {
    "pycharm": {
     "name": "#%%\n"
    }
   },
   "outputs": [
    {
     "name": "stdout",
     "output_type": "stream",
     "text": [
      "Recursive 13\n",
      "For 13\n"
     ]
    }
   ],
   "source": [
    "# Even more complex example, but \"most real\" one\n",
    "# n-th fibonacci numbers\n",
    "\n",
    "# recursive\n",
    "def fib_rec(n):\n",
    "    if n == 1: # first number is 0\n",
    "        return 0\n",
    "    elif n == 2: # second number is 1: do this manually here\n",
    "        return 1\n",
    "    return fib_rec(n-2) + fib_rec(n-1)\n",
    "\n",
    "# Iterative with for\n",
    "def fib_for(n):\n",
    "    num_1 = 0\n",
    "    num_2 = 1\n",
    "    for i in range(0, n):\n",
    "        num_1 = num_2\n",
    "        num_2 = num_1 + num_2\n",
    "    return num_1\n",
    "\n",
    "print('Recursive', fib_rec(8))\n",
    "print('For', fib_rec(8))"
   ]
  },
  {
   "cell_type": "markdown",
   "id": "dd02a6f7-ff0a-444f-81c3-479cf5480aff",
   "metadata": {},
   "source": [
    "### Binary converter"
   ]
  },
  {
   "cell_type": "code",
   "execution_count": 8,
   "id": "d978c900-2557-4a8a-9520-15aca1977b40",
   "metadata": {},
   "outputs": [
    {
     "name": "stdin",
     "output_type": "stream",
     "text": [
      "Enter a decimal number:  16\n"
     ]
    },
    {
     "name": "stdout",
     "output_type": "stream",
     "text": [
      "1 0 0 0 0 "
     ]
    }
   ],
   "source": [
    "def convert(x):\n",
    "    if x == 0:\n",
    "        return\n",
    "    convert(int(x / 2))\n",
    "    print(x % 2, end=' ')\n",
    "\n",
    "\n",
    "x = int(input('Enter a decimal number: '))\n",
    "convert(x)"
   ]
  },
  {
   "cell_type": "markdown",
   "id": "92d05e54-9be9-4163-94fd-900dd9cb4e56",
   "metadata": {},
   "source": [
    "### Computing permutations"
   ]
  },
  {
   "cell_type": "code",
   "execution_count": 59,
   "id": "d13e4bb5-64b6-41ba-9c36-20ed25518018",
   "metadata": {},
   "outputs": [
    {
     "name": "stdin",
     "output_type": "stream",
     "text": [
      "Enter a number:  3\n"
     ]
    },
    {
     "data": {
      "text/plain": [
       "['abc', 'acb', 'bac', 'bca', 'cab', 'cba']"
      ]
     },
     "execution_count": 59,
     "metadata": {},
     "output_type": "execute_result"
    }
   ],
   "source": [
    "def permutations(s):\n",
    "    if len(s) == 1:\n",
    "        return s\n",
    "    else:\n",
    "        result = []\n",
    "        for i in range(len(s)):\n",
    "            perms = permutations(s[:i] + s[i+1:])\n",
    "            for perm in perms:\n",
    "                result.append(s[i] + perm)\n",
    "        return result\n",
    "\n",
    "\n",
    "n = int(input('Enter a number: '))\n",
    "permutations('abcdefghijklmnopqrstuvwxyz'[:n])"
   ]
  },
  {
   "cell_type": "markdown",
   "id": "1abe037d-e11b-4296-946e-4cfad57c0629",
   "metadata": {},
   "source": [
    "### Drawing fractals"
   ]
  },
  {
   "cell_type": "code",
   "execution_count": 56,
   "id": "b8e0157b-0677-4581-a26e-7df5a34e7da2",
   "metadata": {},
   "outputs": [
    {
     "data": {
      "image/png": "[encoded data removed]",
      "text/plain": [
       "<Figure size 432x288 with 1 Axes>"
      ]
     },
     "metadata": {
      "needs_background": "light"
     },
     "output_type": "display_data"
    }
   ],
   "source": [
    "import matplotlib.pyplot as plt\n",
    "\n",
    "\n",
    "def setup():\n",
    "    plt.axis('off')\n",
    "    plt.gca().set_aspect('equal')\n",
    "\n",
    "\n",
    "def draw_square(x, y, a):\n",
    "    x1, y1 = [x, x], [y, y]\n",
    "    x2, y2 = [x + a, x + a], [y, y]\n",
    "    x3, y3 = [x + a, x + a], [y + a, y + a]\n",
    "    x4, y4 = [x, x], [y + a, y + a]\n",
    "    x = [x1, x2, x3, x4]\n",
    "    y = [y1, y2, y3, y4]\n",
    "    plt.fill(x, y, color='lightgrey', edgecolor='purple')\n",
    "\n",
    "\n",
    "def draw(n, x, y, a):\n",
    "    if n == 0:\n",
    "        return\n",
    "    else:\n",
    "        draw_square(x, y, a)\n",
    "        draw(n - 1, x - a / 4, y - a / 4, a / 2)\n",
    "        draw(n - 1, x - a / 4, y + 3 * a / 4, a / 2)\n",
    "        draw(n - 1, x + 3 * a / 4, y - a / 4, a / 2)\n",
    "        draw(n - 1, x + 3 * a / 4, y + 3 * a / 4, a / 2)\n",
    "    \n",
    "setup()\n",
    "draw(3, 10, 10, 6)"
   ]
  }
 ],
 "metadata": {
  "kernelspec": {
   "display_name": "Python 3 (ipykernel)",
   "language": "python",
   "name": "python3"
  },
  "language_info": {
   "codemirror_mode": {
    "name": "ipython",
    "version": 3
   },
   "file_extension": ".py",
   "mimetype": "text/x-python",
   "name": "python",
   "nbconvert_exporter": "python",
   "pygments_lexer": "ipython3",
   "version": "3.10.4"
  }
 },
 "nbformat": 4,
 "nbformat_minor": 5
}
